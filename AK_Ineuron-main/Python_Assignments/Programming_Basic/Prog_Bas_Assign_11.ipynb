{
 "cells": [
  {
   "cell_type": "markdown",
   "id": "1fae6ca3",
   "metadata": {},
   "source": [
    "### 1.\tWrite a Python program to find words which are greater than given length k"
   ]
  },
  {
   "cell_type": "code",
   "execution_count": 1,
   "id": "75182cc8",
   "metadata": {},
   "outputs": [
    {
     "name": "stdout",
     "output_type": "stream",
     "text": [
      "Enter the length threshold:4\n",
      "Enter the number of words to be checked:4\n",
      "Enter the word:Hi\n",
      "Enter the word:Hello\n",
      "Enter the word:There\n",
      "Enter the word:Bye\n",
      "Words with lenght more than threshold are: ['Hello', 'There']\n"
     ]
    }
   ],
   "source": [
    "k=int(input(\"Enter the length threshold:\"))\n",
    "n=int(input(\"Enter the number of words to be checked:\"))\n",
    "l=[]\n",
    "lks=[]\n",
    "\n",
    "for i in range(n):\n",
    "    l.append(input(\"Enter the word:\"))\n",
    "\n",
    "for i in l:\n",
    "    if len(i)>k:\n",
    "        lks.append(i)\n",
    "\n",
    "print(\"Words with lenght more than threshold are:\",lks)"
   ]
  },
  {
   "cell_type": "markdown",
   "id": "4c3c6664",
   "metadata": {},
   "source": [
    "### 2.\tWrite a Python program for removing i-th character from a string"
   ]
  },
  {
   "cell_type": "code",
   "execution_count": 3,
   "id": "99309222",
   "metadata": {},
   "outputs": [
    {
     "name": "stdout",
     "output_type": "stream",
     "text": [
      "Enter the dtring to be operatedMachine\n",
      "Enter the number of character to be removed:3\n",
      "operated string: Mahine\n"
     ]
    }
   ],
   "source": [
    "s= input(\"Enter the dtring to be operated\")\n",
    "i= int(input(\"Enter the number of character to be removed:\"))\n",
    "i=i-1\n",
    "s2=\"\"\n",
    "\n",
    "for j in range(len(s)):\n",
    "    if j != i :\n",
    "        s2=s2+s[j]\n",
    "\n",
    "print(\"operated string:\",s2)"
   ]
  },
  {
   "cell_type": "markdown",
   "id": "8f966fca",
   "metadata": {},
   "source": [
    "### 3.\tWrite a Python program to split and join a string"
   ]
  },
  {
   "cell_type": "code",
   "execution_count": 4,
   "id": "e004d5b0",
   "metadata": {},
   "outputs": [],
   "source": [
    "# Spliting the strings\n",
    "def split_string (s,n):\n",
    "    \"\"\"This is a function to split given string into two substrings at given index\"\"\"\n",
    "    n=n-1\n",
    "    out1=\"\"\n",
    "    out2=\"\"\n",
    "    for i in range(len(s)):\n",
    "        if i<n:\n",
    "            out1=out1+s[i]\n",
    "        else:\n",
    "            out2=out2+s[i]\n",
    "    \n",
    "    return out1,out2"
   ]
  },
  {
   "cell_type": "code",
   "execution_count": 6,
   "id": "c816a388",
   "metadata": {},
   "outputs": [
    {
     "data": {
      "text/plain": [
       "('Hi', 'There!')"
      ]
     },
     "execution_count": 6,
     "metadata": {},
     "output_type": "execute_result"
    }
   ],
   "source": [
    "split_string(\"HiThere!\",3)"
   ]
  },
  {
   "cell_type": "code",
   "execution_count": 7,
   "id": "83a18a37",
   "metadata": {},
   "outputs": [],
   "source": [
    "# Combining the strings\n",
    "def combine_strings(s1,s2):\n",
    "    \"\"\"This is a function to combine two strings\"\"\"\n",
    "    s=\"\"\n",
    "    s=s1+s2\n",
    "    return s"
   ]
  },
  {
   "cell_type": "code",
   "execution_count": 8,
   "id": "62939036",
   "metadata": {},
   "outputs": [
    {
     "data": {
      "text/plain": [
       "'MachineLearning'"
      ]
     },
     "execution_count": 8,
     "metadata": {},
     "output_type": "execute_result"
    }
   ],
   "source": [
    "combine_strings(\"Machine\",\"Learning\")"
   ]
  },
  {
   "cell_type": "markdown",
   "id": "996ebb08",
   "metadata": {},
   "source": [
    "### 4.\tWrite a Python to check if a given string is binary string or not"
   ]
  },
  {
   "cell_type": "code",
   "execution_count": 10,
   "id": "d9d3a6e2",
   "metadata": {},
   "outputs": [
    {
     "name": "stdout",
     "output_type": "stream",
     "text": [
      "Enter the string to be checked for binary:abc\n",
      "Entered string is not binary\n"
     ]
    }
   ],
   "source": [
    "s=input(\"Enter the string to be checked for binary:\")\n",
    "d={}\n",
    "for i in s:\n",
    "    d[i]=0\n",
    "if len(d)==2:\n",
    "    print(\"Entered string is binary\")\n",
    "else:\n",
    "    print(\"Entered string is not binary\")"
   ]
  },
  {
   "cell_type": "markdown",
   "id": "685624a6",
   "metadata": {},
   "source": [
    "### 5.\tWrite a Python program to find uncommon words from two Strings"
   ]
  },
  {
   "cell_type": "code",
   "execution_count": 17,
   "id": "a460abb9",
   "metadata": {},
   "outputs": [
    {
     "name": "stdout",
     "output_type": "stream",
     "text": [
      "Enter string 1:hi hello\n",
      "Enter string 2:hello there\n",
      "Uncommon words from both strings are: ['hi', 'there']\n"
     ]
    }
   ],
   "source": [
    "s1=input(\"Enter string 1:\")\n",
    "s1=s1+\" \"\n",
    "s2=input(\"Enter string 2:\")\n",
    "s2=s2+\" \"\n",
    "words1=[]\n",
    "words2=[]\n",
    "temp=\"\"\n",
    "uncommon=[]\n",
    "\n",
    "for i in s1:\n",
    "    if i != \" \":\n",
    "        temp=temp+i\n",
    "    else:\n",
    "        words1.append(temp)\n",
    "        temp=\"\"\n",
    "\n",
    "for i in s2:\n",
    "    if i != \" \":\n",
    "        temp=temp+i\n",
    "    else:\n",
    "        words2.append(temp)\n",
    "        temp=\"\"\n",
    "\n",
    "for i in words1:\n",
    "    flag=1\n",
    "    for j in words2:\n",
    "        if i==j:\n",
    "            flag=0\n",
    "    if flag==1:\n",
    "        uncommon.append(i)\n",
    "\n",
    "for i in words2:\n",
    "    flag=1\n",
    "    for j in words1:\n",
    "        if i==j:\n",
    "            flag=0\n",
    "    if flag==1:\n",
    "        uncommon.append(i)\n",
    "\n",
    "print(\"Uncommon words from both strings are:\",uncommon)"
   ]
  },
  {
   "cell_type": "markdown",
   "id": "fee704db",
   "metadata": {},
   "source": [
    "### 6.\tWrite a Python to find all duplicate characters in string"
   ]
  },
  {
   "cell_type": "code",
   "execution_count": 19,
   "id": "32d0a51a",
   "metadata": {},
   "outputs": [
    {
     "name": "stdout",
     "output_type": "stream",
     "text": [
      "Enter string to be checked for duplicate characters:Happy\n",
      "Duplicate characters from string are: ['p']\n"
     ]
    }
   ],
   "source": [
    "s= input(\"Enter string to be checked for duplicate characters:\")\n",
    "d={}\n",
    "duplicates=[]\n",
    "for i in s:\n",
    "    d[i]=0\n",
    "for i in s:\n",
    "    d[i]=d[i]+1\n",
    "for i in d:\n",
    "    if d[i]>1:\n",
    "        duplicates.append(i)\n",
    "print(\"Duplicate characters from string are:\",duplicates)"
   ]
  },
  {
   "cell_type": "markdown",
   "id": "bc7e2f9e",
   "metadata": {},
   "source": [
    "### 7.\tWrite a Python Program to check if a string contains any special character"
   ]
  },
  {
   "cell_type": "code",
   "execution_count": 20,
   "id": "87462f63",
   "metadata": {},
   "outputs": [
    {
     "name": "stdout",
     "output_type": "stream",
     "text": [
      "Enter a string to be checked for special characters: Happy!\n",
      "String contains special characters\n"
     ]
    }
   ],
   "source": [
    "special=[\"!\",\"#\",\"$\",\"%\",\"&\",\"(\",\")\",\"*\",\"+\",\"-\",\".\",\"/\",\"<\",\"=\",\">\",\"?\",\"{\",\"}\",\"[\",\"]\",\"_\"]\n",
    "s=input(\"Enter a string to be checked for special characters: \")\n",
    "flag=0\n",
    "\n",
    "for i in s:\n",
    "    for j in special:\n",
    "        if i == j:\n",
    "            print(\"String contains special characters\")\n",
    "            flag=1\n",
    "            break\n",
    "    if flag==1:\n",
    "        break\n",
    "\n",
    "if flag==0:\n",
    "    print(\"String does not contains special characters\")"
   ]
  },
  {
   "cell_type": "code",
   "execution_count": null,
   "id": "612c916f",
   "metadata": {},
   "outputs": [],
   "source": []
  }
 ],
 "metadata": {
  "kernelspec": {
   "display_name": "Python 3",
   "language": "python",
   "name": "python3"
  },
  "language_info": {
   "codemirror_mode": {
    "name": "ipython",
    "version": 3
   },
   "file_extension": ".py",
   "mimetype": "text/x-python",
   "name": "python",
   "nbconvert_exporter": "python",
   "pygments_lexer": "ipython3",
   "version": "3.8.8"
  }
 },
 "nbformat": 4,
 "nbformat_minor": 5
}
