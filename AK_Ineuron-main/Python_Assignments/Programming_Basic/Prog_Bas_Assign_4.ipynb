{
 "cells": [
  {
   "cell_type": "markdown",
   "id": "b38d4780",
   "metadata": {},
   "source": [
    "### 1.\tWrite a Python Program to Find the Factorial of a Number"
   ]
  },
  {
   "cell_type": "code",
   "execution_count": 1,
   "id": "c5e695d0",
   "metadata": {},
   "outputs": [
    {
     "name": "stdout",
     "output_type": "stream",
     "text": [
      "Enter the number whos factorial to be found:5\n",
      "The factorial of entered number is: 120\n"
     ]
    }
   ],
   "source": [
    "try:\n",
    "    no= int(input(\"Enter the number whos factorial to be found:\"))\n",
    "    factorial=1\n",
    "    for i in range (no,1,-1):\n",
    "        factorial=factorial*i\n",
    "    print(\"The factorial of entered number is:\",factorial)\n",
    "except Exception as e:\n",
    "    print(\"Could not compute factorial:\",e)"
   ]
  },
  {
   "cell_type": "code",
   "execution_count": 2,
   "id": "a4e8349a",
   "metadata": {},
   "outputs": [
    {
     "name": "stdout",
     "output_type": "stream",
     "text": [
      "Enter the number whos factorial to be found:five\n",
      "Could not compute factorial: invalid literal for int() with base 10: 'five'\n"
     ]
    }
   ],
   "source": [
    "try:\n",
    "    no= int(input(\"Enter the number whos factorial to be found:\"))\n",
    "    factorial=1\n",
    "    for i in range (no,1,-1):\n",
    "        factorial=factorial*i\n",
    "    print(\"The factorial of entered number is:\",factorial)\n",
    "except Exception as e:\n",
    "    print(\"Could not compute factorial:\",e)"
   ]
  },
  {
   "cell_type": "markdown",
   "id": "7d332f54",
   "metadata": {},
   "source": [
    "### 2.\tWrite a Python Program to Display the multiplication Table"
   ]
  },
  {
   "cell_type": "code",
   "execution_count": 3,
   "id": "1f20382e",
   "metadata": {},
   "outputs": [
    {
     "name": "stdout",
     "output_type": "stream",
     "text": [
      "Enter the number whos table to be found:6\n",
      "The table of entered number is:\n",
      "6\n",
      "12\n",
      "18\n",
      "24\n",
      "30\n",
      "36\n",
      "42\n",
      "48\n",
      "54\n",
      "60\n"
     ]
    }
   ],
   "source": [
    "try:\n",
    "    no= int(input(\"Enter the number whos table to be found:\"))\n",
    "    print(\"The table of entered number is:\")\n",
    "    for i in range (1,11,1):\n",
    "        print(i*no)\n",
    "except Exception as e:\n",
    "    print(\"Table of entered number could not be found:\",e)"
   ]
  },
  {
   "cell_type": "code",
   "execution_count": 4,
   "id": "5d7d8480",
   "metadata": {},
   "outputs": [
    {
     "name": "stdout",
     "output_type": "stream",
     "text": [
      "Enter the number whos table to be found:six\n",
      "Table of entered number could not be found: invalid literal for int() with base 10: 'six'\n"
     ]
    }
   ],
   "source": [
    "try:\n",
    "    no= int(input(\"Enter the number whos table to be found:\"))\n",
    "    print(\"The table of entered number is:\")\n",
    "    for i in range (1,11,1):\n",
    "        print(i*no)\n",
    "except Exception as e:\n",
    "    print(\"Table of entered number could not be found:\",e)"
   ]
  },
  {
   "cell_type": "markdown",
   "id": "fb23cffe",
   "metadata": {},
   "source": [
    "### 3.\tWrite a Python Program to Print the Fibonacci sequence"
   ]
  },
  {
   "cell_type": "code",
   "execution_count": 3,
   "id": "f08c5620",
   "metadata": {},
   "outputs": [
    {
     "name": "stdout",
     "output_type": "stream",
     "text": [
      "Enter the number of terms required from Fibonacci sequence13\n",
      "0\n",
      "1\n",
      "1\n",
      "2\n",
      "3\n",
      "5\n",
      "8\n",
      "13\n",
      "21\n",
      "34\n",
      "55\n",
      "89\n",
      "144\n"
     ]
    }
   ],
   "source": [
    "try:\n",
    "    no= int(input(\"Enter the number of terms required from Fibonacci sequence\"))\n",
    "    a=0\n",
    "    b=1\n",
    "    if no ==1:\n",
    "        print (a)\n",
    "    if no ==2:\n",
    "        print(a)\n",
    "        print(b)\n",
    "    else:\n",
    "        print(a)\n",
    "        print(b)\n",
    "        for i in range(1,no-1,1):\n",
    "            c=a+b\n",
    "            print(c)\n",
    "            a=b\n",
    "            b=c\n",
    "\n",
    "except Exception as e:\n",
    "    print(\"Incorrect input\",e)"
   ]
  },
  {
   "cell_type": "code",
   "execution_count": 4,
   "id": "6a278be5",
   "metadata": {},
   "outputs": [
    {
     "name": "stdout",
     "output_type": "stream",
     "text": [
      "Enter the number of terms required from Fibonacci sequencethirteen\n",
      "Incorrect input invalid literal for int() with base 10: 'thirteen'\n"
     ]
    }
   ],
   "source": [
    "try:\n",
    "    no= int(input(\"Enter the number of terms required from Fibonacci sequence\"))\n",
    "    a=0\n",
    "    b=1\n",
    "    if no ==1:\n",
    "        print (a)\n",
    "    if no ==2:\n",
    "        print(a)\n",
    "        print(b)\n",
    "    else:\n",
    "        print(a)\n",
    "        print(b)\n",
    "        for i in range(1,no-1,1):\n",
    "            c=a+b\n",
    "            print(c)\n",
    "            a=b\n",
    "            b=c\n",
    "\n",
    "except Exception as e:\n",
    "    print(\"Incorrect input\",e)"
   ]
  },
  {
   "cell_type": "markdown",
   "id": "64bd135e",
   "metadata": {},
   "source": [
    "### 4.\tWrite a Python Program to Check Armstrong Number"
   ]
  },
  {
   "cell_type": "code",
   "execution_count": 9,
   "id": "82f667b2",
   "metadata": {},
   "outputs": [
    {
     "name": "stdout",
     "output_type": "stream",
     "text": [
      "Enter a number to be checked for Armstrong370\n",
      "Entered number is armstrong\n"
     ]
    }
   ],
   "source": [
    "try:\n",
    "    no_str = input(\"Enter a number to be checked for Armstrong\")\n",
    "    no_int = int(no_str)\n",
    "    cubesum=0\n",
    "    for i in no_str:\n",
    "        temp = int(i)\n",
    "        cubesum=cubesum+ temp**3\n",
    "    if cubesum == no_int:\n",
    "        print(\"Entered number is armstrong\")\n",
    "    else:\n",
    "         print(\"Entered number is not armstrong\")\n",
    "except Exception as e:\n",
    "    print(\"Could not check:\",e)"
   ]
  },
  {
   "cell_type": "code",
   "execution_count": 10,
   "id": "eb65c3eb",
   "metadata": {},
   "outputs": [
    {
     "name": "stdout",
     "output_type": "stream",
     "text": [
      "Enter a number to be checked for Armstrongthree hundred and seventy\n",
      "Could not check: invalid literal for int() with base 10: 'three hundred and seventy'\n"
     ]
    }
   ],
   "source": [
    "try:\n",
    "    no_str = input(\"Enter a number to be checked for Armstrong\")\n",
    "    no_int = int(no_str)\n",
    "    cubesum=0\n",
    "    for i in no_str:\n",
    "        temp = int(i)\n",
    "        cubesum=cubesum+ temp**3\n",
    "    if cubesum == no_int:\n",
    "        print(\"Entered number is armstrong\")\n",
    "    else:\n",
    "         print(\"Entered number is not armstrong\")\n",
    "except Exception as e:\n",
    "    print(\"Could not check:\",e)"
   ]
  },
  {
   "cell_type": "markdown",
   "id": "992ea021",
   "metadata": {},
   "source": [
    "### 5.\tWrite a Python Program to Find Armstrong Number in an Interval"
   ]
  },
  {
   "cell_type": "code",
   "execution_count": 11,
   "id": "566741a4",
   "metadata": {},
   "outputs": [
    {
     "name": "stdout",
     "output_type": "stream",
     "text": [
      "Enter upper limit of interval to be checked for armstrong numbers500\n",
      "Enter lower limit of interval to be checked for armstrong numbers1\n",
      "Armstrong numbers in given range are: [1, 153, 370, 371, 407]\n"
     ]
    }
   ],
   "source": [
    "try:\n",
    "    ul = int(input(\"Enter upper limit of interval to be checked for armstrong numbers\"))\n",
    "    ll = int(input(\"Enter lower limit of interval to be checked for armstrong numbers\"))\n",
    "    armstrongs=[]\n",
    "\n",
    "    for i in range(ll,ul+1,1):\n",
    "        no_str=str(i)\n",
    "        cubesum=0\n",
    "        for j in no_str:\n",
    "            k=int(j)\n",
    "            cubesum=cubesum+k**3\n",
    "        if cubesum == i:\n",
    "            armstrongs.append(i)\n",
    "\n",
    "    print(\"Armstrong numbers in given range are:\",armstrongs)\n",
    "    \n",
    "except Exception as e:\n",
    "    print(\"Could not find:\",e)"
   ]
  },
  {
   "cell_type": "code",
   "execution_count": 12,
   "id": "bb5ca2b7",
   "metadata": {},
   "outputs": [
    {
     "name": "stdout",
     "output_type": "stream",
     "text": [
      "Enter upper limit of interval to be checked for armstrong numbersfive hundred\n",
      "Could not find: invalid literal for int() with base 10: 'five hundred'\n"
     ]
    }
   ],
   "source": [
    "try:\n",
    "    ul = int(input(\"Enter upper limit of interval to be checked for armstrong numbers\"))\n",
    "    ll = int(input(\"Enter lower limit of interval to be checked for armstrong numbers\"))\n",
    "    armstrongs=[]\n",
    "\n",
    "    for i in range(ll,ul+1,1):\n",
    "        no_str=str(i)\n",
    "        cubesum=0\n",
    "        for j in no_str:\n",
    "            k=int(j)\n",
    "            cubesum=cubesum+k**3\n",
    "        if cubesum == i:\n",
    "            armstrongs.append(i)\n",
    "\n",
    "    print(\"Armstrong numbers in given range are:\",armstrongs)\n",
    "    \n",
    "except Exception as e:\n",
    "    print(\"Could not find:\",e)"
   ]
  },
  {
   "cell_type": "markdown",
   "id": "6d3db743",
   "metadata": {},
   "source": [
    "### 6.\tWrite a Python Program to Find the Sum of Natural Numbers"
   ]
  },
  {
   "cell_type": "code",
   "execution_count": 13,
   "id": "27e0440f",
   "metadata": {},
   "outputs": [
    {
     "name": "stdout",
     "output_type": "stream",
     "text": [
      "Enter the count till which natural number sum is required:5\n",
      "Sum of first 5 natural numbers is 15.0\n"
     ]
    }
   ],
   "source": [
    "no = int(input(\"Enter the count till which natural number sum is required:\"))\n",
    "print (\"Sum of first\",no,\"natural numbers is\",(no*(no+1))/2)"
   ]
  },
  {
   "cell_type": "code",
   "execution_count": null,
   "id": "22b70edd",
   "metadata": {},
   "outputs": [],
   "source": []
  }
 ],
 "metadata": {
  "kernelspec": {
   "display_name": "Python 3",
   "language": "python",
   "name": "python3"
  },
  "language_info": {
   "codemirror_mode": {
    "name": "ipython",
    "version": 3
   },
   "file_extension": ".py",
   "mimetype": "text/x-python",
   "name": "python",
   "nbconvert_exporter": "python",
   "pygments_lexer": "ipython3",
   "version": "3.8.8"
  }
 },
 "nbformat": 4,
 "nbformat_minor": 5
}
