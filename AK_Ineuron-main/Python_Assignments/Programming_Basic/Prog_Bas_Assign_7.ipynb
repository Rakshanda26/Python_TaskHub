{
 "cells": [
  {
   "cell_type": "markdown",
   "id": "d0574b2f",
   "metadata": {},
   "source": [
    "### 1.\tWrite a Python Program to find sum of array"
   ]
  },
  {
   "cell_type": "code",
   "execution_count": 1,
   "id": "3e5d59b3",
   "metadata": {},
   "outputs": [],
   "source": [
    "import array"
   ]
  },
  {
   "cell_type": "code",
   "execution_count": 11,
   "id": "bcecc031",
   "metadata": {},
   "outputs": [
    {
     "name": "stdout",
     "output_type": "stream",
     "text": [
      "Enter the number of elements for Array:3\n",
      "Enter element10\n",
      "Enter element20\n",
      "Enter element30\n",
      "Sum of elements of array is: 60\n"
     ]
    }
   ],
   "source": [
    "no= int(input(\"Enter the number of elements for Array:\"))\n",
    "l=[]\n",
    "\n",
    "for i in range(no):\n",
    "    l.append(int(input(\"Enter element\")))\n",
    "    \n",
    "a= array.array('i',l)\n",
    "sum=0\n",
    "for i in a:\n",
    "    sum=sum+i\n",
    "print(\"Sum of elements of array is:\",sum)"
   ]
  },
  {
   "cell_type": "markdown",
   "id": "bcf5ba1e",
   "metadata": {},
   "source": [
    "### 2.\tWrite a Python Program to find largest element in an array"
   ]
  },
  {
   "cell_type": "code",
   "execution_count": 12,
   "id": "41840f5f",
   "metadata": {},
   "outputs": [
    {
     "name": "stdout",
     "output_type": "stream",
     "text": [
      "Enter the number of elements for Array:4\n",
      "Enter element12\n",
      "Enter element45\n",
      "Enter element67\n",
      "Enter element89\n",
      "Largest number from entered array is: 89\n"
     ]
    }
   ],
   "source": [
    "no= int(input(\"Enter the number of elements for Array:\"))\n",
    "l=[]\n",
    "\n",
    "for i in range(no):\n",
    "    l.append(int(input(\"Enter element\")))\n",
    "    \n",
    "a= array.array('i',l)\n",
    "\n",
    "max=0\n",
    "for i in a:\n",
    "    if i>max:\n",
    "        max=i\n",
    "\n",
    "print(\"Largest number from entered array is:\",max)"
   ]
  },
  {
   "cell_type": "markdown",
   "id": "441b021e",
   "metadata": {},
   "source": [
    "### 3.\tWrite a Python Program for array rotation"
   ]
  },
  {
   "cell_type": "code",
   "execution_count": 14,
   "id": "c45e671a",
   "metadata": {},
   "outputs": [
    {
     "name": "stdout",
     "output_type": "stream",
     "text": [
      "Enter the number of elements for Array:5\n",
      "Enter element1\n",
      "Enter element2\n",
      "Enter element3\n",
      "Enter element4\n",
      "Enter element5\n",
      "array('i', [5, 4, 3, 2, 1])\n"
     ]
    }
   ],
   "source": [
    "no= int(input(\"Enter the number of elements for Array:\"))\n",
    "l=[]\n",
    "\n",
    "for i in range(no):\n",
    "    l.append(int(input(\"Enter element\")))\n",
    "    \n",
    "a= array.array('i',l)\n",
    "\n",
    "rotate_list=[]\n",
    "\n",
    "for i in range(len(a)-1,-1,-1):\n",
    "    rotate_list.append(a[i])\n",
    "    \n",
    "a_rotate=array.array('i',rotate_list)\n",
    "print(a_rotate)"
   ]
  },
  {
   "cell_type": "markdown",
   "id": "1627c0d3",
   "metadata": {},
   "source": [
    "### 4.\tWrite a Python Program to Split the array and add the first part to the end"
   ]
  },
  {
   "cell_type": "code",
   "execution_count": null,
   "id": "739be8ea",
   "metadata": {},
   "outputs": [],
   "source": [
    "no= int(input(\"Enter the number of elements for Array:\"))\n",
    "l=[]\n",
    "\n",
    "for i in range(no):\n",
    "    l.append(int(input(\"Enter element\")))\n",
    "    \n",
    "a= array.array('i',l)\n",
    "\n",
    "split = int(input(\"Enter the position of split\"))\n",
    "\n",
    "split_half_2=a[split:]\n",
    "split_half_1=a[:split]\n",
    "\n",
    "for i in split_half_1:\n",
    "    split_half_2.append(i)\n",
    "\n",
    "\n",
    "split_half_2"
   ]
  },
  {
   "cell_type": "markdown",
   "id": "caecad8f",
   "metadata": {},
   "source": [
    "### 5.\tWrite a Python Program to check if given array is Monotonic"
   ]
  },
  {
   "cell_type": "code",
   "execution_count": 27,
   "id": "1728240c",
   "metadata": {},
   "outputs": [
    {
     "name": "stdout",
     "output_type": "stream",
     "text": [
      "Enter the number of elements for Array:6\n",
      "Enter element12\n",
      "Enter element13\n",
      "Enter element14\n",
      "Enter element15\n",
      "Enter element16\n",
      "Enter element17\n",
      "Entered array is Monotonic\n"
     ]
    }
   ],
   "source": [
    "no= int(input(\"Enter the number of elements for Array:\"))\n",
    "l=[]\n",
    "change=[]\n",
    "flag=1\n",
    "\n",
    "for i in range(no):\n",
    "    l.append(int(input(\"Enter element\")))\n",
    "    \n",
    "a= array.array('i',l)\n",
    "\n",
    "for i in range(1,len(a)):\n",
    "    if a[i] > a[i-1]:\n",
    "        change.append(1)\n",
    "    elif a[i] < a[i-1]:\n",
    "        change.append(-1)\n",
    "    elif a[i] == a[i-1]:\n",
    "        change.append(0)\n",
    "\n",
    "for i in range(1,len(change)):\n",
    "    if change[i] != change[i-1]:\n",
    "        flag=0\n",
    "\n",
    "if flag==1:\n",
    "    print(\"Entered array is Monotonic\")\n",
    "\n",
    "else:\n",
    "    print(\"Entered array is not Monotonic\")\n",
    "    "
   ]
  },
  {
   "cell_type": "code",
   "execution_count": null,
   "id": "6f8da4fc",
   "metadata": {},
   "outputs": [],
   "source": []
  }
 ],
 "metadata": {
  "kernelspec": {
   "display_name": "Python 3",
   "language": "python",
   "name": "python3"
  },
  "language_info": {
   "codemirror_mode": {
    "name": "ipython",
    "version": 3
   },
   "file_extension": ".py",
   "mimetype": "text/x-python",
   "name": "python",
   "nbconvert_exporter": "python",
   "pygments_lexer": "ipython3",
   "version": "3.8.8"
  }
 },
 "nbformat": 4,
 "nbformat_minor": 5
}
