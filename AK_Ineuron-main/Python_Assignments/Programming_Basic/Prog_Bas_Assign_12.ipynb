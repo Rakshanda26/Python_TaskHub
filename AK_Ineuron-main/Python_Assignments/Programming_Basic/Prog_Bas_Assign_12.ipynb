{
 "cells": [
  {
   "cell_type": "markdown",
   "id": "05464e03",
   "metadata": {},
   "source": [
    "### 1.\tWrite a Python program to Extract Unique values dictionary values?"
   ]
  },
  {
   "cell_type": "code",
   "execution_count": 2,
   "id": "9b4fa49b",
   "metadata": {},
   "outputs": [
    {
     "name": "stdout",
     "output_type": "stream",
     "text": [
      "Enter the number of elements in a list: 5\n",
      "Enter the element: 11\n",
      "Enter the element: 12\n",
      "Enter the element: 12\n",
      "Enter the element: 13\n",
      "Enter the element: 13\n",
      "Unique values in entered list are: \n",
      "\n",
      "11\n",
      "12\n",
      "13\n"
     ]
    }
   ],
   "source": [
    "n= int(input(\"Enter the number of elements in a list: \"))\n",
    "l=[]\n",
    "d={}\n",
    "\n",
    "for i in range(n):\n",
    "    l.append(input(\"Enter the element: \"))\n",
    "\n",
    "for i in l:\n",
    "    d[i]=1\n",
    "\n",
    "print(\"\\n Unique values in entered list are:\")\n",
    "for i in d:\n",
    "    print(i)"
   ]
  },
  {
   "cell_type": "markdown",
   "id": "d070b348",
   "metadata": {},
   "source": [
    "### 2.\tWrite a Python program to find the sum of all items in a dictionary"
   ]
  },
  {
   "cell_type": "code",
   "execution_count": 4,
   "id": "1cdbec7c",
   "metadata": {},
   "outputs": [
    {
     "name": "stdout",
     "output_type": "stream",
     "text": [
      "Enter the number of elements in a list: 5\n",
      "Enter the element: 10\n",
      "Enter the element: 10\n",
      "Enter the element: 20\n",
      "Enter the element: 30\n",
      "Enter the element: 30\n",
      "Some of unique values from input is:  60\n"
     ]
    }
   ],
   "source": [
    "n= int(input(\"Enter the number of elements in a list: \"))\n",
    "l=[]\n",
    "d={}\n",
    "s=0\n",
    "\n",
    "for i in range(n):\n",
    "    l.append(input(\"Enter the element: \"))\n",
    "\n",
    "for i in l:\n",
    "    d[i]=1\n",
    "    \n",
    "for i in d:\n",
    "    s=s+int(i)\n",
    "\n",
    "print(\"Some of unique values from input is: \",s)"
   ]
  },
  {
   "cell_type": "markdown",
   "id": "ee052315",
   "metadata": {},
   "source": [
    "### 3.\tWrite a Python program to Merging two Dictionaries"
   ]
  },
  {
   "cell_type": "code",
   "execution_count": 5,
   "id": "17291b5d",
   "metadata": {},
   "outputs": [
    {
     "name": "stdout",
     "output_type": "stream",
     "text": [
      "Merged dictonary: {'K1': 10, 'K2': 20, 'K3': 30, 'K4': 40, 'K5': 50}\n"
     ]
    }
   ],
   "source": [
    "def merge_dicton (d1,d2):\n",
    "    for i in d2:\n",
    "        d1[i]=d2[i]\n",
    "    return d1\n",
    "\n",
    "d1={\"K1\":10,\"K2\":20,\"K3\":30}\n",
    "d2={\"K4\":40,\"K5\":50}\n",
    "print(\"Merged dictonary:\",merge_dicton(d1,d2))\n"
   ]
  },
  {
   "cell_type": "markdown",
   "id": "6db1f526",
   "metadata": {},
   "source": [
    "### 4.\tWrite a Python program to convert key-values list to flat dictionary"
   ]
  },
  {
   "cell_type": "code",
   "execution_count": 7,
   "id": "87f5864f",
   "metadata": {},
   "outputs": [
    {
     "name": "stdout",
     "output_type": "stream",
     "text": [
      "Enter the number of elements in a list: 5\n",
      "Enter the key: 1\n",
      "Enter the key: 2\n",
      "Enter the key: 3\n",
      "Enter the key: 4\n",
      "Enter the key: 5\n",
      "Enter the value: 10\n",
      "Enter the value: 20\n",
      "Enter the value: 30\n",
      "Enter the value: 40\n",
      "Enter the value: 50\n",
      "Created dictonary:  {'1': '10', '2': '20', '3': '30', '4': '40', '5': '50'}\n"
     ]
    }
   ],
   "source": [
    "n= int(input(\"Enter the number of elements in a list: \"))\n",
    "keys=[]\n",
    "values=[]\n",
    "d={}\n",
    "for i in range(n):\n",
    "    keys.append(input(\"Enter the key: \"))\n",
    "    \n",
    "for i in range(n):\n",
    "    values.append(input(\"Enter the value: \"))\n",
    "\n",
    "for i in range(n):\n",
    "    d[keys[i]]=values[i]\n",
    "    \n",
    "print(\"Created dictonary: \", d)"
   ]
  },
  {
   "cell_type": "markdown",
   "id": "53dc44ff",
   "metadata": {},
   "source": [
    "### 5.\tWrite a Python program to insertion at the beginning in OrderedDict"
   ]
  },
  {
   "cell_type": "code",
   "execution_count": 8,
   "id": "9914bc00",
   "metadata": {},
   "outputs": [
    {
     "name": "stdout",
     "output_type": "stream",
     "text": [
      "Inserted dictonary is:  {'K0': 0, 'K1': 10, 'K2': 20, 'K3': 30, 'K4': 40, 'K5': 50}\n"
     ]
    }
   ],
   "source": [
    "def insert_dict_pair(dicton,key,value):\n",
    "    d={}\n",
    "    d[key]=value\n",
    "    for i in dicton:\n",
    "        d[i]=dicton[i]\n",
    "    return d\n",
    "\n",
    "d= {\"K1\":10,\"K2\":20,\"K3\":30,\"K4\":40,\"K5\":50}\n",
    "key=\"K0\"\n",
    "value=0\n",
    "\n",
    "print(\"Inserted dictonary is: \",insert_dict_pair(d,key,value))"
   ]
  },
  {
   "cell_type": "markdown",
   "id": "fb63d42a",
   "metadata": {},
   "source": [
    "### 6.\tWrite a Python program to check order of character in string using OrderedDict()"
   ]
  },
  {
   "cell_type": "code",
   "execution_count": 18,
   "id": "723821d7",
   "metadata": {},
   "outputs": [
    {
     "name": "stdout",
     "output_type": "stream",
     "text": [
      "Unordered dictonary: \n",
      "K1 : 10\n",
      "K2 : 20\n",
      "K3 : 30\n",
      "K4 : 40\n",
      "K5 : 50\n",
      "K6 : 60\n",
      "\n",
      "Unordered dictonary: \n",
      "K10 : 10\n",
      "K20 : 20\n",
      "K30 : 30\n",
      "K40 : 40\n",
      "K50 : 50\n",
      "K60 : 60\n"
     ]
    }
   ],
   "source": [
    "from collections import OrderedDict\n",
    "d={}\n",
    "d[\"K1\"]=10\n",
    "d[\"K2\"]=20\n",
    "d[\"K3\"]=30\n",
    "d[\"K4\"]=40\n",
    "d[\"K5\"]=50\n",
    "d[\"K6\"]=60\n",
    "\n",
    "print(\"Unordered dictonary: \")\n",
    "for key,value in d.items():\n",
    "    print(key,\":\",value)\n",
    "\n",
    "od = OrderedDict()\n",
    "od[\"K10\"]=10\n",
    "od[\"K20\"]=20\n",
    "od[\"K30\"]=30\n",
    "od[\"K40\"]=40\n",
    "od[\"K50\"]=50\n",
    "od[\"K60\"]=60\n",
    "\n",
    "print(\"\\nUnordered dictonary: \")\n",
    "for key,value in od.items():\n",
    "    print(key,\":\",value)\n",
    "\n"
   ]
  },
  {
   "cell_type": "markdown",
   "id": "fce7804a",
   "metadata": {},
   "source": [
    "### 7.\tWrite a Python program to sort Python Dictionaries by Key or Value"
   ]
  },
  {
   "cell_type": "code",
   "execution_count": 34,
   "id": "7b8c644a",
   "metadata": {},
   "outputs": [
    {
     "name": "stdout",
     "output_type": "stream",
     "text": [
      "Enter 0 to sort dictonary by keys or 1 to sort dictonary by values 1\n",
      "Original dictonary is:  {1: 1, 5: 5, 2: 70, 4: 2, 3: 90}\n",
      "\n",
      "sorted dictonary is:  {3: 90, 2: 70, 5: 5, 4: 2, 1: 1}\n"
     ]
    }
   ],
   "source": [
    "def dict_sort (d,flag):\n",
    "    \"\"\"This is a function to sort the given dictonary by Key or Value (0: Key & 1: Value)\"\"\"\n",
    "    if flag==0:\n",
    "        op={}\n",
    "        for i in range(len(d)):\n",
    "            maxi=-1000\n",
    "            for j in d:\n",
    "                if j>maxi:\n",
    "                    maxi=j\n",
    "            op[maxi]=d[maxi]\n",
    "            d.pop(maxi)\n",
    "    elif flag==1:\n",
    "        op={}\n",
    "        for i in range(len(d)):\n",
    "            maxi=-1000\n",
    "            for j in d:\n",
    "                if d[j]>maxi:\n",
    "                    maxi=j\n",
    "            op[maxi]=d[maxi]\n",
    "            d.pop(maxi)\n",
    "    return op\n",
    "\n",
    "d={1:1,5:5,2:70,4:2,3:90}\n",
    "flag=int(input(\"Enter 0 to sort dictonary by keys or 1 to sort dictonary by values \"))\n",
    "print(\"Original dictonary is: \",d)\n",
    "print(\"\\nsorted dictonary is: \",dict_sort(d,flag))"
   ]
  },
  {
   "cell_type": "code",
   "execution_count": null,
   "id": "2f00d646",
   "metadata": {},
   "outputs": [],
   "source": []
  },
  {
   "cell_type": "code",
   "execution_count": null,
   "id": "aa5b1830",
   "metadata": {},
   "outputs": [],
   "source": []
  }
 ],
 "metadata": {
  "kernelspec": {
   "display_name": "Python 3",
   "language": "python",
   "name": "python3"
  },
  "language_info": {
   "codemirror_mode": {
    "name": "ipython",
    "version": 3
   },
   "file_extension": ".py",
   "mimetype": "text/x-python",
   "name": "python",
   "nbconvert_exporter": "python",
   "pygments_lexer": "ipython3",
   "version": "3.8.8"
  }
 },
 "nbformat": 4,
 "nbformat_minor": 5
}
