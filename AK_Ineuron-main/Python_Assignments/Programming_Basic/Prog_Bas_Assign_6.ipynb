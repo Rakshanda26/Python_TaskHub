{
 "cells": [
  {
   "cell_type": "markdown",
   "id": "33d863a1",
   "metadata": {},
   "source": [
    "### 1.\tWrite a Python Program to Display Fibonacci Sequence Using Recursion"
   ]
  },
  {
   "cell_type": "code",
   "execution_count": 15,
   "id": "bdfb55b5",
   "metadata": {},
   "outputs": [],
   "source": [
    "def fibo_term (n):\n",
    "    if n<= 1:\n",
    "        return n\n",
    "    else:\n",
    "        return (fibo_term(n-1)+fibo_term(n-2))"
   ]
  },
  {
   "cell_type": "code",
   "execution_count": 16,
   "id": "1bfda04f",
   "metadata": {},
   "outputs": [
    {
     "name": "stdout",
     "output_type": "stream",
     "text": [
      "Enter the number of terms of fibonacci series required:5\n",
      "0\n",
      "1\n",
      "1\n",
      "2\n",
      "3\n"
     ]
    }
   ],
   "source": [
    "no=int(input(\"Enter the number of terms of fibonacci series required:\"))\n",
    "for i in range (no):\n",
    "    print(fibo_term(i))"
   ]
  },
  {
   "cell_type": "markdown",
   "id": "499fa728",
   "metadata": {},
   "source": [
    "### 2.\tWrite a Python Program to Find Factorial of Number Using Recursion"
   ]
  },
  {
   "cell_type": "code",
   "execution_count": 10,
   "id": "18d31c49",
   "metadata": {},
   "outputs": [],
   "source": [
    "def fact (a):\n",
    "    if a==1:\n",
    "        return 1\n",
    "    else:\n",
    "        return a*fact(a-1)"
   ]
  },
  {
   "cell_type": "code",
   "execution_count": 11,
   "id": "fa2e7f8a",
   "metadata": {},
   "outputs": [
    {
     "data": {
      "text/plain": [
       "24"
      ]
     },
     "execution_count": 11,
     "metadata": {},
     "output_type": "execute_result"
    }
   ],
   "source": [
    "fact (4)"
   ]
  },
  {
   "cell_type": "markdown",
   "id": "fbddfdcc",
   "metadata": {},
   "source": [
    "### 3.\tWrite a Python Program to calculate your Body Mass Index"
   ]
  },
  {
   "cell_type": "code",
   "execution_count": 7,
   "id": "d5656c24",
   "metadata": {},
   "outputs": [
    {
     "name": "stdout",
     "output_type": "stream",
     "text": [
      "Enter the weight(in KG) for BMI calculation:80\n",
      "Enter the hight(in Meters) for BMI calculation:1.8\n",
      "BMI is: 24.691358024691358\n"
     ]
    }
   ],
   "source": [
    "weight=int(input(\"Enter the weight(in KG) for BMI calculation:\"))\n",
    "hight= float(input(\"Enter the hight(in Meters) for BMI calculation:\"))\n",
    "print('BMI is:', weight/(hight**2))"
   ]
  },
  {
   "cell_type": "markdown",
   "id": "7623f9e7",
   "metadata": {},
   "source": [
    "### 4.\tWrite a Python Program to calculate the natural logarithm of any number"
   ]
  },
  {
   "cell_type": "code",
   "execution_count": 2,
   "id": "9269129c",
   "metadata": {},
   "outputs": [],
   "source": [
    "import math"
   ]
  },
  {
   "cell_type": "code",
   "execution_count": 3,
   "id": "f2f9f631",
   "metadata": {},
   "outputs": [
    {
     "name": "stdout",
     "output_type": "stream",
     "text": [
      "Enter the number whos natural logarithm to be obtained:10\n"
     ]
    },
    {
     "data": {
      "text/plain": [
       "2.302585092994046"
      ]
     },
     "execution_count": 3,
     "metadata": {},
     "output_type": "execute_result"
    }
   ],
   "source": [
    "n=int(input(\"Enter the number whos natural logarithm to be obtained:\"))\n",
    "math.log(n)"
   ]
  },
  {
   "cell_type": "markdown",
   "id": "c406a699",
   "metadata": {},
   "source": [
    "### 5.\tWrite a Python Program for cube sum of first n natural numbers"
   ]
  },
  {
   "cell_type": "code",
   "execution_count": 1,
   "id": "e032cf88",
   "metadata": {},
   "outputs": [
    {
     "name": "stdout",
     "output_type": "stream",
     "text": [
      "Enter 'n' value till which cube sum of natural numbers to be found:5\n",
      "Cube Sum of first 5 natural numbers is: 3375\n"
     ]
    }
   ],
   "source": [
    "n=int(input(\"Enter 'n' value till which cube sum of natural numbers to be found:\"))\n",
    "sumation=0\n",
    "\n",
    "for i in range(n+1):\n",
    "    sumation = sumation + i\n",
    "\n",
    "print (\"Cube Sum of first\",n,\"natural numbers is:\",sumation**3)\n",
    "    "
   ]
  }
 ],
 "metadata": {
  "kernelspec": {
   "display_name": "Python 3",
   "language": "python",
   "name": "python3"
  },
  "language_info": {
   "codemirror_mode": {
    "name": "ipython",
    "version": 3
   },
   "file_extension": ".py",
   "mimetype": "text/x-python",
   "name": "python",
   "nbconvert_exporter": "python",
   "pygments_lexer": "ipython3",
   "version": "3.8.8"
  }
 },
 "nbformat": 4,
 "nbformat_minor": 5
}
