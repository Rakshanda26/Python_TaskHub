{
 "cells": [
  {
   "cell_type": "markdown",
   "id": "f14631f0",
   "metadata": {},
   "source": [
    "### 1.\tWrite a Python program to find sum of elements in list"
   ]
  },
  {
   "cell_type": "code",
   "execution_count": 2,
   "id": "b868962a",
   "metadata": {},
   "outputs": [
    {
     "name": "stdout",
     "output_type": "stream",
     "text": [
      "Enter the number of elements in list to sum:4\n",
      "Enter the element:10\n",
      "Enter the element:20\n",
      "Enter the element:30\n",
      "Enter the element:40\n",
      "Sum of elements in list is: 100\n"
     ]
    }
   ],
   "source": [
    "n = int(input(\"Enter the number of elements in list to sum:\"))\n",
    "l=[]\n",
    "s=0\n",
    "\n",
    "for i in range(n):\n",
    "    l.append(int(input(\"Enter the element:\")))\n",
    "\n",
    "for i in l:\n",
    "    s=s+i\n",
    "\n",
    "print(\"Sum of elements in list is:\",s)"
   ]
  },
  {
   "cell_type": "markdown",
   "id": "8151f6fb",
   "metadata": {},
   "source": [
    "### 2.\tWrite a Python program to  Multiply all numbers in the list"
   ]
  },
  {
   "cell_type": "code",
   "execution_count": 3,
   "id": "c8263b41",
   "metadata": {},
   "outputs": [
    {
     "name": "stdout",
     "output_type": "stream",
     "text": [
      "Enter the number of elements in list to sum:4\n",
      "Enter the element:10\n",
      "Enter the element:20\n",
      "Enter the element:30\n",
      "Enter the element:40\n",
      "Multiplication of elements: 240000\n"
     ]
    }
   ],
   "source": [
    "n = int(input(\"Enter the number of elements in list to multiply:\"))\n",
    "l=[]\n",
    "mul=1\n",
    "\n",
    "for i in range(n):\n",
    "    l.append(int(input(\"Enter the element:\")))\n",
    "\n",
    "for i in l:\n",
    "    mul=mul*i\n",
    "\n",
    "print(\"Multiplication of elements:\",mul)"
   ]
  },
  {
   "cell_type": "markdown",
   "id": "400db690",
   "metadata": {},
   "source": [
    "### 3.\tWrite a Python program to find smallest number in a list"
   ]
  },
  {
   "cell_type": "code",
   "execution_count": 5,
   "id": "a4a4bf03",
   "metadata": {},
   "outputs": [
    {
     "name": "stdout",
     "output_type": "stream",
     "text": [
      "Enter the number of elements in list:4\n",
      "Enter the element:10\n",
      "Enter the element:20\n",
      "Enter the element:30\n",
      "Enter the element:40\n",
      "The smallest element of list is: 10\n"
     ]
    }
   ],
   "source": [
    "n = int(input(\"Enter the number of elements in list:\"))\n",
    "l=[]\n",
    "m=10000000\n",
    "\n",
    "for i in range(n):\n",
    "    l.append(int(input(\"Enter the element:\")))\n",
    "\n",
    "for i in l:\n",
    "    if i<m:\n",
    "        m=i\n",
    "\n",
    "print(\"The smallest element of list is:\",m)"
   ]
  },
  {
   "cell_type": "markdown",
   "id": "cf76ea92",
   "metadata": {},
   "source": [
    "### 4.\tWrite a Python program to find largest number in a list"
   ]
  },
  {
   "cell_type": "code",
   "execution_count": 6,
   "id": "586ae4bb",
   "metadata": {},
   "outputs": [
    {
     "name": "stdout",
     "output_type": "stream",
     "text": [
      "Enter the number of elements in list:4\n",
      "Enter the element:10\n",
      "Enter the element:20\n",
      "Enter the element:30\n",
      "Enter the element:40\n",
      "The largest element of list is: 40\n"
     ]
    }
   ],
   "source": [
    "n = int(input(\"Enter the number of elements in list:\"))\n",
    "l=[]\n",
    "m=-10000000\n",
    "\n",
    "for i in range(n):\n",
    "    l.append(int(input(\"Enter the element:\")))\n",
    "\n",
    "for i in l:\n",
    "    if i>m:\n",
    "        m=i\n",
    "\n",
    "print(\"The largest element of list is:\",m)"
   ]
  },
  {
   "cell_type": "markdown",
   "id": "4935176b",
   "metadata": {},
   "source": [
    "### 5.\tWrite a Python program to find second largest number in a list"
   ]
  },
  {
   "cell_type": "code",
   "execution_count": 7,
   "id": "38046dc5",
   "metadata": {},
   "outputs": [
    {
     "name": "stdout",
     "output_type": "stream",
     "text": [
      "Enter the number of elements in list:4\n",
      "Enter the element:20\n",
      "Enter the element:10\n",
      "Enter the element:30\n",
      "Enter the element:40\n",
      "The second largest element of list is: 30\n"
     ]
    }
   ],
   "source": [
    "n = int(input(\"Enter the number of elements in list:\"))\n",
    "l=[]\n",
    "m=-10000000\n",
    "dis=[]\n",
    "mdis=1000000\n",
    "\n",
    "for i in range(n):\n",
    "    l.append(int(input(\"Enter the element:\")))\n",
    "\n",
    "for i in l:\n",
    "    if i>m:\n",
    "        m=i\n",
    "\n",
    "for i in l:\n",
    "    dis.append(m-i)\n",
    "\n",
    "for i in range(len(dis)):\n",
    "    if dis[i] !=0 and dis[i]<mdis:\n",
    "        mdis=dis[i]\n",
    "        index=i\n",
    "\n",
    "print(\"The second largest element of list is:\",l[index])\n",
    "        \n",
    "        "
   ]
  },
  {
   "cell_type": "markdown",
   "id": "bb160e1f",
   "metadata": {},
   "source": [
    "### 6.\tWrite a Python program to find N largest elements from a list"
   ]
  },
  {
   "cell_type": "code",
   "execution_count": 9,
   "id": "70f36618",
   "metadata": {},
   "outputs": [
    {
     "name": "stdout",
     "output_type": "stream",
     "text": [
      "Enter the number of elements in list:5\n",
      "Enter the element:43\n",
      "Enter the element:34\n",
      "Enter the element:23\n",
      "Enter the element:12\n",
      "Enter the element:56\n",
      "enter the Nth largest element required:2\n",
      "Nth largest element is:  43\n"
     ]
    }
   ],
   "source": [
    "n = int(input(\"Enter the number of elements in list:\"))\n",
    "l=[]\n",
    "l_ordered=[]\n",
    "m=-10000000\n",
    "dis=[]\n",
    "mdis=1000000\n",
    "\n",
    "for i in range(n):\n",
    "    l.append(int(input(\"Enter the element:\")))\n",
    "\n",
    "N= int(input(\"enter the Nth largest element required:\"))\n",
    "\n",
    "for i in range(len(l)):\n",
    "    temp_max=-1000000\n",
    "    for j in l:\n",
    "        if j> temp_max:\n",
    "            temp_max=j\n",
    "    l.remove(temp_max)\n",
    "    l_ordered.append(temp_max)\n",
    "\n",
    "print(\"Nth largest element is: \",l_ordered[N-1])"
   ]
  },
  {
   "cell_type": "markdown",
   "id": "f5b5e9e4",
   "metadata": {},
   "source": [
    "### 7.\tWrite a Python program to print even numbers in a list"
   ]
  },
  {
   "cell_type": "code",
   "execution_count": 10,
   "id": "5516d530",
   "metadata": {},
   "outputs": [
    {
     "name": "stdout",
     "output_type": "stream",
     "text": [
      "Enter the number of elements in list:5\n",
      "Enter the element:12\n",
      "Enter the element:23\n",
      "Enter the element:34\n",
      "Enter the element:45\n",
      "Enter the element:56\n",
      "Even numbers from entered list are: [12, 34, 56]\n"
     ]
    }
   ],
   "source": [
    "n = int(input(\"Enter the number of elements in list:\"))\n",
    "l=[]\n",
    "evens=[]\n",
    "\n",
    "for i in range(n):\n",
    "    l.append(int(input(\"Enter the element:\")))\n",
    "\n",
    "for i in l:\n",
    "    if i % 2 ==0 :\n",
    "        evens.append(i)\n",
    "\n",
    "print(\"Even numbers from entered list are:\",evens)"
   ]
  },
  {
   "cell_type": "markdown",
   "id": "98b9b08b",
   "metadata": {},
   "source": [
    "### 8.\tWrite a Python program to print odd numbers in a List"
   ]
  },
  {
   "cell_type": "code",
   "execution_count": 11,
   "id": "1301f0d6",
   "metadata": {},
   "outputs": [
    {
     "name": "stdout",
     "output_type": "stream",
     "text": [
      "Enter the number of elements in list:5\n",
      "Enter the element:1\n",
      "Enter the element:23\n",
      "Enter the element:34\n",
      "Enter the element:45\n",
      "Enter the element:56\n",
      "Even numbers from entered list are: [1, 23, 45]\n"
     ]
    }
   ],
   "source": [
    "n = int(input(\"Enter the number of elements in list:\"))\n",
    "l=[]\n",
    "odds=[]\n",
    "\n",
    "for i in range(n):\n",
    "    l.append(int(input(\"Enter the element:\")))\n",
    "\n",
    "for i in l:\n",
    "    if i % 2 ==1 :\n",
    "        odds.append(i)\n",
    "\n",
    "print(\"Even numbers from entered list are:\",odds)"
   ]
  },
  {
   "cell_type": "markdown",
   "id": "777ba291",
   "metadata": {},
   "source": [
    "### 9.\tWrite a Python program to Remove empty List from List"
   ]
  },
  {
   "cell_type": "code",
   "execution_count": 25,
   "id": "624f7e4c",
   "metadata": {},
   "outputs": [
    {
     "name": "stdout",
     "output_type": "stream",
     "text": [
      "Enter the number of lists in list:3\n",
      "Enter the element list1234\n",
      "Enter the element list\n",
      "Enter the element listqwerty\n",
      "List after removal of empty lists ['1234', 'qwerty']\n"
     ]
    }
   ],
   "source": [
    "n = int(input(\"Enter the number of lists in list:\"))\n",
    "l=[]\n",
    "ind=[]\n",
    "\n",
    "for i in range(n):\n",
    "    l.append(input(\"Enter the element list\"))\n",
    "\n",
    "l\n",
    "\n",
    "for i in range(len(l)):\n",
    "       if len(l[i])==0:\n",
    "            ind.append(i)\n",
    "\n",
    "for j in ind:\n",
    "    l.remove(l[j])\n",
    "\n",
    "print(\"List after removal of empty lists\",l)\n",
    "    "
   ]
  },
  {
   "cell_type": "markdown",
   "id": "89a48117",
   "metadata": {},
   "source": [
    "### 10.\tWrite a Python program to Cloning or Copying a list"
   ]
  },
  {
   "cell_type": "code",
   "execution_count": 27,
   "id": "673025cb",
   "metadata": {},
   "outputs": [
    {
     "name": "stdout",
     "output_type": "stream",
     "text": [
      "Enter the number of lists in list:4\n",
      "Enter the element list12\n",
      "Enter the element listqwerty\n",
      "Enter the element listtrue\n",
      "Enter the element list3.14\n",
      "Entered list ['12', 'qwerty', 'true', '3.14']\n",
      "The cloned list ['12', 'qwerty', 'true', '3.14']\n"
     ]
    }
   ],
   "source": [
    "n = int(input(\"Enter the number of lists in list:\"))\n",
    "l=[]\n",
    "clone=[]\n",
    "\n",
    "for i in range(n):\n",
    "    l.append(input(\"Enter the element list\"))\n",
    "\n",
    "for i in range(len(l)):\n",
    "    clone.append(l[i])\n",
    "\n",
    "print(\"Entered list\",l)\n",
    "print(\"The cloned list\",clone)"
   ]
  },
  {
   "cell_type": "markdown",
   "id": "c8763faf",
   "metadata": {},
   "source": [
    "### 11.\tWrite a Python program to Count occurrences of an element in a list"
   ]
  },
  {
   "cell_type": "code",
   "execution_count": 28,
   "id": "4fb75673",
   "metadata": {},
   "outputs": [
    {
     "name": "stdout",
     "output_type": "stream",
     "text": [
      "Enter the number of lists in list:6\n",
      "Enter the element list10\n",
      "Enter the element list10\n",
      "Enter the element listabc\n",
      "Enter the element listdef\n",
      "Enter the element listdef\n",
      "Enter the element list12\n",
      "The ocurances of elements in list are {'10': 2, 'abc': 1, 'def': 2, '12': 1}\n"
     ]
    }
   ],
   "source": [
    "n = int(input(\"Enter the number of lists in list:\"))\n",
    "l=[]\n",
    "d={}\n",
    "\n",
    "for i in range(n):\n",
    "    l.append(input(\"Enter the element list\"))\n",
    "\n",
    "for i in l:\n",
    "    d[i]=0\n",
    "\n",
    "for i in l:\n",
    "    d[i]=d[i]+1\n",
    "\n",
    "print(\"The ocurances of elements in list are\",d)"
   ]
  },
  {
   "cell_type": "code",
   "execution_count": null,
   "id": "a4e4076e",
   "metadata": {},
   "outputs": [],
   "source": []
  }
 ],
 "metadata": {
  "kernelspec": {
   "display_name": "Python 3",
   "language": "python",
   "name": "python3"
  },
  "language_info": {
   "codemirror_mode": {
    "name": "ipython",
    "version": 3
   },
   "file_extension": ".py",
   "mimetype": "text/x-python",
   "name": "python",
   "nbconvert_exporter": "python",
   "pygments_lexer": "ipython3",
   "version": "3.8.8"
  }
 },
 "nbformat": 4,
 "nbformat_minor": 5
}
