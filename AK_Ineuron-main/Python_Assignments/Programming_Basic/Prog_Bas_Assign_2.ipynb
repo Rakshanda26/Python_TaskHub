{
 "cells": [
  {
   "cell_type": "markdown",
   "id": "c3670e1c",
   "metadata": {},
   "source": [
    "### 1.\tWrite a Python program to convert kilometers to miles"
   ]
  },
  {
   "cell_type": "code",
   "execution_count": 2,
   "id": "4993086b",
   "metadata": {},
   "outputs": [
    {
     "name": "stdout",
     "output_type": "stream",
     "text": [
      "Enter the number of kilometers to be converted in miles: 10\n",
      "Number of miles converted from kilometers entered: 6.21371\n"
     ]
    }
   ],
   "source": [
    "try: \n",
    "    km= int(input(\"Enter the number of kilometers to be converted in miles: \"))\n",
    "    miles = 0.621371*km\n",
    "    print(\"Number of miles converted from kilometers entered:\",miles)\n",
    "except Exception as e:\n",
    "    print(\"Could not compute miles: \",e)"
   ]
  },
  {
   "cell_type": "code",
   "execution_count": 3,
   "id": "43ca46bf",
   "metadata": {},
   "outputs": [
    {
     "name": "stdout",
     "output_type": "stream",
     "text": [
      "Enter the number of kilometers to be converted in miles: ten\n",
      "Could not compute miles:  invalid literal for int() with base 10: 'ten'\n"
     ]
    }
   ],
   "source": [
    "try: \n",
    "    km= int(input(\"Enter the number of kilometers to be converted in miles: \"))\n",
    "    miles = 0.621371*km\n",
    "    print(\"Number of miles converted from kilometers entered:\",miles)\n",
    "except Exception as e:\n",
    "    print(\"Could not compute miles: \",e)"
   ]
  },
  {
   "cell_type": "markdown",
   "id": "f21ebf9f",
   "metadata": {},
   "source": [
    "### 2.\tWrite a Python program to convert Celsius to Fahrenheit"
   ]
  },
  {
   "cell_type": "code",
   "execution_count": 5,
   "id": "5b34a432",
   "metadata": {},
   "outputs": [
    {
     "name": "stdout",
     "output_type": "stream",
     "text": [
      "Enter the number of celsius to be converted in Fahrenite: 24\n",
      "Number of Fahrenite converted from celsius entered: 75.2\n"
     ]
    }
   ],
   "source": [
    "try: \n",
    "    cel= int(input(\"Enter the number of celsius to be converted in Fahrenite: \"))\n",
    "    far = ((9/5)*cel)+32\n",
    "    print(\"Number of Fahrenite converted from celsius entered:\",far)\n",
    "except Exception as e:\n",
    "    print(\"Could not compute Fahrenite: \",e)"
   ]
  },
  {
   "cell_type": "code",
   "execution_count": 6,
   "id": "8a123e5b",
   "metadata": {},
   "outputs": [
    {
     "name": "stdout",
     "output_type": "stream",
     "text": [
      "Enter the number of celsius to be converted in Fahrenite: twelve\n",
      "Could not compute Fahrenite:  invalid literal for int() with base 10: 'twelve'\n"
     ]
    }
   ],
   "source": [
    "try: \n",
    "    cel= int(input(\"Enter the number of celsius to be converted in Fahrenite: \"))\n",
    "    far = ((9/5)*cel)+32\n",
    "    print(\"Number of Fahrenite converted from celsius entered:\",far)\n",
    "except Exception as e:\n",
    "    print(\"Could not compute Fahrenite: \",e)"
   ]
  },
  {
   "cell_type": "markdown",
   "id": "096b8847",
   "metadata": {},
   "source": [
    "### 3.\tWrite a Python program to display calendar"
   ]
  },
  {
   "cell_type": "code",
   "execution_count": 8,
   "id": "43d7c79e",
   "metadata": {},
   "outputs": [],
   "source": [
    "import calendar"
   ]
  },
  {
   "cell_type": "code",
   "execution_count": 9,
   "id": "3b1602a7",
   "metadata": {},
   "outputs": [
    {
     "name": "stdout",
     "output_type": "stream",
     "text": [
      "Enter the year whos calender is required:2022\n",
      "                                  2022\n",
      "\n",
      "      January                   February                   March\n",
      "Mo Tu We Th Fr Sa Su      Mo Tu We Th Fr Sa Su      Mo Tu We Th Fr Sa Su\n",
      "                1  2          1  2  3  4  5  6          1  2  3  4  5  6\n",
      " 3  4  5  6  7  8  9       7  8  9 10 11 12 13       7  8  9 10 11 12 13\n",
      "10 11 12 13 14 15 16      14 15 16 17 18 19 20      14 15 16 17 18 19 20\n",
      "17 18 19 20 21 22 23      21 22 23 24 25 26 27      21 22 23 24 25 26 27\n",
      "24 25 26 27 28 29 30      28                        28 29 30 31\n",
      "31\n",
      "\n",
      "       April                      May                       June\n",
      "Mo Tu We Th Fr Sa Su      Mo Tu We Th Fr Sa Su      Mo Tu We Th Fr Sa Su\n",
      "             1  2  3                         1             1  2  3  4  5\n",
      " 4  5  6  7  8  9 10       2  3  4  5  6  7  8       6  7  8  9 10 11 12\n",
      "11 12 13 14 15 16 17       9 10 11 12 13 14 15      13 14 15 16 17 18 19\n",
      "18 19 20 21 22 23 24      16 17 18 19 20 21 22      20 21 22 23 24 25 26\n",
      "25 26 27 28 29 30         23 24 25 26 27 28 29      27 28 29 30\n",
      "                          30 31\n",
      "\n",
      "        July                     August                  September\n",
      "Mo Tu We Th Fr Sa Su      Mo Tu We Th Fr Sa Su      Mo Tu We Th Fr Sa Su\n",
      "             1  2  3       1  2  3  4  5  6  7                1  2  3  4\n",
      " 4  5  6  7  8  9 10       8  9 10 11 12 13 14       5  6  7  8  9 10 11\n",
      "11 12 13 14 15 16 17      15 16 17 18 19 20 21      12 13 14 15 16 17 18\n",
      "18 19 20 21 22 23 24      22 23 24 25 26 27 28      19 20 21 22 23 24 25\n",
      "25 26 27 28 29 30 31      29 30 31                  26 27 28 29 30\n",
      "\n",
      "      October                   November                  December\n",
      "Mo Tu We Th Fr Sa Su      Mo Tu We Th Fr Sa Su      Mo Tu We Th Fr Sa Su\n",
      "                1  2          1  2  3  4  5  6                1  2  3  4\n",
      " 3  4  5  6  7  8  9       7  8  9 10 11 12 13       5  6  7  8  9 10 11\n",
      "10 11 12 13 14 15 16      14 15 16 17 18 19 20      12 13 14 15 16 17 18\n",
      "17 18 19 20 21 22 23      21 22 23 24 25 26 27      19 20 21 22 23 24 25\n",
      "24 25 26 27 28 29 30      28 29 30                  26 27 28 29 30 31\n",
      "31\n",
      "\n"
     ]
    }
   ],
   "source": [
    "try:\n",
    "    yy = int(input(\"Enter the year whos calender is required:\"))\n",
    "    print(calendar.calendar(yy))\n",
    "except Exception as e:\n",
    "    print(\"Could not print calendar :\",e)"
   ]
  },
  {
   "cell_type": "code",
   "execution_count": 10,
   "id": "63bd2d02",
   "metadata": {},
   "outputs": [
    {
     "name": "stdout",
     "output_type": "stream",
     "text": [
      "Enter the year whos calender is required:Twenty Twenty two\n",
      "Could not print calendar : invalid literal for int() with base 10: 'Twenty Twenty two'\n"
     ]
    }
   ],
   "source": [
    "try:\n",
    "    yy = int(input(\"Enter the year whos calender is required:\"))\n",
    "    print(calendar.calendar(yy))\n",
    "except Exception as e:\n",
    "    print(\"Could not print calendar :\",e)"
   ]
  },
  {
   "cell_type": "markdown",
   "id": "e91fdf9d",
   "metadata": {},
   "source": [
    "### 4.\tWrite a Python program to solve quadratic equation"
   ]
  },
  {
   "cell_type": "code",
   "execution_count": 11,
   "id": "1638d286",
   "metadata": {},
   "outputs": [],
   "source": [
    "import math"
   ]
  },
  {
   "cell_type": "code",
   "execution_count": 17,
   "id": "bb82217a",
   "metadata": {},
   "outputs": [
    {
     "name": "stdout",
     "output_type": "stream",
     "text": [
      "Form of a quadratic equation : aX^2 + bX + c\n",
      "Enter the coefficient 'a' of X^2 term: 1\n",
      "Enter the coefficient 'b' of X term: -5\n",
      "Enter the coefficient 'c' as constant: 6\n",
      "\n",
      "Entered quadratic equation is:  1 X^2 + -5 X + 6\n",
      "\n",
      "The possible solutions for entered quadratic equation are: X= 3.0 or X= 2.0\n"
     ]
    }
   ],
   "source": [
    "try: \n",
    "    print (\"Form of a quadratic equation : aX^2 + bX + c\")\n",
    "    a= int(input(\"Enter the coefficient 'a' of X^2 term: \"))\n",
    "    b= int(input(\"Enter the coefficient 'b' of X term: \"))\n",
    "    c= int(input(\"Enter the coefficient 'c' as constant: \"))\n",
    "    print(\"\\nEntered quadratic equation is: \",a,\"X^2 +\",b,\"X +\",c)\n",
    "    sol1= ((-1*b) + (math.sqrt((b*b)-(4*a*c))))/(2*a)\n",
    "    sol2= ((-1*b) - (math.sqrt((b*b)-(4*a*c))))/(2*a)\n",
    "    print(\"\\nThe possible solutions for entered quadratic equation are: X=\",sol1,\"or X=\",sol2)\n",
    "except Exception as obj:\n",
    "    print(\"Could not compute solution:\",obj)"
   ]
  },
  {
   "cell_type": "code",
   "execution_count": 18,
   "id": "e31da6a0",
   "metadata": {},
   "outputs": [
    {
     "name": "stdout",
     "output_type": "stream",
     "text": [
      "Form of a quadratic equation : aX^2 + bX + c\n",
      "Enter the coefficient 'a' of X^2 term: 2\n",
      "Enter the coefficient 'b' of X term: 3\n",
      "Enter the coefficient 'c' as constant: 4\n",
      "\n",
      "Entered quadratic equation is:  2 X^2 + 3 X + 4\n",
      "Could not compute solution: math domain error\n"
     ]
    }
   ],
   "source": [
    "try: \n",
    "    print (\"Form of a quadratic equation : aX^2 + bX + c\")\n",
    "    a= int(input(\"Enter the coefficient 'a' of X^2 term: \"))\n",
    "    b= int(input(\"Enter the coefficient 'b' of X term: \"))\n",
    "    c= int(input(\"Enter the coefficient 'c' as constant: \"))\n",
    "    print(\"\\nEntered quadratic equation is: \",a,\"X^2 +\",b,\"X +\",c)\n",
    "    sol1= ((-1*b) + (math.sqrt((b*b)-(4*a*c))))/(2*a)\n",
    "    sol2= ((-1*b) - (math.sqrt((b*b)-(4*a*c))))/(2*a)\n",
    "    print(\"\\nThe possible solutions for entered quadratic equation are: X=\",sol1,\"or X=\",sol2)\n",
    "except Exception as obj:\n",
    "    print(\"Could not compute solution:\",obj)"
   ]
  },
  {
   "cell_type": "markdown",
   "id": "2e5b01bb",
   "metadata": {},
   "source": [
    "### 5.\tWrite a Python program to swap two variables without temp variable"
   ]
  },
  {
   "cell_type": "code",
   "execution_count": 20,
   "id": "cd2fcbf1",
   "metadata": {},
   "outputs": [
    {
     "name": "stdout",
     "output_type": "stream",
     "text": [
      "Enter a value for variable a:14\n",
      "Enter a value for variable b:20\n",
      "Value of variable a after swapping: 20\n",
      "Value of variable b after swapping: 14\n"
     ]
    }
   ],
   "source": [
    "try:\n",
    "    a = int(input(\"Enter a value for variable a:\"))\n",
    "    b = int(input(\"Enter a value for variable b:\"))\n",
    "    a= a+b\n",
    "    b=a-b\n",
    "    a=a-b\n",
    "    print(\"Value of variable a after swapping:\",a)\n",
    "    print(\"Value of variable b after swapping:\",b)\n",
    "except Exception as obj:\n",
    "    print(\"Could not do swapping:\",obj)"
   ]
  },
  {
   "cell_type": "code",
   "execution_count": 21,
   "id": "eefcf790",
   "metadata": {},
   "outputs": [
    {
     "name": "stdout",
     "output_type": "stream",
     "text": [
      "Enter a value for variable a:ten\n",
      "Could not do swapping: invalid literal for int() with base 10: 'ten'\n"
     ]
    }
   ],
   "source": [
    "try:\n",
    "    a = int(input(\"Enter a value for variable a:\"))\n",
    "    b = int(input(\"Enter a value for variable b:\"))\n",
    "    a= a+b\n",
    "    b=a-b\n",
    "    a=a-b\n",
    "    print(\"Value of variable a after swapping:\",a)\n",
    "    print(\"Value of variable b after swapping:\",b)\n",
    "except Exception as obj:\n",
    "    print(\"Could not do swapping:\",obj)"
   ]
  },
  {
   "cell_type": "code",
   "execution_count": null,
   "id": "65a350b3",
   "metadata": {},
   "outputs": [],
   "source": []
  }
 ],
 "metadata": {
  "kernelspec": {
   "display_name": "Python 3",
   "language": "python",
   "name": "python3"
  },
  "language_info": {
   "codemirror_mode": {
    "name": "ipython",
    "version": 3
   },
   "file_extension": ".py",
   "mimetype": "text/x-python",
   "name": "python",
   "nbconvert_exporter": "python",
   "pygments_lexer": "ipython3",
   "version": "3.8.8"
  }
 },
 "nbformat": 4,
 "nbformat_minor": 5
}
