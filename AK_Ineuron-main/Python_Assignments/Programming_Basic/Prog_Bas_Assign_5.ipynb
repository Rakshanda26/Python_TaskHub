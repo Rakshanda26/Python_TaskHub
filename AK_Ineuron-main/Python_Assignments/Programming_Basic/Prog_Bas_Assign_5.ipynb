{
 "cells": [
  {
   "cell_type": "markdown",
   "id": "3288ddfa",
   "metadata": {},
   "source": [
    "### 1.\tWrite a Python Program to Find LCM"
   ]
  },
  {
   "cell_type": "code",
   "execution_count": 32,
   "id": "8e4fef48",
   "metadata": {},
   "outputs": [
    {
     "name": "stdout",
     "output_type": "stream",
     "text": [
      "Enter first no for LCM calculation: 12\n",
      "Enter second no for LCM calculation: 20\n",
      "LCM of entered numbers is: 60\n"
     ]
    }
   ],
   "source": [
    "no1= int(input(\"Enter first no for LCM calculation: \"))\n",
    "no2= int(input(\"Enter second no for LCM calculation: \"))\n",
    "\n",
    "maxi=max(no1,no2)\n",
    "\n",
    "LCM=maxi\n",
    "flag=0\n",
    "while flag==0:\n",
    "    if LCM%no1 == 0 and LCM%no2==0:\n",
    "        flag=1\n",
    "    else:\n",
    "        LCM=LCM+1\n",
    "\n",
    "print(\"LCM of entered numbers is:\",LCM)"
   ]
  },
  {
   "cell_type": "markdown",
   "id": "05bef955",
   "metadata": {},
   "source": [
    "### 2.\tWrite a Python Program to Find HCF"
   ]
  },
  {
   "cell_type": "code",
   "execution_count": 34,
   "id": "33c6bafc",
   "metadata": {},
   "outputs": [
    {
     "name": "stdout",
     "output_type": "stream",
     "text": [
      "Enter first no for HCF calculation: 20\n",
      "Enter second no for HCF calculation: 12\n",
      "HCF of numbers is: 4\n"
     ]
    }
   ],
   "source": [
    "no1= int(input(\"Enter first no for HCF calculation: \"))\n",
    "no2= int(input(\"Enter second no for HCF calculation: \"))\n",
    "\n",
    "factors=[]\n",
    "for i in range (1,max(no1,no2)):\n",
    "    if no1%i ==0 and no2%i==0:\n",
    "        factors.append(i)\n",
    "\n",
    "maxi=-1        \n",
    "for i in factors:\n",
    "    maxi = max(maxi,i)\n",
    "\n",
    "print(\"HCF of numbers is:\",maxi)"
   ]
  },
  {
   "cell_type": "markdown",
   "id": "3575f499",
   "metadata": {},
   "source": [
    "### 3.\tWrite a Python Program to Convert Decimal to Binary, Octal and Hexadecimal"
   ]
  },
  {
   "cell_type": "code",
   "execution_count": 81,
   "id": "dcd29d56",
   "metadata": {},
   "outputs": [],
   "source": [
    "def deci_to_binary (dec):\n",
    "    \"\"\"This is a function to convert decimal number into binary\"\"\"\n",
    "    coef=[]\n",
    "    q=dec\n",
    "    while q>1:\n",
    "        coef.append(q%2)\n",
    "        q=int(q/2)\n",
    "    coef.append(1)\n",
    "    result=coef[::-1]\n",
    "    return result"
   ]
  },
  {
   "cell_type": "code",
   "execution_count": 82,
   "id": "a5457901",
   "metadata": {},
   "outputs": [],
   "source": [
    "def binary_to_decimal (o):\n",
    "    \"\"\"This is a function to convert binary list into decimal\"\"\"\n",
    "    o=o[::-1]\n",
    "    decimal=0\n",
    "    power=0\n",
    "    for i in o:\n",
    "        decimal=decimal+i*(2**power)\n",
    "        power = power+1\n",
    "    return decimal\n",
    "        "
   ]
  },
  {
   "cell_type": "code",
   "execution_count": 83,
   "id": "c4d45f8e",
   "metadata": {},
   "outputs": [],
   "source": [
    "def deci_to_hex (o):\n",
    "    \"\"\"This is a function to convert decimal to hexadecimal\"\"\"\n",
    "    q=o\n",
    "    hexa=[]\n",
    "    hexanibble=[]\n",
    "    while q>16:\n",
    "        hexa.append(o%16)\n",
    "        q=int(q/16)\n",
    "    hexa.append(q)\n",
    "    hexa=hexa[::-1]\n",
    "    dicton={0:0,1:1,2:2,3:3,4:4,5:5,6:6,7:7,8:8,9:9,10:'A',11:'B',12:'C',13:'D',14:'E',15:'F'}\n",
    "    for i in hexa:\n",
    "        hexanibble.append(dicton[i])\n",
    "    return hexanibble"
   ]
  },
  {
   "cell_type": "code",
   "execution_count": 84,
   "id": "11fc228a",
   "metadata": {},
   "outputs": [],
   "source": [
    "def oct_to_deci (o):\n",
    "    \"\"\"This is a function to convert octal to decimal\"\"\"\n",
    "    o=str(o)\n",
    "    o=o[::-1]\n",
    "    decimal=0\n",
    "    power=0\n",
    "    for i in o:\n",
    "        temp=int(i)\n",
    "        decimal=decimal+temp*(8**power)\n",
    "        power = power+1\n",
    "    return decimal"
   ]
  },
  {
   "cell_type": "markdown",
   "id": "3589a5ae",
   "metadata": {},
   "source": [
    "Doin Decimal to binary conversion"
   ]
  },
  {
   "cell_type": "code",
   "execution_count": 85,
   "id": "52b2de8c",
   "metadata": {},
   "outputs": [
    {
     "name": "stdout",
     "output_type": "stream",
     "text": [
      "Enter a decimal to be converted into binary:12\n",
      "Binary equivalent of decimal is: [1, 1, 0, 0]\n"
     ]
    }
   ],
   "source": [
    "dec= int(input(\"Enter a decimal to be converted into binary:\"))\n",
    "print(\"Binary equivalent of decimal is:\",deci_to_binary(dec))"
   ]
  },
  {
   "cell_type": "markdown",
   "id": "cf297a7f",
   "metadata": {},
   "source": [
    "Doing octal to hexadecimal conversion"
   ]
  },
  {
   "cell_type": "code",
   "execution_count": 87,
   "id": "f74795d5",
   "metadata": {},
   "outputs": [
    {
     "name": "stdout",
     "output_type": "stream",
     "text": [
      "Enter a octal number to be converted into hexadecimal467\n",
      "Decimal equivalent of octal is: 311\n",
      "Hexadecimal equivalent of octal is: [1, 7, 7]\n"
     ]
    }
   ],
   "source": [
    "octa=int(input(\"Enter a octal number to be converted into hexadecimal\"))\n",
    "deci=oct_to_deci(octa)\n",
    "print(\"Decimal equivalent of octal is:\",deci)\n",
    "print(\"Hexadecimal equivalent of octal is:\",deci_to_hex(deci))"
   ]
  },
  {
   "cell_type": "markdown",
   "id": "88817fa6",
   "metadata": {},
   "source": [
    "### 4.\tWrite a Python Program To Find ASCII value of a character"
   ]
  },
  {
   "cell_type": "code",
   "execution_count": 89,
   "id": "812587c8",
   "metadata": {},
   "outputs": [
    {
     "name": "stdout",
     "output_type": "stream",
     "text": [
      "Enter a character whos ASCII value to be founda\n",
      "ASCII value of entered character is 97\n"
     ]
    }
   ],
   "source": [
    "ch=input(\"Enter a character whos ASCII value to be found\")\n",
    "print(\"ASCII value of entered character is\",ord(ch))"
   ]
  },
  {
   "cell_type": "markdown",
   "id": "e770555d",
   "metadata": {},
   "source": [
    "### 5.\tWrite a Python Program to Make a Simple Calculator with 4 basic mathematical operations"
   ]
  },
  {
   "cell_type": "code",
   "execution_count": 90,
   "id": "93bfd695",
   "metadata": {},
   "outputs": [
    {
     "name": "stdout",
     "output_type": "stream",
     "text": [
      "Enter the operation to be performed+\n",
      "Enter the first number10\n",
      "Enter the second number20\n",
      "result= 30\n"
     ]
    }
   ],
   "source": [
    "op=input(\"Enter the operation to be performed\")\n",
    "no1=int(input(\"Enter the first number\"))\n",
    "no2=int(input(\"Enter the second number\"))\n",
    "\n",
    "if op == \"+\":\n",
    "    print('result=',no1+no2)\n",
    "elif op==\"-\":\n",
    "    print('result=',no1-no2)\n",
    "elif op== \"*\":\n",
    "    print('result=',no1*no2)\n",
    "elif op== \"/\":\n",
    "    print('result=',no1/no2)\n",
    "else:\n",
    "    print(\"Incorrector operator\")\n"
   ]
  },
  {
   "cell_type": "code",
   "execution_count": null,
   "id": "6596e7b2",
   "metadata": {},
   "outputs": [],
   "source": []
  }
 ],
 "metadata": {
  "kernelspec": {
   "display_name": "Python 3",
   "language": "python",
   "name": "python3"
  },
  "language_info": {
   "codemirror_mode": {
    "name": "ipython",
    "version": 3
   },
   "file_extension": ".py",
   "mimetype": "text/x-python",
   "name": "python",
   "nbconvert_exporter": "python",
   "pygments_lexer": "ipython3",
   "version": "3.8.8"
  }
 },
 "nbformat": 4,
 "nbformat_minor": 5
}
