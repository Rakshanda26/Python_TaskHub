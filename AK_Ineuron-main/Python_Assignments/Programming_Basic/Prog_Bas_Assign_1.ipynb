{
 "cells": [
  {
   "cell_type": "markdown",
   "id": "8a16e456",
   "metadata": {},
   "source": [
    "### 1.\tWrite a Python program to print \"Hello Python\""
   ]
  },
  {
   "cell_type": "code",
   "execution_count": 1,
   "id": "d1f6f4c4",
   "metadata": {},
   "outputs": [
    {
     "name": "stdout",
     "output_type": "stream",
     "text": [
      "Hello Python\n"
     ]
    }
   ],
   "source": [
    "print(\"Hello Python\")"
   ]
  },
  {
   "cell_type": "markdown",
   "id": "a64fa391",
   "metadata": {},
   "source": [
    "### 2.\tWrite a Python program to do arithmetical operations addition and division"
   ]
  },
  {
   "cell_type": "code",
   "execution_count": 2,
   "id": "61b5d0c7",
   "metadata": {},
   "outputs": [
    {
     "name": "stdout",
     "output_type": "stream",
     "text": [
      "Enter 1st number: 10\n",
      "Enter 2nd number: 2\n",
      "Addition of both entered numbers is :  12\n",
      "Division of both 1st number by sencond number is:  5.0\n"
     ]
    }
   ],
   "source": [
    "num1 = int(input(\"Enter 1st number: \"))\n",
    "num2 = int(input(\"Enter 2nd number: \"))\n",
    "print(\"Addition of both entered numbers is : \",num1+num2)\n",
    "\n",
    "try:\n",
    "    div = num1/num2\n",
    "    print(\"Division of both 1st number by sencond number is: \",div)\n",
    "except Exception as e:\n",
    "    print (\"Error occured in division:\", e)"
   ]
  },
  {
   "cell_type": "code",
   "execution_count": 3,
   "id": "9da86927",
   "metadata": {},
   "outputs": [
    {
     "name": "stdout",
     "output_type": "stream",
     "text": [
      "Enter 1st number: 10\n",
      "Enter 2nd number: 0\n",
      "Addition of both entered numbers is :  10\n",
      "Error occured in division: division by zero\n"
     ]
    }
   ],
   "source": [
    "num1 = int(input(\"Enter 1st number: \"))\n",
    "num2 = int(input(\"Enter 2nd number: \"))\n",
    "print(\"Addition of both entered numbers is : \",num1+num2)\n",
    "\n",
    "try:\n",
    "    div = num1/num2\n",
    "    print(\"Division of both 1st number by sencond number is: \",div)\n",
    "except Exception as e:\n",
    "    print (\"Error occured in division:\", e)"
   ]
  },
  {
   "cell_type": "markdown",
   "id": "a7c57642",
   "metadata": {},
   "source": [
    "### 3.\tWrite a Python program to find the area of a triangle"
   ]
  },
  {
   "cell_type": "code",
   "execution_count": 4,
   "id": "d1f4772a",
   "metadata": {},
   "outputs": [],
   "source": [
    "def tri_area(base,hight):\n",
    "    \"\"\"This is a function to calculate area of a triangle given its base and hight\"\"\"\n",
    "    return 0.5*base*hight"
   ]
  },
  {
   "cell_type": "code",
   "execution_count": 5,
   "id": "24cfda9e",
   "metadata": {},
   "outputs": [
    {
     "name": "stdout",
     "output_type": "stream",
     "text": [
      "Enter base length:10\n",
      "Enter hight length:2\n",
      "Area of the entered triangle is : 10.0\n"
     ]
    }
   ],
   "source": [
    "base = int(input(\"Enter base length:\"))\n",
    "hight = int(input(\"Enter hight length:\"))\n",
    "print(\"Area of the entered triangle is :\",tri_area(base,hight))"
   ]
  },
  {
   "cell_type": "markdown",
   "id": "73c9addb",
   "metadata": {},
   "source": [
    "### 4.\tWrite a Python program to swap two variables"
   ]
  },
  {
   "cell_type": "code",
   "execution_count": 7,
   "id": "4496ffdf",
   "metadata": {},
   "outputs": [
    {
     "name": "stdout",
     "output_type": "stream",
     "text": [
      "Enter value for variable a:10\n",
      "Enter value for variable b:20\n",
      "After Swapping \n",
      "value of variable a is: 20 value of variable b is: 10\n"
     ]
    }
   ],
   "source": [
    "a= int(input(\"Enter value for variable a:\"))\n",
    "b= int(input(\"Enter value for variable b:\"))\n",
    "c=a\n",
    "a=b\n",
    "b=c\n",
    "print(\"After Swapping \\nvalue of variable a is:\",a,\"value of variable b is:\",b)\n"
   ]
  },
  {
   "cell_type": "markdown",
   "id": "b0a8b1fa",
   "metadata": {},
   "source": [
    "### 5.\tWrite a Python program to generate a random number"
   ]
  },
  {
   "cell_type": "code",
   "execution_count": 14,
   "id": "eafc4c9a",
   "metadata": {},
   "outputs": [
    {
     "data": {
      "text/plain": [
       "68"
      ]
     },
     "execution_count": 14,
     "metadata": {},
     "output_type": "execute_result"
    }
   ],
   "source": [
    "import random\n",
    "n = random.randint(0,100)\n",
    "n"
   ]
  }
 ],
 "metadata": {
  "kernelspec": {
   "display_name": "Python 3",
   "language": "python",
   "name": "python3"
  },
  "language_info": {
   "codemirror_mode": {
    "name": "ipython",
    "version": 3
   },
   "file_extension": ".py",
   "mimetype": "text/x-python",
   "name": "python",
   "nbconvert_exporter": "python",
   "pygments_lexer": "ipython3",
   "version": "3.8.8"
  }
 },
 "nbformat": 4,
 "nbformat_minor": 5
}
