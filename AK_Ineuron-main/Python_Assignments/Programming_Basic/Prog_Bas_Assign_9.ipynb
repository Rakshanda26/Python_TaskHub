{
 "cells": [
  {
   "cell_type": "markdown",
   "id": "184d3eab",
   "metadata": {},
   "source": [
    "### 1.\tWrite a Python program to check if the given number is a Disarium Number"
   ]
  },
  {
   "cell_type": "code",
   "execution_count": 3,
   "id": "ef8db026",
   "metadata": {},
   "outputs": [
    {
     "name": "stdout",
     "output_type": "stream",
     "text": [
      "Enter the number to be checked for Disarium135\n",
      "Disarium number\n"
     ]
    }
   ],
   "source": [
    "no = int(input(\"Enter the number to be checked for Disarium\"))\n",
    "no_str=str(no)\n",
    "s=0\n",
    "\n",
    "for i in range(0,len(no_str),1):\n",
    "    temp=int(no_str[i])\n",
    "    s=s+(temp**(i+1))\n",
    "\n",
    "if s==no:\n",
    "    print(\"Disarium number\")\n",
    "else:\n",
    "    print(\"Not a disarium number\")\n",
    "    "
   ]
  },
  {
   "cell_type": "markdown",
   "id": "1a8c84cb",
   "metadata": {},
   "source": [
    "### 2.\tWrite a Python program to print all disarium numbers between 1 to 100"
   ]
  },
  {
   "cell_type": "code",
   "execution_count": 5,
   "id": "b4bcad36",
   "metadata": {},
   "outputs": [
    {
     "data": {
      "text/plain": [
       "[1, 2, 3, 4, 5, 6, 7, 8, 9, 89]"
      ]
     },
     "execution_count": 5,
     "metadata": {},
     "output_type": "execute_result"
    }
   ],
   "source": [
    "l=list(range(1,101))\n",
    "disarium=[]\n",
    "\n",
    "for i in l:\n",
    "    no_str=str(i)\n",
    "    s=0\n",
    "\n",
    "    for j in range(0,len(no_str),1):\n",
    "        temp=int(no_str[j])\n",
    "        s=s+(temp**(j+1))\n",
    "\n",
    "    if s==i:\n",
    "        disarium.append(i)\n",
    "\n",
    "disarium\n"
   ]
  },
  {
   "cell_type": "markdown",
   "id": "c38b14df",
   "metadata": {},
   "source": [
    "### 3.\tWrite a Python program to check if the given number is Happy Number"
   ]
  },
  {
   "cell_type": "code",
   "execution_count": 14,
   "id": "de4a138f",
   "metadata": {},
   "outputs": [
    {
     "name": "stdout",
     "output_type": "stream",
     "text": [
      "Enter the number to be checked for happy number:19\n",
      "Entered number is happy :)\n"
     ]
    }
   ],
   "source": [
    "no=int(input(\"Enter the number to be checked for happy number:\"))\n",
    "digits=[]\n",
    "computed=[]\n",
    "no2=0\n",
    "flag=0\n",
    "flag2=0\n",
    "temp=0\n",
    "\n",
    "no_string=str(no)\n",
    "for i in no_string:\n",
    "    digits.append(int(i))\n",
    "\n",
    "while no2!=1:\n",
    "    for i in digits:\n",
    "        temp=temp+(i**2)\n",
    "    for i in computed:\n",
    "        if temp==i:\n",
    "            flag=1\n",
    "    if flag==0:\n",
    "        computed.append(temp)\n",
    "        no2=temp\n",
    "        temp=0\n",
    "        digits=[]\n",
    "        no2_str=str(no2)\n",
    "        for i in no2_str:\n",
    "            digits.append(int(i))\n",
    "    else:\n",
    "        print(\"Entered number is not Happy :(\")\n",
    "        flag2=1\n",
    "        break\n",
    "\n",
    "if flag2==0:\n",
    "    print(\"Entered number is happy :)\")"
   ]
  },
  {
   "cell_type": "markdown",
   "id": "5725874d",
   "metadata": {},
   "source": [
    "### 4.\tWrite a Python program to print all happy numbers between 1 and 100"
   ]
  },
  {
   "cell_type": "code",
   "execution_count": 16,
   "id": "30197e99",
   "metadata": {},
   "outputs": [
    {
     "data": {
      "text/plain": [
       "[1, 7, 10, 13, 19, 23, 28, 31, 32, 44, 49, 68, 70, 79, 82, 86, 91, 94, 97, 100]"
      ]
     },
     "execution_count": 16,
     "metadata": {},
     "output_type": "execute_result"
    }
   ],
   "source": [
    "l = list(range(1,101))\n",
    "happies=[]\n",
    "for no in l:\n",
    "    digits=[]\n",
    "    computed=[]\n",
    "    no2=0\n",
    "    flag=0\n",
    "    flag2=0\n",
    "    temp=0\n",
    "\n",
    "    no_string=str(no)\n",
    "    for i in no_string:\n",
    "        digits.append(int(i))\n",
    "\n",
    "    while no2!=1:\n",
    "        for i in digits:\n",
    "            temp=temp+(i**2)\n",
    "        for i in computed:\n",
    "            if temp==i:\n",
    "                flag=1\n",
    "        if flag==0:\n",
    "            computed.append(temp)\n",
    "            no2=temp\n",
    "            temp=0\n",
    "            digits=[]\n",
    "            no2_str=str(no2)\n",
    "            for i in no2_str:\n",
    "                digits.append(int(i))\n",
    "        else:\n",
    "            flag2=1\n",
    "            break\n",
    "\n",
    "    if flag2==0:\n",
    "        happies.append(no)\n",
    "\n",
    "happies"
   ]
  },
  {
   "cell_type": "markdown",
   "id": "18609270",
   "metadata": {},
   "source": [
    "### 5.\tWrite a Python program to determine whether the given number is a Harshad Number"
   ]
  },
  {
   "cell_type": "code",
   "execution_count": 20,
   "id": "425224b3",
   "metadata": {},
   "outputs": [
    {
     "name": "stdout",
     "output_type": "stream",
     "text": [
      "Enter a number to be checked for Harshad Number171\n",
      "Entered number is Harshd Number\n"
     ]
    }
   ],
   "source": [
    "no = int(input(\"Enter a number to be checked for Harshad Number\"))\n",
    "no_str=str(no)\n",
    "divider=0\n",
    "\n",
    "for i in no_str:\n",
    "    divider=divider+int(i)\n",
    "\n",
    "if no%divider==0:\n",
    "    print(\"Entered number is Harshd Number\")\n",
    "else:\n",
    "    print(\"Entered number is not Harshd Number\")\n",
    "    "
   ]
  },
  {
   "cell_type": "markdown",
   "id": "142311ed",
   "metadata": {},
   "source": [
    "### 6.\tWrite a Python program to print all pronic numbers between 1 and 100"
   ]
  },
  {
   "cell_type": "code",
   "execution_count": 25,
   "id": "1804587b",
   "metadata": {},
   "outputs": [
    {
     "data": {
      "text/plain": [
       "[2, 6, 12, 20, 30, 42, 56, 72, 90]"
      ]
     },
     "execution_count": 25,
     "metadata": {},
     "output_type": "execute_result"
    }
   ],
   "source": [
    "import math\n",
    "\n",
    "l=list(range(1,101))\n",
    "x=0\n",
    "flag=0\n",
    "pronics=[]\n",
    "\n",
    "for no in l:\n",
    "    while x <= int(math.sqrt(no)):\n",
    "        if no== x*(x+1):\n",
    "            pronics.append(no)\n",
    "            break\n",
    "        else:\n",
    "            x=x+1\n",
    "    x=0\n",
    "pronics        "
   ]
  },
  {
   "cell_type": "code",
   "execution_count": null,
   "id": "bc79af69",
   "metadata": {},
   "outputs": [],
   "source": []
  }
 ],
 "metadata": {
  "kernelspec": {
   "display_name": "Python 3",
   "language": "python",
   "name": "python3"
  },
  "language_info": {
   "codemirror_mode": {
    "name": "ipython",
    "version": 3
   },
   "file_extension": ".py",
   "mimetype": "text/x-python",
   "name": "python",
   "nbconvert_exporter": "python",
   "pygments_lexer": "ipython3",
   "version": "3.8.8"
  }
 },
 "nbformat": 4,
 "nbformat_minor": 5
}
