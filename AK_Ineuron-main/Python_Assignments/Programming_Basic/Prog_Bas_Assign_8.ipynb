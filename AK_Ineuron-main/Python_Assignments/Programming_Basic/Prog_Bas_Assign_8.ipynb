{
 "cells": [
  {
   "cell_type": "markdown",
   "id": "99782227",
   "metadata": {},
   "source": [
    "### 1.\tWrite a Python Program to Add Two Matrices"
   ]
  },
  {
   "cell_type": "code",
   "execution_count": 3,
   "id": "e078ca56",
   "metadata": {},
   "outputs": [
    {
     "name": "stdout",
     "output_type": "stream",
     "text": [
      "Enter the number of rows in Matrices:3\n",
      "Enter the number of columns in Matrices:3\n",
      "\n",
      "Enter the elements of first matrix:\n",
      "Enter the element1\n",
      "Enter the element2\n",
      "Enter the element3\n",
      "Enter the element4\n",
      "Enter the element5\n",
      "Enter the element6\n",
      "Enter the element7\n",
      "Enter the element8\n",
      "Enter the element9\n",
      "\n",
      "Enter the elements of second matrix:\n",
      "Enter the element11\n",
      "Enter the element12\n",
      "Enter the element13\n",
      "Enter the element14\n",
      "Enter the element15\n",
      "Enter the element16\n",
      "Enter the element17\n",
      "Enter the element18\n",
      "Enter the element19\n",
      "\n",
      "First Entered Matrix (M1):\n",
      "[1, 2, 3]\n",
      "[4, 5, 6]\n",
      "[7, 8, 9]\n",
      "\n",
      "Second Entered Matrix (M2):\n",
      "[11, 12, 13]\n",
      "[14, 15, 16]\n",
      "[17, 18, 19]\n",
      "\n",
      "Addition Matrix (M1+M2):\n",
      "[12, 14, 16]\n",
      "[18, 20, 22]\n",
      "[24, 26, 28]\n"
     ]
    }
   ],
   "source": [
    "row = int(input(\"Enter the number of rows in Matrices:\"))\n",
    "col = int(input(\"Enter the number of columns in Matrices:\"))\n",
    "m1=[]\n",
    "m2=[]\n",
    "temp=[]\n",
    "addition=[]\n",
    "\n",
    "print(\"\\nEnter the elements of first matrix:\")\n",
    "for i in range (row):\n",
    "    for j in range(col):\n",
    "        no=int(input(\"Enter the element\")) \n",
    "        temp.append(no)\n",
    "    m1.append(temp)\n",
    "    temp=[]\n",
    "\n",
    "print(\"\\nEnter the elements of second matrix:\")\n",
    "for i in range (row):\n",
    "    for j in range(col):\n",
    "        no=int(input(\"Enter the element\")) \n",
    "        temp.append(no)\n",
    "    m2.append(temp)\n",
    "    temp=[]\n",
    "\n",
    "for i in range (row):\n",
    "    for j in range  (col):\n",
    "        temp.append(m1[i][j]+m2[i][j])\n",
    "    addition.append(temp)\n",
    "    temp=[]\n",
    "\n",
    "print(\"\\nFirst Entered Matrix (M1):\")\n",
    "for i in m1:\n",
    "    print(i)\n",
    "\n",
    "print(\"\\nSecond Entered Matrix (M2):\")\n",
    "for i in m2:\n",
    "    print(i)\n",
    "\n",
    "print(\"\\nAddition Matrix (M1+M2):\")\n",
    "for i in addition:\n",
    "    print(i)"
   ]
  },
  {
   "cell_type": "markdown",
   "id": "4bb789b2",
   "metadata": {},
   "source": [
    "### 2.\tWrite a Python Program to Multiply Two Matrices"
   ]
  },
  {
   "cell_type": "code",
   "execution_count": 1,
   "id": "c302a96f",
   "metadata": {},
   "outputs": [],
   "source": [
    "def multiply (l1,l2):\n",
    "    t=0\n",
    "    for i in range (len(l1)):\n",
    "        t= t+ l1[i]*l2[i]\n",
    "    return t"
   ]
  },
  {
   "cell_type": "code",
   "execution_count": 5,
   "id": "9cab9196",
   "metadata": {},
   "outputs": [
    {
     "name": "stdout",
     "output_type": "stream",
     "text": [
      "Enter the number of rows in first Matrics:2\n",
      "Enter the number of columns in first Matrics:3\n",
      "Enter the number of rows in second Matrics:3\n",
      "Enter the number of columns in second Matrics:2\n",
      "\n",
      "Enter the elements of first matrix:\n",
      "Enter the element1\n",
      "Enter the element2\n",
      "Enter the element3\n",
      "Enter the element4\n",
      "Enter the element5\n",
      "Enter the element6\n",
      "\n",
      "Enter the elements of second matrix:\n",
      "Enter the element7\n",
      "Enter the element8\n",
      "Enter the element9\n",
      "Enter the element1\n",
      "Enter the element2\n",
      "Enter the element3\n",
      "\n",
      " Entered Matrix (M1):\n",
      "[1, 2, 3]\n",
      "[4, 5, 6]\n",
      "\n",
      "Entered Matrix (M2):\n",
      "[7, 8]\n",
      "[9, 1]\n",
      "[2, 3]\n",
      "\n",
      "Matrix multiplication (M1*M2):\n",
      "[31, 19]\n",
      "[85, 55]\n"
     ]
    }
   ],
   "source": [
    "row1 = int(input(\"Enter the number of rows in first Matrics:\"))\n",
    "col1 = int(input(\"Enter the number of columns in first Matrics:\"))\n",
    "row2 = int(input(\"Enter the number of rows in second Matrics:\"))\n",
    "col2 = int(input(\"Enter the number of columns in second Matrics:\"))\n",
    "m1=[]\n",
    "m2=[]\n",
    "temp=[]\n",
    "temp_val=0\n",
    "addition=[]\n",
    "\n",
    "if col1==row2:\n",
    "    print(\"\\nEnter the elements of first matrix:\")\n",
    "    for i in range (row1):\n",
    "        for j in range(col1):\n",
    "            no=int(input(\"Enter the element\")) \n",
    "            temp.append(no)\n",
    "        m1.append(temp)\n",
    "        temp=[]\n",
    "\n",
    "    print(\"\\nEnter the elements of second matrix:\")\n",
    "    for i in range (row2):\n",
    "        for j in range(col2):\n",
    "            no=int(input(\"Enter the element\")) \n",
    "            temp.append(no)\n",
    "        m2.append(temp)\n",
    "        temp=[]\n",
    "    \n",
    "    m2_trp=transpose(m2)\n",
    "\n",
    "    for i in m1:\n",
    "        for j in m2_trp:\n",
    "            temp_val=multiply(i,j)\n",
    "            temp.append(temp_val)\n",
    "        addition.append(temp)\n",
    "        temp=[]\n",
    "\n",
    "    print(\"\\n Entered Matrix (M1):\")\n",
    "    for i in m1:\n",
    "        print(i)\n",
    "\n",
    "    print(\"\\nEntered Matrix (M2):\")\n",
    "    for i in m2:\n",
    "        print(i)\n",
    "    \n",
    "    print(\"\\nMatrix multiplication (M1*M2):\")\n",
    "    for i in addition:\n",
    "        print(i)\n",
    "        \n",
    "else:\n",
    "    print(\"Matrix multiplication not possible due to dimension dissimilarity\")"
   ]
  },
  {
   "cell_type": "markdown",
   "id": "dfa43411",
   "metadata": {},
   "source": [
    "### 3.\tWrite a Python Program to Transpose a Matrix"
   ]
  },
  {
   "cell_type": "code",
   "execution_count": 4,
   "id": "76446852",
   "metadata": {},
   "outputs": [],
   "source": [
    "def transpose(mat):\n",
    "    rows=len(mat)\n",
    "    cols=len(mat[0])\n",
    "    temp=[]\n",
    "    trp=[]\n",
    "    \n",
    "    for i in range(cols):\n",
    "        for j in range(rows):\n",
    "            temp.append(mat[j][i])\n",
    "        trp.append(temp)\n",
    "        temp=[]\n",
    "    \n",
    "    return trp\n",
    "    "
   ]
  },
  {
   "cell_type": "code",
   "execution_count": 5,
   "id": "548d6c4e",
   "metadata": {},
   "outputs": [
    {
     "name": "stdout",
     "output_type": "stream",
     "text": [
      "Enter the number of rows in Matrices:3\n",
      "Enter the number of columns in Matrices:4\n",
      "\n",
      "Enter the elements of first matrix:\n",
      "Enter the element1\n",
      "Enter the element2\n",
      "Enter the element3\n",
      "Enter the element4\n",
      "Enter the element5\n",
      "Enter the element6\n",
      "Enter the element7\n",
      "Enter the element8\n",
      "Enter the element9\n",
      "Enter the element10\n",
      "Enter the element11\n",
      "Enter the element12\n",
      "\n",
      " Entered Matrix (M1):\n",
      "[1, 2, 3, 4]\n",
      "[5, 6, 7, 8]\n",
      "[9, 10, 11, 12]\n",
      "\n",
      "Transpose Matrix T(M1):\n",
      "[1, 5, 9]\n",
      "[2, 6, 10]\n",
      "[3, 7, 11]\n",
      "[4, 8, 12]\n"
     ]
    }
   ],
   "source": [
    "row = int(input(\"Enter the number of rows in Matrices:\"))\n",
    "col = int(input(\"Enter the number of columns in Matrices:\"))\n",
    "m1=[]\n",
    "\n",
    "print(\"\\nEnter the elements of first matrix:\")\n",
    "for i in range (row):\n",
    "    for j in range(col):\n",
    "        no=int(input(\"Enter the element\")) \n",
    "        temp.append(no)\n",
    "    m1.append(temp)\n",
    "    temp=[]\n",
    "\n",
    "m2= transpose(m1)\n",
    "\n",
    "print(\"\\n Entered Matrix (M1):\")\n",
    "for i in m1:\n",
    "    print(i)\n",
    "\n",
    "print(\"\\nTranspose Matrix T(M1):\")\n",
    "for i in m2:\n",
    "    print(i)"
   ]
  },
  {
   "cell_type": "markdown",
   "id": "2ca2f4dd",
   "metadata": {},
   "source": [
    "### 4.\tWrite a Python Program to Sort Words in Alphabetic Order"
   ]
  },
  {
   "cell_type": "code",
   "execution_count": 10,
   "id": "ef0c636f",
   "metadata": {},
   "outputs": [
    {
     "name": "stdout",
     "output_type": "stream",
     "text": [
      "Enter the number of words to be sorted alphbetically:5\n",
      "Enter the word: apple\n",
      "Enter the word: ai\n",
      "Enter the word: master\n",
      "Enter the word: machine\n",
      "Enter the word: mat\n"
     ]
    },
    {
     "data": {
      "text/plain": [
       "['ai', 'apple', 'machine', 'master', 'mat']"
      ]
     },
     "execution_count": 10,
     "metadata": {},
     "output_type": "execute_result"
    }
   ],
   "source": [
    "n= int(input(\"Enter the number of words to be sorted alphbetically:\"))\n",
    "l=[]\n",
    "sort=[]\n",
    "mini=\"\"\n",
    "\n",
    "for i in range (n):\n",
    "    l.append(input(\"Enter the word: \"))\n",
    "\n",
    "for i in range(len(l)):\n",
    "    mini = l[0]\n",
    "    for j in range (1,len(l)):\n",
    "        for k in range (len(mini)):\n",
    "            if mini[k]<l[j][k]:\n",
    "                break\n",
    "            if mini[k]>l[j][k]:\n",
    "                mini=l[j]\n",
    "                break\n",
    "            else:\n",
    "                continue\n",
    "    sort.append(mini)\n",
    "    l.remove(mini)\n",
    "    mini=\"\"\n",
    "\n",
    "sort\n",
    "        \n",
    "        "
   ]
  },
  {
   "cell_type": "markdown",
   "id": "ba551767",
   "metadata": {},
   "source": [
    "### 5.\tWrite a Python Program to Remove Punctuation From a String"
   ]
  },
  {
   "cell_type": "code",
   "execution_count": 15,
   "id": "72821465",
   "metadata": {},
   "outputs": [
    {
     "name": "stdout",
     "output_type": "stream",
     "text": [
      "Enter a string to be freed from punctuation: Hi, There!\n"
     ]
    },
    {
     "data": {
      "text/plain": [
       "'Hi There'"
      ]
     },
     "execution_count": 15,
     "metadata": {},
     "output_type": "execute_result"
    }
   ],
   "source": [
    "s= input(\"Enter a string to be freed from punctuation: \")\n",
    "out=\"\"\n",
    "punct=['.','?','!',',',':',';','-','[',']','(',')','{','}']\n",
    "flag=0\n",
    "\n",
    "for i in s:\n",
    "    for j in punct:\n",
    "        if i==j:\n",
    "            flag=1\n",
    "    if flag==0:\n",
    "        out=out+i\n",
    "    flag=0\n",
    "\n",
    "out\n",
    "    "
   ]
  },
  {
   "cell_type": "code",
   "execution_count": null,
   "id": "4158798f",
   "metadata": {},
   "outputs": [],
   "source": []
  }
 ],
 "metadata": {
  "kernelspec": {
   "display_name": "Python 3",
   "language": "python",
   "name": "python3"
  },
  "language_info": {
   "codemirror_mode": {
    "name": "ipython",
    "version": 3
   },
   "file_extension": ".py",
   "mimetype": "text/x-python",
   "name": "python",
   "nbconvert_exporter": "python",
   "pygments_lexer": "ipython3",
   "version": "3.8.8"
  }
 },
 "nbformat": 4,
 "nbformat_minor": 5
}
