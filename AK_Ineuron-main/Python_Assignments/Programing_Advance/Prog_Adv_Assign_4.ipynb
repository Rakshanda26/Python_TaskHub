{
 "cells": [
  {
   "cell_type": "markdown",
   "id": "74f0df69",
   "metadata": {},
   "source": [
    "### Write a function fastFib(num) returns the fibonacci number Fn, of the given num as an argument"
   ]
  },
  {
   "cell_type": "code",
   "execution_count": 2,
   "id": "b9599f31",
   "metadata": {},
   "outputs": [],
   "source": [
    "def fib_fast(n):\n",
    "    \"\"\"This is a function to return the 'nth' number in fibonacci series\"\"\"\n",
    "    fib=[0,1,1]\n",
    "    a=1\n",
    "    b=1\n",
    "    for i in range(n+1):\n",
    "        c=a+b\n",
    "        fib.append(c)\n",
    "        a=b\n",
    "        b=c\n",
    "    return fib[n]"
   ]
  },
  {
   "cell_type": "code",
   "execution_count": 3,
   "id": "37fdf3c1",
   "metadata": {},
   "outputs": [
    {
     "data": {
      "text/plain": [
       "5"
      ]
     },
     "execution_count": 3,
     "metadata": {},
     "output_type": "execute_result"
    }
   ],
   "source": [
    "fib_fast(5) "
   ]
  },
  {
   "cell_type": "code",
   "execution_count": 4,
   "id": "f33f6907",
   "metadata": {},
   "outputs": [
    {
     "data": {
      "text/plain": [
       "55"
      ]
     },
     "execution_count": 4,
     "metadata": {},
     "output_type": "execute_result"
    }
   ],
   "source": [
    "fib_fast(10) "
   ]
  },
  {
   "cell_type": "code",
   "execution_count": 5,
   "id": "dacd35ba",
   "metadata": {},
   "outputs": [
    {
     "data": {
      "text/plain": [
       "6765"
      ]
     },
     "execution_count": 5,
     "metadata": {},
     "output_type": "execute_result"
    }
   ],
   "source": [
    "fib_fast(20) "
   ]
  },
  {
   "cell_type": "code",
   "execution_count": 6,
   "id": "3bd3ac3a",
   "metadata": {},
   "outputs": [
    {
     "data": {
      "text/plain": [
       "12586269025"
      ]
     },
     "execution_count": 6,
     "metadata": {},
     "output_type": "execute_result"
    }
   ],
   "source": [
    "fib_fast(50) "
   ]
  },
  {
   "cell_type": "markdown",
   "id": "272e4dc7",
   "metadata": {},
   "source": [
    "### 2. Create a function that takes a strings characters as ASCII and returns each characters hexadecimal value as a string."
   ]
  },
  {
   "cell_type": "code",
   "execution_count": 22,
   "id": "e6fdfdc1",
   "metadata": {},
   "outputs": [],
   "source": [
    "def convert_to_hex (ch):\n",
    "    \"\"\"This is a function to return ASCII equivalent in hexadecimal for entered string\"\"\"\n",
    "    out=\"\"\n",
    "    dicton={0:0,1:1,2:2,3:3,4:4,5:5,6:6,7:7,8:8,9:9,10:'A',11:'B',12:'C',13:'D',14:'E',15:'F'}\n",
    "    for k in ch:\n",
    "        asci= ord(k)\n",
    "        q=asci\n",
    "        hexa=[]\n",
    "        hexanibble=[]\n",
    "        while q>16:\n",
    "            hexa.append(asci%16)\n",
    "            q=int(q/16)\n",
    "        hexa.append(q)\n",
    "        hexa=hexa[::-1]\n",
    "        for i in hexa:\n",
    "            hexanibble.append(dicton[i])\n",
    "        for i in hexanibble:\n",
    "            out=out+str(i)\n",
    "        \n",
    "        out=out+\" \"\n",
    "    return out\n",
    "    "
   ]
  },
  {
   "cell_type": "code",
   "execution_count": 23,
   "id": "8aa5d13c",
   "metadata": {},
   "outputs": [
    {
     "data": {
      "text/plain": [
       "'68 65 6C 6C 6F 20 77 6F 72 6C 64 '"
      ]
     },
     "execution_count": 23,
     "metadata": {},
     "output_type": "execute_result"
    }
   ],
   "source": [
    "convert_to_hex(\"hello world\")"
   ]
  },
  {
   "cell_type": "code",
   "execution_count": 24,
   "id": "e366ca54",
   "metadata": {},
   "outputs": [
    {
     "data": {
      "text/plain": [
       "'42 69 67 20 42 6F 69 '"
      ]
     },
     "execution_count": 24,
     "metadata": {},
     "output_type": "execute_result"
    }
   ],
   "source": [
    "convert_to_hex(\"Big Boi\") "
   ]
  },
  {
   "cell_type": "code",
   "execution_count": 25,
   "id": "b26bf6c3",
   "metadata": {},
   "outputs": [
    {
     "data": {
      "text/plain": [
       "'4D 61 72 74 79 20 50 6F 70 70 69 6E 73 6F 6E '"
      ]
     },
     "execution_count": 25,
     "metadata": {},
     "output_type": "execute_result"
    }
   ],
   "source": [
    "convert_to_hex(\"Marty Poppinson\") "
   ]
  },
  {
   "cell_type": "markdown",
   "id": "d6a00f88",
   "metadata": {},
   "source": [
    "### 3.Given a censored string and a string of the censored vowels, return the original uncensored string"
   ]
  },
  {
   "cell_type": "code",
   "execution_count": 30,
   "id": "b737ccd4",
   "metadata": {},
   "outputs": [],
   "source": [
    "def uncensor (data,vowel):\n",
    "    \"\"\"This is a function to return unsensored string\"\"\"\n",
    "    output=\"\"\n",
    "    pointer=0\n",
    "    for i in data:\n",
    "        if i==\"*\":\n",
    "            output=output+ vowel[pointer]\n",
    "            pointer=pointer+1\n",
    "        else:\n",
    "            output= output+ i\n",
    "        \n",
    "    return output        "
   ]
  },
  {
   "cell_type": "code",
   "execution_count": 31,
   "id": "4def81a9",
   "metadata": {},
   "outputs": [
    {
     "data": {
      "text/plain": [
       "'Where did my vowels go?'"
      ]
     },
     "execution_count": 31,
     "metadata": {},
     "output_type": "execute_result"
    }
   ],
   "source": [
    "uncensor(\"Wh*r* d*d my v*w*ls g*?\", \"eeioeo\") "
   ]
  },
  {
   "cell_type": "code",
   "execution_count": 32,
   "id": "ad877c02",
   "metadata": {},
   "outputs": [
    {
     "data": {
      "text/plain": [
       "'abcd'"
      ]
     },
     "execution_count": 32,
     "metadata": {},
     "output_type": "execute_result"
    }
   ],
   "source": [
    "uncensor(\"abcd\", \"\") "
   ]
  },
  {
   "cell_type": "code",
   "execution_count": 33,
   "id": "0600aa16",
   "metadata": {},
   "outputs": [
    {
     "data": {
      "text/plain": [
       "'UPPERCASE'"
      ]
     },
     "execution_count": 33,
     "metadata": {},
     "output_type": "execute_result"
    }
   ],
   "source": [
    "uncensor(\"*PP*RC*S*\", \"UEAE\")"
   ]
  },
  {
   "cell_type": "markdown",
   "id": "d6fc43d2",
   "metadata": {},
   "source": [
    "### 4. Write a function that takes an IP address and returns the domain name using PTR DNS records."
   ]
  },
  {
   "cell_type": "code",
   "execution_count": 38,
   "id": "1619ddb0",
   "metadata": {},
   "outputs": [],
   "source": [
    "def get_domain (ip):\n",
    "    \"\"\"This is a function to map DNS to given IP\"\"\"\n",
    "    a,b,c=socket.gethostbyaddr(ip)\n",
    "    return a"
   ]
  },
  {
   "cell_type": "code",
   "execution_count": 39,
   "id": "14bf9065",
   "metadata": {},
   "outputs": [
    {
     "data": {
      "text/plain": [
       "'dns.google'"
      ]
     },
     "execution_count": 39,
     "metadata": {},
     "output_type": "execute_result"
    }
   ],
   "source": [
    "get_domain(\"8.8.8.8\") "
   ]
  },
  {
   "cell_type": "code",
   "execution_count": 40,
   "id": "1f391b6d",
   "metadata": {},
   "outputs": [
    {
     "data": {
      "text/plain": [
       "'dns.google'"
      ]
     },
     "execution_count": 40,
     "metadata": {},
     "output_type": "execute_result"
    }
   ],
   "source": [
    "get_domain(\"8.8.4.4\") "
   ]
  },
  {
   "cell_type": "markdown",
   "id": "813fdecf",
   "metadata": {},
   "source": [
    "### 5. Write a function that takes an integer n and returns the factorial of factorials"
   ]
  },
  {
   "cell_type": "code",
   "execution_count": 44,
   "id": "cfc2eccc",
   "metadata": {},
   "outputs": [],
   "source": [
    "def fact_of_fact (no):\n",
    "    \"\"\"This is a function to return factorial of factorial\"\"\"\n",
    "    fact_list=[]\n",
    "    result=1\n",
    "    temp=1\n",
    "\n",
    "    for i in range(no,0,-1):\n",
    "        fact_list.append(i)\n",
    "\n",
    "    for i in fact_list:\n",
    "        for j in range (i,0,-1):\n",
    "            temp=temp*j\n",
    "        result=result*temp\n",
    "        temp=1\n",
    "    return result"
   ]
  },
  {
   "cell_type": "code",
   "execution_count": 45,
   "id": "fdf209b2",
   "metadata": {},
   "outputs": [
    {
     "data": {
      "text/plain": [
       "288"
      ]
     },
     "execution_count": 45,
     "metadata": {},
     "output_type": "execute_result"
    }
   ],
   "source": [
    "fact_of_fact(4) "
   ]
  },
  {
   "cell_type": "code",
   "execution_count": 46,
   "id": "3e125efd",
   "metadata": {},
   "outputs": [
    {
     "data": {
      "text/plain": [
       "34560"
      ]
     },
     "execution_count": 46,
     "metadata": {},
     "output_type": "execute_result"
    }
   ],
   "source": [
    "fact_of_fact(5) "
   ]
  },
  {
   "cell_type": "code",
   "execution_count": 47,
   "id": "7ddd6370",
   "metadata": {},
   "outputs": [
    {
     "data": {
      "text/plain": [
       "24883200"
      ]
     },
     "execution_count": 47,
     "metadata": {},
     "output_type": "execute_result"
    }
   ],
   "source": [
    "fact_of_fact(6) "
   ]
  }
 ],
 "metadata": {
  "kernelspec": {
   "display_name": "Python 3",
   "language": "python",
   "name": "python3"
  },
  "language_info": {
   "codemirror_mode": {
    "name": "ipython",
    "version": 3
   },
   "file_extension": ".py",
   "mimetype": "text/x-python",
   "name": "python",
   "nbconvert_exporter": "python",
   "pygments_lexer": "ipython3",
   "version": "3.8.8"
  }
 },
 "nbformat": 4,
 "nbformat_minor": 5
}
