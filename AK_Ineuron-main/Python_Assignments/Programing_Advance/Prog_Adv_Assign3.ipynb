{
 "cells": [
  {
   "cell_type": "markdown",
   "id": "e0a71481",
   "metadata": {},
   "source": [
    "### Create a function to perform basic arithmetic operations that includes addition, subtraction, multiplication and division on a string number "
   ]
  },
  {
   "cell_type": "code",
   "execution_count": 11,
   "id": "8bc05d42",
   "metadata": {},
   "outputs": [],
   "source": [
    "def arithmetic_operation (string):\n",
    "    \"\"\"This is a function to accept a string containing two operands and one operator and give result of the operation\"\"\"\n",
    "    \n",
    "    # Initializing strings and flags\n",
    "    num1=\"\"\n",
    "    num2=\"\"\n",
    "    opr=\"\"\n",
    "    flag1,flag2,flag3=0,0,0\n",
    "    \n",
    "    \n",
    "    # Loop for extracting numbers and operator as individual strings\n",
    "    for i in string:\n",
    "        if (i!=\" \" and flag1==0 and flag2==0 and flag3==0):\n",
    "            num1=num1+i\n",
    "        elif(i==\" \" and flag1==0 and flag2==0 and flag3==0):\n",
    "            flag1=1\n",
    "        elif(i!=\" \" and flag1==1 and flag2==0 and flag3==0):\n",
    "            opr=opr+i\n",
    "        elif(i==\" \" and flag1==1 and flag2==0 and flag3==0):\n",
    "            flag2=1\n",
    "        elif(i!=\" \" and flag1==1 and flag2==1 and flag3==0):\n",
    "            num2=num2+i\n",
    "        elif(i==\" \" and flag1==1 and flag2==1 and flag3==0):\n",
    "            flag3=0\n",
    "            \n",
    "    # Converting extracted number strings into integers\n",
    "    num1=int(num1)\n",
    "    num2=int(num2)\n",
    "    \n",
    "    # Performing mathematical operation based on value of operator string\n",
    "    if opr==\"+\":\n",
    "        result=num1+num2\n",
    "    elif opr==\"-\":\n",
    "        result=num1-num2\n",
    "    elif opr==\"*\":\n",
    "        result=num1*num2\n",
    "    elif opr==\"//\":\n",
    "        # Checking the condition of divide by 0 when operation is division\n",
    "        if num2 !=0:\n",
    "            result=num1/num2\n",
    "        else:\n",
    "            result=-1\n",
    "    \n",
    "    # Returning the result of operation\n",
    "    return result"
   ]
  },
  {
   "cell_type": "code",
   "execution_count": 8,
   "id": "30b716c2",
   "metadata": {},
   "outputs": [
    {
     "data": {
      "text/plain": [
       "24"
      ]
     },
     "execution_count": 8,
     "metadata": {},
     "output_type": "execute_result"
    }
   ],
   "source": [
    "arithmetic_operation(\"12 + 12\")"
   ]
  },
  {
   "cell_type": "code",
   "execution_count": 9,
   "id": "0ffd2815",
   "metadata": {},
   "outputs": [
    {
     "data": {
      "text/plain": [
       "0"
      ]
     },
     "execution_count": 9,
     "metadata": {},
     "output_type": "execute_result"
    }
   ],
   "source": [
    "arithmetic_operation(\"12 - 12\")"
   ]
  },
  {
   "cell_type": "code",
   "execution_count": 10,
   "id": "c4caa259",
   "metadata": {},
   "outputs": [
    {
     "data": {
      "text/plain": [
       "144"
      ]
     },
     "execution_count": 10,
     "metadata": {},
     "output_type": "execute_result"
    }
   ],
   "source": [
    "arithmetic_operation(\"12 * 12\") "
   ]
  },
  {
   "cell_type": "code",
   "execution_count": 12,
   "id": "64898ed1",
   "metadata": {},
   "outputs": [
    {
     "data": {
      "text/plain": [
       "-1"
      ]
     },
     "execution_count": 12,
     "metadata": {},
     "output_type": "execute_result"
    }
   ],
   "source": [
    "arithmetic_operation(\"12 // 0\")"
   ]
  },
  {
   "cell_type": "markdown",
   "id": "b3fd08ea",
   "metadata": {},
   "source": [
    "### Write a function that takes the coordinates of three points in the form of a 2d array and returns the perimeter of the triangle. The given points are the vertices of a triangle on a two-dimensional plane"
   ]
  },
  {
   "cell_type": "code",
   "execution_count": 13,
   "id": "8d01331d",
   "metadata": {},
   "outputs": [],
   "source": [
    "import math"
   ]
  },
  {
   "cell_type": "code",
   "execution_count": 15,
   "id": "d9d371e8",
   "metadata": {},
   "outputs": [],
   "source": [
    "def perimeter (points):\n",
    "    \"\"\"This is function to accept a list containing vertices of 2D triangle and return its perimeter\"\"\"\n",
    "    # Identifying indivisual points and seperating there X and Y co-ordinates\n",
    "    p1=points[0]\n",
    "    x1=p1[0]\n",
    "    y1=p1[1]\n",
    "    \n",
    "    p2=points[1]\n",
    "    x2=p2[0]\n",
    "    y2=p2[1]\n",
    "\n",
    "    p3=points[2]\n",
    "    x3=p3[0]\n",
    "    y3=p3[1]\n",
    "\n",
    "    \n",
    "    # Computing length of sides between two vertices\n",
    "    s1= math.sqrt((y2-y1)**2+(x2-x1)**2)\n",
    "    s2= math.sqrt((y2-y3)**2+(x2-x3)**2)\n",
    "    s3= math.sqrt((y3-y1)**2+(x3-x1)**2)\n",
    "    \n",
    "    # Computing perimeter based on sides\n",
    "    perim =s1+s2+s3\n",
    "    \n",
    "    #Returning the computed perimeter\n",
    "    return perim"
   ]
  },
  {
   "cell_type": "code",
   "execution_count": 16,
   "id": "e46d2d53",
   "metadata": {},
   "outputs": [
    {
     "data": {
      "text/plain": [
       "47.07918859608948"
      ]
     },
     "execution_count": 16,
     "metadata": {},
     "output_type": "execute_result"
    }
   ],
   "source": [
    "perimeter( [ [15, 7], [5, 22], [11, 1] ] )"
   ]
  },
  {
   "cell_type": "code",
   "execution_count": 17,
   "id": "a9c0ad12",
   "metadata": {},
   "outputs": [
    {
     "data": {
      "text/plain": [
       "3.414213562373095"
      ]
     },
     "execution_count": 17,
     "metadata": {},
     "output_type": "execute_result"
    }
   ],
   "source": [
    "perimeter( [ [0, 0], [0, 1], [1, 0] ] ) "
   ]
  },
  {
   "cell_type": "code",
   "execution_count": 18,
   "id": "0f62cd75",
   "metadata": {},
   "outputs": [
    {
     "data": {
      "text/plain": [
       "68.2842712474619"
      ]
     },
     "execution_count": 18,
     "metadata": {},
     "output_type": "execute_result"
    }
   ],
   "source": [
    "perimeter( [ [-10, -10], [10, 10 ], [-10, 10] ] ) "
   ]
  },
  {
   "cell_type": "markdown",
   "id": "21766eaf",
   "metadata": {},
   "source": [
    "### A city skyline can be represented as a 2-D list with 1s representing buildings Create a function that takes a skyline (2-D list of 0's and 1's) and returns the height of the tallest skyscraper"
   ]
  },
  {
   "cell_type": "code",
   "execution_count": 30,
   "id": "dd696bd9",
   "metadata": {},
   "outputs": [],
   "source": [
    "def tallest_skyscraper (skyline):\n",
    "    \"\"\"This is a function which accepts 2D sskyline in 1's & 0's hence return the hight of tallest building\"\"\"\n",
    "    flag=0\n",
    "    for i in range(len(skyline)):\n",
    "        hight= len(skyline)-i\n",
    "        for building in skyline[i]:\n",
    "            if building ==1:\n",
    "                flag=1\n",
    "                break\n",
    "        if flag==1:\n",
    "            break\n",
    "    return hight"
   ]
  },
  {
   "cell_type": "code",
   "execution_count": 31,
   "id": "a7978d53",
   "metadata": {},
   "outputs": [
    {
     "data": {
      "text/plain": [
       "3"
      ]
     },
     "execution_count": 31,
     "metadata": {},
     "output_type": "execute_result"
    }
   ],
   "source": [
    "tallest_skyscraper([\n",
    "[0, 0, 0, 0],\n",
    "[0, 1, 0, 0],\n",
    "[0, 1, 1, 0],\n",
    "[1, 1, 1, 1]\n",
    "]) \n"
   ]
  },
  {
   "cell_type": "code",
   "execution_count": 32,
   "id": "557e3beb",
   "metadata": {},
   "outputs": [
    {
     "data": {
      "text/plain": [
       "4"
      ]
     },
     "execution_count": 32,
     "metadata": {},
     "output_type": "execute_result"
    }
   ],
   "source": [
    "tallest_skyscraper([\n",
    "[0, 1, 0, 0],\n",
    "[0, 1, 0, 0],\n",
    "[0, 1, 1, 0],\n",
    "[1, 1, 1, 1]\n",
    "])\n"
   ]
  },
  {
   "cell_type": "code",
   "execution_count": 33,
   "id": "e8765d63",
   "metadata": {},
   "outputs": [
    {
     "data": {
      "text/plain": [
       "2"
      ]
     },
     "execution_count": 33,
     "metadata": {},
     "output_type": "execute_result"
    }
   ],
   "source": [
    "tallest_skyscraper([\n",
    "[0, 0, 0, 0],\n",
    "[0, 0, 0, 0],\n",
    "[1, 1, 1, 0],\n",
    "[1, 1, 1, 1]\n",
    "]) \n"
   ]
  },
  {
   "cell_type": "markdown",
   "id": "135307c7",
   "metadata": {},
   "source": [
    "### Write a function to read the billable days of an employee and return the bonus he/she has obtained in that quarter"
   ]
  },
  {
   "cell_type": "code",
   "execution_count": 50,
   "id": "7774949d",
   "metadata": {},
   "outputs": [],
   "source": [
    "def bonus (bd):\n",
    "    \"\"\"This is a function to identify net cumilitive bonus of employee based on billing days\"\"\"\n",
    "    threshold=32\n",
    "    slab1=40\n",
    "    slab2=48\n",
    "    bonus1=325\n",
    "    bonus2=550\n",
    "    bonus3=600\n",
    "    net_bonus=0\n",
    "\n",
    "    bd1=bd-threshold\n",
    "    if bd1>0:\n",
    "        if bd1>=slab1-threshold:\n",
    "            net_bonus=net_bonus + (slab1-threshold)*bonus1\n",
    "            bd2=bd1-(slab1-threshold)\n",
    "            if bd2>=slab2-slab1:\n",
    "                net_bonus=net_bonus + (slab2-slab1)*bonus2\n",
    "                bd3=bd2-(slab2-slab1)\n",
    "                if bd3>0:\n",
    "                    net_bonus=net_bonus +bd3*bonus3\n",
    "            else:\n",
    "                net_bonus=net_bonus + bd2*bonus2\n",
    "        else :\n",
    "            net_bonus=net_bonus + bd1*bonus1\n",
    "    else:\n",
    "        net_bonus=0\n",
    "\n",
    "    return net_bonus"
   ]
  },
  {
   "cell_type": "code",
   "execution_count": 51,
   "id": "a7873672",
   "metadata": {},
   "outputs": [
    {
     "data": {
      "text/plain": [
       "0"
      ]
     },
     "execution_count": 51,
     "metadata": {},
     "output_type": "execute_result"
    }
   ],
   "source": [
    "bonus(15) "
   ]
  },
  {
   "cell_type": "code",
   "execution_count": 52,
   "id": "0cb4940f",
   "metadata": {},
   "outputs": [
    {
     "data": {
      "text/plain": [
       "1625"
      ]
     },
     "execution_count": 52,
     "metadata": {},
     "output_type": "execute_result"
    }
   ],
   "source": [
    "bonus(37)"
   ]
  },
  {
   "cell_type": "code",
   "execution_count": 53,
   "id": "c45e08d6",
   "metadata": {},
   "outputs": [
    {
     "data": {
      "text/plain": [
       "8200"
      ]
     },
     "execution_count": 53,
     "metadata": {},
     "output_type": "execute_result"
    }
   ],
   "source": [
    "bonus(50) "
   ]
  },
  {
   "cell_type": "markdown",
   "id": "687aaf2f",
   "metadata": {},
   "source": [
    "### Create a function that determines whether a number is a Disarium or not"
   ]
  },
  {
   "cell_type": "code",
   "execution_count": 58,
   "id": "fa2126b3",
   "metadata": {},
   "outputs": [],
   "source": [
    "def is_disarium (num):\n",
    "    \"\"\"This is a function to check if the entered number is a disarium\"\"\"\n",
    "    num_str=str(num)\n",
    "    faces=[]\n",
    "    check=0\n",
    "\n",
    "    for i in num_str:\n",
    "        faces.append(int(i))\n",
    "\n",
    "    for i in range(len(faces)):\n",
    "        check=check+(faces[i]**(i+1))\n",
    "\n",
    "    if check==num:\n",
    "        return True\n",
    "    else:\n",
    "        return False"
   ]
  },
  {
   "cell_type": "code",
   "execution_count": 59,
   "id": "7e298214",
   "metadata": {},
   "outputs": [
    {
     "data": {
      "text/plain": [
       "False"
      ]
     },
     "execution_count": 59,
     "metadata": {},
     "output_type": "execute_result"
    }
   ],
   "source": [
    "is_disarium(75) "
   ]
  },
  {
   "cell_type": "code",
   "execution_count": 60,
   "id": "b3aa3bcf",
   "metadata": {},
   "outputs": [
    {
     "data": {
      "text/plain": [
       "True"
      ]
     },
     "execution_count": 60,
     "metadata": {},
     "output_type": "execute_result"
    }
   ],
   "source": [
    "is_disarium(135) "
   ]
  },
  {
   "cell_type": "code",
   "execution_count": 61,
   "id": "e7ea9642",
   "metadata": {},
   "outputs": [
    {
     "data": {
      "text/plain": [
       "False"
      ]
     },
     "execution_count": 61,
     "metadata": {},
     "output_type": "execute_result"
    }
   ],
   "source": [
    "is_disarium(544) "
   ]
  },
  {
   "cell_type": "code",
   "execution_count": 62,
   "id": "6c34325c",
   "metadata": {},
   "outputs": [
    {
     "data": {
      "text/plain": [
       "True"
      ]
     },
     "execution_count": 62,
     "metadata": {},
     "output_type": "execute_result"
    }
   ],
   "source": [
    "is_disarium(518) "
   ]
  },
  {
   "cell_type": "code",
   "execution_count": 63,
   "id": "49915335",
   "metadata": {},
   "outputs": [
    {
     "data": {
      "text/plain": [
       "False"
      ]
     },
     "execution_count": 63,
     "metadata": {},
     "output_type": "execute_result"
    }
   ],
   "source": [
    "is_disarium(466)"
   ]
  },
  {
   "cell_type": "code",
   "execution_count": 64,
   "id": "d306b551",
   "metadata": {},
   "outputs": [
    {
     "data": {
      "text/plain": [
       "True"
      ]
     },
     "execution_count": 64,
     "metadata": {},
     "output_type": "execute_result"
    }
   ],
   "source": [
    "is_disarium(8) "
   ]
  },
  {
   "cell_type": "code",
   "execution_count": null,
   "id": "8c41ffae",
   "metadata": {},
   "outputs": [],
   "source": []
  }
 ],
 "metadata": {
  "kernelspec": {
   "display_name": "Python 3",
   "language": "python",
   "name": "python3"
  },
  "language_info": {
   "codemirror_mode": {
    "name": "ipython",
    "version": 3
   },
   "file_extension": ".py",
   "mimetype": "text/x-python",
   "name": "python",
   "nbconvert_exporter": "python",
   "pygments_lexer": "ipython3",
   "version": "3.8.8"
  }
 },
 "nbformat": 4,
 "nbformat_minor": 5
}
