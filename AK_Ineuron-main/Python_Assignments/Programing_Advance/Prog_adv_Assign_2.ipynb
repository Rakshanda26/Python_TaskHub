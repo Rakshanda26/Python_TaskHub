{
 "cells": [
  {
   "cell_type": "markdown",
   "id": "b8596497",
   "metadata": {},
   "source": [
    "### Write a function that takes a positive integer num and calculates how many dots exist in a pentagonal shape around the center dot on the Nth iteration."
   ]
  },
  {
   "cell_type": "code",
   "execution_count": 8,
   "id": "bc8d4f8f",
   "metadata": {},
   "outputs": [],
   "source": [
    "def pentagonal (obj):\n",
    "    \"\"\"This is a function to return number of dots in a pentagone for given number of iterations\"\"\"\n",
    "    dots=0\n",
    "    for i in range (obj):\n",
    "        if i ==0:\n",
    "            dots = 1\n",
    "        else:\n",
    "            dots = dots + i*5\n",
    "    return dots\n",
    "    "
   ]
  },
  {
   "cell_type": "code",
   "execution_count": 11,
   "id": "0a6849be",
   "metadata": {},
   "outputs": [
    {
     "data": {
      "text/plain": [
       "1"
      ]
     },
     "execution_count": 11,
     "metadata": {},
     "output_type": "execute_result"
    }
   ],
   "source": [
    "pentagonal(1) "
   ]
  },
  {
   "cell_type": "code",
   "execution_count": 12,
   "id": "467b0d3a",
   "metadata": {},
   "outputs": [
    {
     "data": {
      "text/plain": [
       "6"
      ]
     },
     "execution_count": 12,
     "metadata": {},
     "output_type": "execute_result"
    }
   ],
   "source": [
    "pentagonal(2) "
   ]
  },
  {
   "cell_type": "code",
   "execution_count": 13,
   "id": "6c6b0e99",
   "metadata": {},
   "outputs": [
    {
     "data": {
      "text/plain": [
       "16"
      ]
     },
     "execution_count": 13,
     "metadata": {},
     "output_type": "execute_result"
    }
   ],
   "source": [
    "pentagonal(3) "
   ]
  },
  {
   "cell_type": "code",
   "execution_count": 14,
   "id": "4c9afcb3",
   "metadata": {},
   "outputs": [
    {
     "data": {
      "text/plain": [
       "141"
      ]
     },
     "execution_count": 14,
     "metadata": {},
     "output_type": "execute_result"
    }
   ],
   "source": [
    "pentagonal(8) "
   ]
  },
  {
   "cell_type": "markdown",
   "id": "93522957",
   "metadata": {},
   "source": [
    "### Make a function that encrypts a given input with these steps:\n",
    "S-1) Reverse the input\n",
    "S-2) Replace all vowels using the following chart:\n",
    "        a => 0\n",
    "        e => 1\n",
    "        i => 2\n",
    "        o => 2\n",
    "        u => 3\n",
    "S-3) Add \"aca\" to the end of the word\n"
   ]
  },
  {
   "cell_type": "code",
   "execution_count": 23,
   "id": "acc13abc",
   "metadata": {},
   "outputs": [],
   "source": [
    "def encrypt (obj):\n",
    "    \"\"\"This is a function to encrypt a given string\"\"\"\n",
    "    reverse=obj[::-1]\n",
    "    dicton ={'A':0,'a':0,'E':1,'e':1,'I':2,'i':2,'O':2,'o':2,'U':3,'u':3}\n",
    "    coded=\"\"\n",
    "    for i in reverse:\n",
    "        flag=0\n",
    "        for j in dicton:\n",
    "            if i==j:\n",
    "                coded=coded+str(dicton[i])\n",
    "                flag=1\n",
    "        if flag ==0:\n",
    "            coded=coded+i\n",
    "    appended = coded+\"aca\"\n",
    "    return appended"
   ]
  },
  {
   "cell_type": "code",
   "execution_count": 24,
   "id": "f433f018",
   "metadata": {},
   "outputs": [
    {
     "data": {
      "text/plain": [
       "'0n0n0baca'"
      ]
     },
     "execution_count": 24,
     "metadata": {},
     "output_type": "execute_result"
    }
   ],
   "source": [
    "encrypt(\"banana\") "
   ]
  },
  {
   "cell_type": "code",
   "execution_count": 25,
   "id": "99384d81",
   "metadata": {},
   "outputs": [
    {
     "data": {
      "text/plain": [
       "'0c0r0kaca'"
      ]
     },
     "execution_count": 25,
     "metadata": {},
     "output_type": "execute_result"
    }
   ],
   "source": [
    "encrypt(\"karaca\") "
   ]
  },
  {
   "cell_type": "code",
   "execution_count": 26,
   "id": "f51d0cdd",
   "metadata": {},
   "outputs": [
    {
     "data": {
      "text/plain": [
       "'k0r3baca'"
      ]
     },
     "execution_count": 26,
     "metadata": {},
     "output_type": "execute_result"
    }
   ],
   "source": [
    "encrypt(\"burak\")"
   ]
  },
  {
   "cell_type": "code",
   "execution_count": 27,
   "id": "6b02e63b",
   "metadata": {},
   "outputs": [
    {
     "data": {
      "text/plain": [
       "'0c0pl0aca'"
      ]
     },
     "execution_count": 27,
     "metadata": {},
     "output_type": "execute_result"
    }
   ],
   "source": [
    "encrypt(\"alpaca\") "
   ]
  },
  {
   "cell_type": "markdown",
   "id": "d0829281",
   "metadata": {},
   "source": [
    "### Given the month and year as numbers, return whether that month contains a Friday 13th"
   ]
  },
  {
   "cell_type": "code",
   "execution_count": 29,
   "id": "7f6665f2",
   "metadata": {},
   "outputs": [],
   "source": [
    "import datetime\n",
    "import calendar"
   ]
  },
  {
   "cell_type": "code",
   "execution_count": 39,
   "id": "2b438f35",
   "metadata": {},
   "outputs": [],
   "source": [
    "def has_friday_13 (obj1,obj2):\n",
    "    \"\"\"This is a function to check whether given month for a given year had a friday at 13th\"\"\"\n",
    "    month = str(obj1)\n",
    "    year = str(obj2)\n",
    "    date = \"13\"\n",
    "    check = date+\" \"+month+\" \"+year\n",
    "    if (calendar.day_name[datetime.datetime.strptime(check, '%d %m %Y').weekday()] == \"Friday\"):\n",
    "        return True\n",
    "    else:\n",
    "        return False"
   ]
  },
  {
   "cell_type": "code",
   "execution_count": 40,
   "id": "34fa8a92",
   "metadata": {},
   "outputs": [
    {
     "data": {
      "text/plain": [
       "True"
      ]
     },
     "execution_count": 40,
     "metadata": {},
     "output_type": "execute_result"
    }
   ],
   "source": [
    "has_friday_13(3, 2020) "
   ]
  },
  {
   "cell_type": "code",
   "execution_count": 41,
   "id": "bc813254",
   "metadata": {},
   "outputs": [
    {
     "data": {
      "text/plain": [
       "True"
      ]
     },
     "execution_count": 41,
     "metadata": {},
     "output_type": "execute_result"
    }
   ],
   "source": [
    "has_friday_13(10, 2017) "
   ]
  },
  {
   "cell_type": "code",
   "execution_count": 42,
   "id": "5f06e7a8",
   "metadata": {},
   "outputs": [
    {
     "data": {
      "text/plain": [
       "False"
      ]
     },
     "execution_count": 42,
     "metadata": {},
     "output_type": "execute_result"
    }
   ],
   "source": [
    "has_friday_13(1, 1985) "
   ]
  },
  {
   "cell_type": "markdown",
   "id": "0119cd89",
   "metadata": {},
   "source": [
    "### Write a regular expression that will help us count how many bad cookies are produced every day. You must use RegEx negative lookbehind."
   ]
  },
  {
   "cell_type": "code",
   "execution_count": 1,
   "id": "94c5212d",
   "metadata": {},
   "outputs": [],
   "source": [
    "import re    "
   ]
  },
  {
   "cell_type": "code",
   "execution_count": 3,
   "id": "17f2d790",
   "metadata": {},
   "outputs": [
    {
     "data": {
      "text/plain": [
       "2"
      ]
     },
     "execution_count": 3,
     "metadata": {},
     "output_type": "execute_result"
    }
   ],
   "source": [
    "lst = [\"bad cookie\", \"good cookie\", \"bad cookie\", \"good cookie\", \"good cookie\"]\n",
    "pattern = \"bad cookie\"\n",
    "\n",
    "len(re.findall(pattern, \", \".join(lst))) \n"
   ]
  },
  {
   "cell_type": "markdown",
   "id": "9f414245",
   "metadata": {},
   "source": [
    "### Given a list of words in the singular form, return a set of those words in the plural form if they appear more than once in the list."
   ]
  },
  {
   "cell_type": "code",
   "execution_count": 52,
   "id": "39cf7e78",
   "metadata": {},
   "outputs": [],
   "source": [
    "def pluralize (obj):\n",
    "    \"\"\"This is a function to pluralize elements out list which occures multile times\"\"\"\n",
    "    l_dict={}\n",
    "    out=[]\n",
    "    for i in obj:\n",
    "        l_dict[i]=0\n",
    "    \n",
    "    for i in obj:\n",
    "        l_dict[i]=l_dict[i]+1\n",
    "        \n",
    "    for i in l_dict:\n",
    "        if l_dict[i] >1 :\n",
    "            out.append(i+\"s\")\n",
    "        else:\n",
    "            out.append(i)\n",
    "    return out"
   ]
  },
  {
   "cell_type": "code",
   "execution_count": 53,
   "id": "808f45cb",
   "metadata": {},
   "outputs": [
    {
     "data": {
      "text/plain": [
       "['cows', 'pig']"
      ]
     },
     "execution_count": 53,
     "metadata": {},
     "output_type": "execute_result"
    }
   ],
   "source": [
    "pluralize([\"cow\", \"pig\", \"cow\", \"cow\"])"
   ]
  },
  {
   "cell_type": "code",
   "execution_count": 54,
   "id": "fb727b43",
   "metadata": {},
   "outputs": [
    {
     "data": {
      "text/plain": [
       "['tables']"
      ]
     },
     "execution_count": 54,
     "metadata": {},
     "output_type": "execute_result"
    }
   ],
   "source": [
    "pluralize([\"table\", \"table\", \"table\"]) "
   ]
  },
  {
   "cell_type": "code",
   "execution_count": 55,
   "id": "47fe8f31",
   "metadata": {},
   "outputs": [
    {
     "data": {
      "text/plain": [
       "['chair', 'pencil', 'arm']"
      ]
     },
     "execution_count": 55,
     "metadata": {},
     "output_type": "execute_result"
    }
   ],
   "source": [
    "pluralize([\"chair\", \"pencil\", \"arm\"]) "
   ]
  },
  {
   "cell_type": "code",
   "execution_count": null,
   "id": "fa9b0c95",
   "metadata": {},
   "outputs": [],
   "source": []
  }
 ],
 "metadata": {
  "kernelspec": {
   "display_name": "Python 3",
   "language": "python",
   "name": "python3"
  },
  "language_info": {
   "codemirror_mode": {
    "name": "ipython",
    "version": 3
   },
   "file_extension": ".py",
   "mimetype": "text/x-python",
   "name": "python",
   "nbconvert_exporter": "python",
   "pygments_lexer": "ipython3",
   "version": "3.8.8"
  }
 },
 "nbformat": 4,
 "nbformat_minor": 5
}
