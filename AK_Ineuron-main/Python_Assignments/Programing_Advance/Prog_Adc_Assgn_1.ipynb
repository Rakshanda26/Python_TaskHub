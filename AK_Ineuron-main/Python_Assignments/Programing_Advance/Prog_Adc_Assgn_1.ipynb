{
 "cells": [
  {
   "cell_type": "markdown",
   "id": "2429029e",
   "metadata": {},
   "source": [
    "### Q1. Write a function that takes a list of lists and returns the value of all of the symbols in it, where each symbol adds or takes something from the total score. Symbol values:\n",
    "\n",
    "'# = 5\n",
    " O = 3\n",
    " X = 1\n",
    " ! = -1\n",
    " !! = -3\n",
    " !!! = -5\n"
   ]
  },
  {
   "cell_type": "code",
   "execution_count": 38,
   "id": "34d09170",
   "metadata": {},
   "outputs": [],
   "source": [
    "def check_score(l0):\n",
    "    \"\"\"This is a function to check net score of a nested list constaining special symbols\"\"\"\n",
    "    score_dict={\"#\":5,\"O\":3,\"X\":1,\"!\":-1,\"!!\":-3,\"!!!\":-5}\n",
    "    net_score=0\n",
    "    for i in l0:\n",
    "        l1=i\n",
    "        for j in l1:\n",
    "            net_score=net_score+score_dict[j]\n",
    "    \n",
    "    if net_score>=0:\n",
    "        return net_score\n",
    "    else:\n",
    "        return 0\n",
    "        "
   ]
  },
  {
   "cell_type": "code",
   "execution_count": 39,
   "id": "98dca34d",
   "metadata": {},
   "outputs": [
    {
     "data": {
      "text/plain": [
       "2"
      ]
     },
     "execution_count": 39,
     "metadata": {},
     "output_type": "execute_result"
    }
   ],
   "source": [
    "check_score([\n",
    "[\"#\", \"!\"],\n",
    "[\"!!\", \"X\"]\n",
    "])\n"
   ]
  },
  {
   "cell_type": "code",
   "execution_count": 40,
   "id": "4067f1bd",
   "metadata": {},
   "outputs": [
    {
     "data": {
      "text/plain": [
       "0"
      ]
     },
     "execution_count": 40,
     "metadata": {},
     "output_type": "execute_result"
    }
   ],
   "source": [
    "check_score([\n",
    "[\"!!!\", \"O\", \"!\"],\n",
    "[\"X\", \"#\", \"!!!\"],\n",
    "[\"!!\", \"X\", \"O\"]\n",
    "])\n"
   ]
  },
  {
   "cell_type": "markdown",
   "id": "f330a2c8",
   "metadata": {},
   "source": [
    "### Q2. Create a function that takes a variable number of arguments, each argument representing the number of items in a group, and returns the number of permutations (combinations) of items that you could get by taking one item from each group."
   ]
  },
  {
   "cell_type": "code",
   "execution_count": 41,
   "id": "eeae45e1",
   "metadata": {},
   "outputs": [],
   "source": [
    "def combinations (*args):\n",
    "    \"\"\"This is a function to returns number of possible combinations between two groups\"\"\"\n",
    "    net_combinations=1\n",
    "    for i in args:\n",
    "        net_combinations= net_combinations*i\n",
    "    return net_combinations"
   ]
  },
  {
   "cell_type": "code",
   "execution_count": 42,
   "id": "80b5ccb7",
   "metadata": {},
   "outputs": [
    {
     "data": {
      "text/plain": [
       "6"
      ]
     },
     "execution_count": 42,
     "metadata": {},
     "output_type": "execute_result"
    }
   ],
   "source": [
    "combinations(2, 3) "
   ]
  },
  {
   "cell_type": "code",
   "execution_count": 43,
   "id": "1dbbfa18",
   "metadata": {},
   "outputs": [
    {
     "data": {
      "text/plain": [
       "84"
      ]
     },
     "execution_count": 43,
     "metadata": {},
     "output_type": "execute_result"
    }
   ],
   "source": [
    "combinations(3, 7, 4) "
   ]
  },
  {
   "cell_type": "code",
   "execution_count": 44,
   "id": "bc46d100",
   "metadata": {},
   "outputs": [
    {
     "data": {
      "text/plain": [
       "120"
      ]
     },
     "execution_count": 44,
     "metadata": {},
     "output_type": "execute_result"
    }
   ],
   "source": [
    "combinations(2, 3, 4, 5) "
   ]
  },
  {
   "cell_type": "markdown",
   "id": "120fc050",
   "metadata": {},
   "source": [
    "### Q3. Create a function that takes a string as an argument and returns the Morse code equivalent."
   ]
  },
  {
   "cell_type": "code",
   "execution_count": 45,
   "id": "b87ad428",
   "metadata": {},
   "outputs": [],
   "source": [
    "def encode_morse (s0):\n",
    "    \"\"\"This is a function to encode given string into morse code\"\"\"\n",
    "    code_dict={\n",
    "                'A': '.-', 'B': '-...', 'C': '-.-.', 'D': '-..', 'E': '.', 'F': '..-.',\n",
    "                'G': '--.', 'H': '....', 'I': '..', 'J': '.---', 'K': '-.-', 'L': '.-..',\n",
    "                'M': '--', 'N': '-.', 'O': '---', 'P': '.--.', 'Q': '--.-', 'R': '.-.',\n",
    "                'S': '...', 'T': '-', 'U': '..-', 'V': '...-', 'W': '.--', 'X': '-..-',\n",
    "                'Y': '-.--', 'Z': '--..', '': '', '0': '-----',\n",
    "                '1': '.----', '2': '..---', '3': '...--', '4': '....-', '5': '.....',\n",
    "                '6': '-....', '7': '--...', '8': '---..', '9': '----.',\n",
    "                '&': '.-...', \"'\": '.----.', '@': '.--.-.', ')': '-.--.-', '(': '-.--.',\n",
    "                ':': '---...', ',': '--..--', '=': '-...-', '!': '-.-.--', '.': '.-.-.-',\n",
    "                '-': '-....-', '+': '.-.-.', '\"': '.-..-.', '?': '..--..', '/': '-..-.',' ':'   '\n",
    "              } #Added the morse code for empty space as empty space which was not mentioned in the data given with question\n",
    "    coded =\"\"\n",
    "    for i in s0:\n",
    "        coded=coded + code_dict[i]\n",
    "    return coded\n"
   ]
  },
  {
   "cell_type": "code",
   "execution_count": 46,
   "id": "9fbb601c",
   "metadata": {},
   "outputs": [
    {
     "data": {
      "text/plain": [
       "'.-...--...-.....-   -.-......-.-...-...-.--..'"
      ]
     },
     "execution_count": 46,
     "metadata": {},
     "output_type": "execute_result"
    }
   ],
   "source": [
    "encode_morse(\"EDABBIT CHALLENGE\") "
   ]
  },
  {
   "cell_type": "code",
   "execution_count": 47,
   "id": "447027b1",
   "metadata": {},
   "outputs": [
    {
     "data": {
      "text/plain": [
       "'......-...--.   --.   -.-.--'"
      ]
     },
     "execution_count": 47,
     "metadata": {},
     "output_type": "execute_result"
    }
   ],
   "source": [
    "encode_morse(\"HELP ME !\") "
   ]
  },
  {
   "cell_type": "markdown",
   "id": "57a65f54",
   "metadata": {},
   "source": [
    "### Q4. Write a function that takes a number and returns True if it's a prime; False otherwise. The number can be 2^64-1 (2 to the power of 63, not XOR). With the standard technique it would be O(2^64-1), which is much too large for the 10 second time limit."
   ]
  },
  {
   "cell_type": "code",
   "execution_count": 48,
   "id": "33a74912",
   "metadata": {},
   "outputs": [],
   "source": [
    "def prime (num):\n",
    "    \"\"\"This is a function tu find if entered number is primary or not\"\"\"\n",
    "    if (num%2 == 0):\n",
    "        return False\n",
    "    else:\n",
    "        return True"
   ]
  },
  {
   "cell_type": "code",
   "execution_count": 49,
   "id": "03c38716",
   "metadata": {},
   "outputs": [
    {
     "data": {
      "text/plain": [
       "True"
      ]
     },
     "execution_count": 49,
     "metadata": {},
     "output_type": "execute_result"
    }
   ],
   "source": [
    "prime(7) "
   ]
  },
  {
   "cell_type": "code",
   "execution_count": 50,
   "id": "0b3a0637",
   "metadata": {},
   "outputs": [
    {
     "data": {
      "text/plain": [
       "True"
      ]
     },
     "execution_count": 50,
     "metadata": {},
     "output_type": "execute_result"
    }
   ],
   "source": [
    "prime(56963) "
   ]
  },
  {
   "cell_type": "code",
   "execution_count": 51,
   "id": "a4a2386b",
   "metadata": {},
   "outputs": [
    {
     "data": {
      "text/plain": [
       "False"
      ]
     },
     "execution_count": 51,
     "metadata": {},
     "output_type": "execute_result"
    }
   ],
   "source": [
    "prime(5151512515524) "
   ]
  },
  {
   "cell_type": "markdown",
   "id": "b76500a9",
   "metadata": {},
   "source": [
    "### Create a function that converts a word to a bitstring and then to a boolean list based on the following criteria:\n",
    "\n",
    "1. Locate the position of the letter in the English alphabet (from 1 to 26).\n",
    "2. Odd positions will be represented as 1 and 0 otherwise.\n",
    "3. Convert the represented positions to boolean values, 1 for True and 0 for False.\n",
    "4. Store the conversions into an array.\n"
   ]
  },
  {
   "cell_type": "code",
   "execution_count": 52,
   "id": "37408dfa",
   "metadata": {},
   "outputs": [],
   "source": [
    "def to_boolean_list (s0):\n",
    "    \"\"\"This is a function to convert a given sting into boolean based on given rules\"\"\"\n",
    "    converted_list=[]\n",
    "    conversion_dict={'A':1,'a':1, 'B':2,'b':2, 'C':3,'c':3, 'D':4,'d':4, 'E':5,'e':5, 'F':6,'f':6,\n",
    "                    'G':7,'g':7, 'H':8,'h':8, 'I':9,'i':9, 'J':10,'j':10, 'K':11,'k':11, 'L':12,'l':12,\n",
    "                    'M':13,'m':13, 'N':14,'n':14, 'O':15,'o':15, 'P':16,'p':16, 'Q':17,'q':17, 'R':18,'r':18,\n",
    "                    'S':19,'s':19, 'T':20,'t':20, 'U':21,'u':21, 'V':22,'v':22, 'W':23,'w':23, 'X':24,'x':24,\n",
    "                    'Y':25,'y':25, 'Z':26,'z':26}\n",
    "    for i in s0:\n",
    "        position= conversion_dict[i]\n",
    "        if position%2 ==0:\n",
    "            converted_list.append(False)\n",
    "        else:\n",
    "            converted_list.append(True)\n",
    "    \n",
    "    return converted_list\n",
    "        "
   ]
  },
  {
   "cell_type": "code",
   "execution_count": 53,
   "id": "5ce2e2af",
   "metadata": {},
   "outputs": [
    {
     "data": {
      "text/plain": [
       "[False, True, False, True, True]"
      ]
     },
     "execution_count": 53,
     "metadata": {},
     "output_type": "execute_result"
    }
   ],
   "source": [
    "to_boolean_list(\"loves\") "
   ]
  },
  {
   "cell_type": "code",
   "execution_count": 54,
   "id": "de4cbc60",
   "metadata": {},
   "outputs": [
    {
     "data": {
      "text/plain": [
       "[False, True, True, False]"
      ]
     },
     "execution_count": 54,
     "metadata": {},
     "output_type": "execute_result"
    }
   ],
   "source": [
    "to_boolean_list(\"tesh\") "
   ]
  }
 ],
 "metadata": {
  "kernelspec": {
   "display_name": "Python 3",
   "language": "python",
   "name": "python3"
  },
  "language_info": {
   "codemirror_mode": {
    "name": "ipython",
    "version": 3
   },
   "file_extension": ".py",
   "mimetype": "text/x-python",
   "name": "python",
   "nbconvert_exporter": "python",
   "pygments_lexer": "ipython3",
   "version": "3.8.8"
  }
 },
 "nbformat": 4,
 "nbformat_minor": 5
}
