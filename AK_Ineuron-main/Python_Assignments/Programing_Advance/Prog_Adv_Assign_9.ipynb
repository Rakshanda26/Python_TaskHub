{
 "cells": [
  {
   "cell_type": "markdown",
   "id": "4a7bb5e1",
   "metadata": {},
   "source": [
    "### 1. YouTube offers different playback speed options for users. This allows users to increase or decrease the speed of the video content. Given the actual duration and playback speed of the video, calculate the playback duration of the video."
   ]
  },
  {
   "cell_type": "code",
   "execution_count": 11,
   "id": "38ab4715",
   "metadata": {},
   "outputs": [],
   "source": [
    "def playback_duration (duration,speed):\n",
    "    \"\"\"This is a function ti return video duration based on playback speed\"\"\"\n",
    "    d=[]\n",
    "    d2=[]\n",
    "    duration = duration + \":\"\n",
    "    temp=\"\"\n",
    "    out=\"\"\n",
    "\n",
    "    for i in duration:\n",
    "        if i != \":\":\n",
    "            temp=temp+i\n",
    "        else:\n",
    "            d.append(int(temp))\n",
    "            temp=\"\"\n",
    "\n",
    "    secs= d[0]*3600 + d[1]*60 +d [2]\n",
    "    secs2=secs/speed\n",
    "\n",
    "    d2.append(int(secs2//3600))\n",
    "    secs2=secs2-((secs2//3600)*3600)\n",
    "\n",
    "    d2.append(int(secs2//60))\n",
    "    secs2=secs2-((secs2//60)*60)\n",
    "\n",
    "    d2.append(int(secs2))\n",
    "\n",
    "    for i in range(len(d2)):\n",
    "        out=out+str(d2[i])\n",
    "        if i != len(d2)-1:\n",
    "            out=out+\":\"\n",
    "    \n",
    "    return out"
   ]
  },
  {
   "cell_type": "code",
   "execution_count": 12,
   "id": "223f5d84",
   "metadata": {},
   "outputs": [
    {
     "data": {
      "text/plain": [
       "'0:15:0'"
      ]
     },
     "execution_count": 12,
     "metadata": {},
     "output_type": "execute_result"
    }
   ],
   "source": [
    "playback_duration(\"00:30:00\", 2) "
   ]
  },
  {
   "cell_type": "code",
   "execution_count": 13,
   "id": "54fbc392",
   "metadata": {},
   "outputs": [
    {
     "data": {
      "text/plain": [
       "'0:53:20'"
      ]
     },
     "execution_count": 13,
     "metadata": {},
     "output_type": "execute_result"
    }
   ],
   "source": [
    "playback_duration(\"01:20:00\", 1.5)"
   ]
  },
  {
   "cell_type": "code",
   "execution_count": 14,
   "id": "c3580c3e",
   "metadata": {},
   "outputs": [
    {
     "data": {
      "text/plain": [
       "'102:40:18'"
      ]
     },
     "execution_count": 14,
     "metadata": {},
     "output_type": "execute_result"
    }
   ],
   "source": [
    "playback_duration(\"51:20:09\", 0.5) "
   ]
  },
  {
   "cell_type": "markdown",
   "id": "60e0dda2",
   "metadata": {},
   "source": [
    "### 2. We needs your help to construct a building which will be a pile of n cubes. The cube at the bottom will have a volume of n^3, the cube above will have volume of (n-1)^3 and so on until the top which will have a volume of 1^3.\n",
    "\n",
    "Given the total volume m of the building, can you find the number of cubes n required for the building?\n",
    "\n",
    "In other words, you have to return an integer n such that:\n",
    "\n",
    "n^3 + (n-1)^3 + ... + 1^3 == m\n",
    "\n",
    "Return None if there is no such number.\n"
   ]
  },
  {
   "cell_type": "code",
   "execution_count": 6,
   "id": "c264410a",
   "metadata": {},
   "outputs": [],
   "source": [
    "def pile_of_cubes (no):\n",
    "    \"\"\"This is a function to return the root of pile of cubes for a given number\"\"\"\n",
    "    x= int(no**(1/3))\n",
    "    \n",
    "    for i in range(x-1,0,-1):\n",
    "        j=i\n",
    "        temp=0\n",
    "        while j >=1:\n",
    "            temp=temp+(j**3)\n",
    "            j=j-1\n",
    "        if temp == no:\n",
    "            return(i)\n",
    "        else:\n",
    "            pass\n",
    "    return (\"None\")"
   ]
  },
  {
   "cell_type": "code",
   "execution_count": 7,
   "id": "9a644621",
   "metadata": {},
   "outputs": [
    {
     "data": {
      "text/plain": [
       "45"
      ]
     },
     "execution_count": 7,
     "metadata": {},
     "output_type": "execute_result"
    }
   ],
   "source": [
    "pile_of_cubes(1071225) "
   ]
  },
  {
   "cell_type": "code",
   "execution_count": 8,
   "id": "44371a5f",
   "metadata": {},
   "outputs": [
    {
     "data": {
      "text/plain": [
       "2022"
      ]
     },
     "execution_count": 8,
     "metadata": {},
     "output_type": "execute_result"
    }
   ],
   "source": [
    "pile_of_cubes(4183059834009) "
   ]
  },
  {
   "cell_type": "code",
   "execution_count": 9,
   "id": "1731c1d9",
   "metadata": {},
   "outputs": [
    {
     "data": {
      "text/plain": [
       "'None'"
      ]
     },
     "execution_count": 9,
     "metadata": {},
     "output_type": "execute_result"
    }
   ],
   "source": [
    "pile_of_cubes(16) "
   ]
  },
  {
   "cell_type": "markdown",
   "id": "f3d060e8",
   "metadata": {},
   "source": [
    "### 3. A fulcrum of a list is an integer such that all elements to the left of it and all elements to the right of it sum to the same value. Write a function that finds the fulcrum of a list."
   ]
  },
  {
   "cell_type": "code",
   "execution_count": 10,
   "id": "8bf13217",
   "metadata": {},
   "outputs": [],
   "source": [
    "def sumleft (l,i):\n",
    "    out=0\n",
    "    for j in range(i):\n",
    "        out=out+l[j]\n",
    "    return out"
   ]
  },
  {
   "cell_type": "code",
   "execution_count": 11,
   "id": "b71c232b",
   "metadata": {},
   "outputs": [],
   "source": [
    "def sumright (l,i):\n",
    "    out=0\n",
    "    for j in range(i+1,len(l)):\n",
    "        out=out+l[j]\n",
    "    return out"
   ]
  },
  {
   "cell_type": "code",
   "execution_count": 18,
   "id": "c8689647",
   "metadata": {},
   "outputs": [],
   "source": [
    "def find_fulcrum (l):\n",
    "    for i in range(1,len(l)-1):\n",
    "        sl=sumleft(l,i)\n",
    "        sr=sumright(l,i)\n",
    "        if sl==sr:\n",
    "            return(l[i])\n",
    "    return(-1)"
   ]
  },
  {
   "cell_type": "code",
   "execution_count": 19,
   "id": "166d983f",
   "metadata": {},
   "outputs": [
    {
     "data": {
      "text/plain": [
       "2"
      ]
     },
     "execution_count": 19,
     "metadata": {},
     "output_type": "execute_result"
    }
   ],
   "source": [
    "find_fulcrum([3, 1, 5, 2, 4, 6, -1])"
   ]
  },
  {
   "cell_type": "code",
   "execution_count": 20,
   "id": "280d794a",
   "metadata": {},
   "outputs": [
    {
     "data": {
      "text/plain": [
       "4"
      ]
     },
     "execution_count": 20,
     "metadata": {},
     "output_type": "execute_result"
    }
   ],
   "source": [
    "find_fulcrum([1, 2, 4, 9, 10, -10, -9, 3]) "
   ]
  },
  {
   "cell_type": "code",
   "execution_count": 21,
   "id": "4746598f",
   "metadata": {},
   "outputs": [
    {
     "data": {
      "text/plain": [
       "1"
      ]
     },
     "execution_count": 21,
     "metadata": {},
     "output_type": "execute_result"
    }
   ],
   "source": [
    "find_fulcrum([9, 1, 9])"
   ]
  },
  {
   "cell_type": "code",
   "execution_count": 22,
   "id": "a0a4a274",
   "metadata": {},
   "outputs": [
    {
     "data": {
      "text/plain": [
       "0"
      ]
     },
     "execution_count": 22,
     "metadata": {},
     "output_type": "execute_result"
    }
   ],
   "source": [
    "find_fulcrum([7, -1, 0, -1, 1, 1, 2, 3]) "
   ]
  },
  {
   "cell_type": "code",
   "execution_count": 23,
   "id": "7168235e",
   "metadata": {},
   "outputs": [
    {
     "data": {
      "text/plain": [
       "-1"
      ]
     },
     "execution_count": 23,
     "metadata": {},
     "output_type": "execute_result"
    }
   ],
   "source": [
    "find_fulcrum([8, 8, 8, 8]) "
   ]
  },
  {
   "cell_type": "markdown",
   "id": "0ddb6805",
   "metadata": {},
   "source": [
    "### 4. Given a list of integers representing the color of each sock, determine how many pairs of socks with matching colors there are. For example, there are 7 socks with colors [1, 2, 1, 2, 1, 3, 2]. There is one pair of color 1 and one of color 2. There are three odd socks left, one of each color. The number of pairs is 2.\n",
    "\n",
    "Create a function that returns an integer representing the number of matching pairs of socks that are available.\n"
   ]
  },
  {
   "cell_type": "code",
   "execution_count": 28,
   "id": "5d21bba9",
   "metadata": {},
   "outputs": [],
   "source": [
    "def sock_merchant (l):\n",
    "    \"\"\"This is a function to find number of matching pairs\"\"\"\n",
    "    d={}\n",
    "    count=0\n",
    "\n",
    "    for i in l:\n",
    "        d[i]=0\n",
    "    \n",
    "    for i in l:\n",
    "        d[i]=d[i]+1\n",
    "\n",
    "    for i in d:\n",
    "        if d[i]%2==0:\n",
    "            count=count+d[i]/2\n",
    "        if d[i]%2 != 0 and d[i]>1:\n",
    "            d[i]=d[i]-1\n",
    "            count=count+d[i]/2\n",
    "\n",
    "    return int(count)"
   ]
  },
  {
   "cell_type": "code",
   "execution_count": 29,
   "id": "8afd4deb",
   "metadata": {},
   "outputs": [
    {
     "data": {
      "text/plain": [
       "3"
      ]
     },
     "execution_count": 29,
     "metadata": {},
     "output_type": "execute_result"
    }
   ],
   "source": [
    "sock_merchant([10, 20, 20, 10, 10, 30, 50, 10, 20])"
   ]
  },
  {
   "cell_type": "code",
   "execution_count": 30,
   "id": "c1d2c3c0",
   "metadata": {},
   "outputs": [
    {
     "data": {
      "text/plain": [
       "4"
      ]
     },
     "execution_count": 30,
     "metadata": {},
     "output_type": "execute_result"
    }
   ],
   "source": [
    "sock_merchant([50, 20, 30, 90, 30, 20, 50, 20, 90]) "
   ]
  },
  {
   "cell_type": "code",
   "execution_count": 31,
   "id": "c3502059",
   "metadata": {},
   "outputs": [
    {
     "data": {
      "text/plain": [
       "0"
      ]
     },
     "execution_count": 31,
     "metadata": {},
     "output_type": "execute_result"
    }
   ],
   "source": [
    "sock_merchant([])"
   ]
  },
  {
   "cell_type": "markdown",
   "id": "bcd2785c",
   "metadata": {},
   "source": [
    "### 5. Create a function that takes a string containing integers as well as other characters and return the sum of the negative integers only."
   ]
  },
  {
   "cell_type": "code",
   "execution_count": 7,
   "id": "e074d4b9",
   "metadata": {},
   "outputs": [],
   "source": [
    "def negative_sum (s):\n",
    "    \"\"\"This is a function to return the sum of negative numbers in a given string\"\"\"\n",
    "    negatives=[]\n",
    "    out=0\n",
    "\n",
    "    for i in range(len(s)):\n",
    "        flag=1\n",
    "        temp=\"\"\n",
    "        if s[i] ==\"-\":\n",
    "            j=i+1\n",
    "            while flag==1:\n",
    "                try :\n",
    "                    no=int(s[j])\n",
    "                    temp=temp+s[j]\n",
    "                    j=j+1\n",
    "                except:\n",
    "                    flag=0\n",
    "            negatives.append(-1*int(temp))\n",
    "\n",
    "    for i in negatives:\n",
    "        out= out+i\n",
    "\n",
    "    return out"
   ]
  },
  {
   "cell_type": "code",
   "execution_count": 8,
   "id": "57483c4d",
   "metadata": {},
   "outputs": [
    {
     "data": {
      "text/plain": [
       "-23"
      ]
     },
     "execution_count": 8,
     "metadata": {},
     "output_type": "execute_result"
    }
   ],
   "source": [
    "negative_sum(\"-12 13%14&-11\")"
   ]
  },
  {
   "cell_type": "code",
   "execution_count": 9,
   "id": "6735c92f",
   "metadata": {},
   "outputs": [
    {
     "data": {
      "text/plain": [
       "-33"
      ]
     },
     "execution_count": 9,
     "metadata": {},
     "output_type": "execute_result"
    }
   ],
   "source": [
    "negative_sum(\"22 13%14&-11-22 13 12\") "
   ]
  },
  {
   "cell_type": "code",
   "execution_count": null,
   "id": "1752d090",
   "metadata": {},
   "outputs": [],
   "source": []
  }
 ],
 "metadata": {
  "kernelspec": {
   "display_name": "Python 3",
   "language": "python",
   "name": "python3"
  },
  "language_info": {
   "codemirror_mode": {
    "name": "ipython",
    "version": 3
   },
   "file_extension": ".py",
   "mimetype": "text/x-python",
   "name": "python",
   "nbconvert_exporter": "python",
   "pygments_lexer": "ipython3",
   "version": "3.8.8"
  }
 },
 "nbformat": 4,
 "nbformat_minor": 5
}
