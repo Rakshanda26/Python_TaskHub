{
 "cells": [
  {
   "cell_type": "markdown",
   "id": "34290bb1",
   "metadata": {},
   "source": [
    "### 1. Given a sentence as txt, return True if any two adjacent words have this property: One word ends with a vowel, while the word immediately after begins with a vowel (a e i o u)."
   ]
  },
  {
   "cell_type": "code",
   "execution_count": 8,
   "id": "d75ee296",
   "metadata": {},
   "outputs": [],
   "source": [
    "def is_last_vovel(s):\n",
    "    \"\"\"This is a function to check whether the last letter of a word is vovel\"\"\"\n",
    "    vowels=['a','e','i','o','u']\n",
    "    c= s[len(s)-1]\n",
    "    for i in vowels:\n",
    "        if i == c:\n",
    "            return True\n",
    "    return False"
   ]
  },
  {
   "cell_type": "code",
   "execution_count": 9,
   "id": "939f9f7c",
   "metadata": {},
   "outputs": [],
   "source": [
    "def is_first_vovel(s):\n",
    "    \"\"\"This is a function to check whether the first letter of a word is vovel\"\"\"\n",
    "    vowels=['a','e','i','o','u']\n",
    "    c= s[0]\n",
    "    for i in vowels:\n",
    "        if i == c:\n",
    "            return True\n",
    "    return False"
   ]
  },
  {
   "cell_type": "code",
   "execution_count": 13,
   "id": "cb1d098d",
   "metadata": {},
   "outputs": [],
   "source": [
    "def vowel_links (s):\n",
    "    \"\"\"This is a function to check whther given sentese has vovel continuity\"\"\"\n",
    "    s1=s+\" \"\n",
    "    temp=\"\"\n",
    "    words=[]\n",
    "\n",
    "    for i in s1:\n",
    "        if i != \" \":\n",
    "            temp=temp+i\n",
    "        else:\n",
    "            words.append(temp)\n",
    "            temp=\"\"\n",
    "\n",
    "    for i in range(len(words)-1):\n",
    "        flag1=is_last_vovel(words[i])\n",
    "        flag2=is_first_vovel(words[i+1])\n",
    "        if flag1 and flag2 == True:\n",
    "            return(\"True\")\n",
    "        \n",
    "    return(\"False\")"
   ]
  },
  {
   "cell_type": "code",
   "execution_count": 14,
   "id": "33521acb",
   "metadata": {},
   "outputs": [
    {
     "data": {
      "text/plain": [
       "'True'"
      ]
     },
     "execution_count": 14,
     "metadata": {},
     "output_type": "execute_result"
    }
   ],
   "source": [
    "vowel_links(\"a very large appliance\") "
   ]
  },
  {
   "cell_type": "code",
   "execution_count": 15,
   "id": "3cd7e74a",
   "metadata": {},
   "outputs": [
    {
     "data": {
      "text/plain": [
       "'True'"
      ]
     },
     "execution_count": 15,
     "metadata": {},
     "output_type": "execute_result"
    }
   ],
   "source": [
    "vowel_links(\"go to edabit\") "
   ]
  },
  {
   "cell_type": "code",
   "execution_count": 16,
   "id": "df1299a9",
   "metadata": {},
   "outputs": [
    {
     "data": {
      "text/plain": [
       "'False'"
      ]
     },
     "execution_count": 16,
     "metadata": {},
     "output_type": "execute_result"
    }
   ],
   "source": [
    "vowel_links(\"an open fire\")"
   ]
  },
  {
   "cell_type": "code",
   "execution_count": 17,
   "id": "e8206b46",
   "metadata": {},
   "outputs": [
    {
     "data": {
      "text/plain": [
       "'False'"
      ]
     },
     "execution_count": 17,
     "metadata": {},
     "output_type": "execute_result"
    }
   ],
   "source": [
    "vowel_links(\"a sudden applause\") "
   ]
  },
  {
   "cell_type": "markdown",
   "id": "e2feb253",
   "metadata": {},
   "source": [
    "### 2. You are given three inputs: a string, one letter, and a second letter.Write a function that returns True if every instance of the first letter occurs before every instance of the second letter."
   ]
  },
  {
   "cell_type": "code",
   "execution_count": 29,
   "id": "28468162",
   "metadata": {},
   "outputs": [],
   "source": [
    "def first_before_second (s,l1,l2):\n",
    "    \"\"\"This is a function to check all instances of given letter 1 occures before first instance of letter 2 in sentense\"\"\"\n",
    "    l1_indices=[]\n",
    "    l2_indices=[]\n",
    "\n",
    "    for i in range(len(s)):\n",
    "        if s[i] == l1:\n",
    "            l1_indices.append(i)\n",
    "    \n",
    "        if s[i] == l2:\n",
    "            l2_indices.append(i)\n",
    "\n",
    "    if l1_indices[len(l1_indices)-1] < l2_indices[0]:\n",
    "        return(\"True\")\n",
    "    else:\n",
    "        return(\"Flase\")"
   ]
  },
  {
   "cell_type": "code",
   "execution_count": 30,
   "id": "ae2eaf58",
   "metadata": {},
   "outputs": [
    {
     "data": {
      "text/plain": [
       "'True'"
      ]
     },
     "execution_count": 30,
     "metadata": {},
     "output_type": "execute_result"
    }
   ],
   "source": [
    "first_before_second(\"a rabbit jumps joyfully\", \"a\", \"j\") "
   ]
  },
  {
   "cell_type": "code",
   "execution_count": 31,
   "id": "d947c53c",
   "metadata": {},
   "outputs": [
    {
     "data": {
      "text/plain": [
       "'True'"
      ]
     },
     "execution_count": 31,
     "metadata": {},
     "output_type": "execute_result"
    }
   ],
   "source": [
    "first_before_second(\"knaves knew about waterfalls\", \"k\", \"w\") "
   ]
  },
  {
   "cell_type": "code",
   "execution_count": 32,
   "id": "223a73cd",
   "metadata": {},
   "outputs": [
    {
     "data": {
      "text/plain": [
       "'Flase'"
      ]
     },
     "execution_count": 32,
     "metadata": {},
     "output_type": "execute_result"
    }
   ],
   "source": [
    "first_before_second(\"happy birthday\", \"a\", \"y\") "
   ]
  },
  {
   "cell_type": "code",
   "execution_count": 33,
   "id": "cab81120",
   "metadata": {},
   "outputs": [
    {
     "data": {
      "text/plain": [
       "'Flase'"
      ]
     },
     "execution_count": 33,
     "metadata": {},
     "output_type": "execute_result"
    }
   ],
   "source": [
    "first_before_second(\"precarious kangaroos\", \"k\", \"a\")"
   ]
  },
  {
   "cell_type": "markdown",
   "id": "63e9a050",
   "metadata": {},
   "source": [
    "### 3. Create a function that returns the characters from a list or string r on odd or even positions, depending on the specifier s. The specifier will be \"odd\" for items on odd positions (1, 3, 5, ...) and \"even\" for items on even positions (2, 4, 6, ...)."
   ]
  },
  {
   "cell_type": "code",
   "execution_count": 43,
   "id": "4c555ed5",
   "metadata": {},
   "outputs": [],
   "source": [
    "def char_at_pos (element,positions):\n",
    "    \"\"\"This is a function to return given positioned elements from list/string\"\"\"\n",
    "    if type(element)== list:\n",
    "        out=[]\n",
    "    else:\n",
    "        out=\"\"\n",
    "\n",
    "    if positions == \"even\":\n",
    "        for i in range(len(element)):\n",
    "            if i!=0 and (i+1)%2==0:\n",
    "                if type(element)== list:\n",
    "                    out.append(element[i])\n",
    "                else:\n",
    "                    out=out+element[i]\n",
    "    else:\n",
    "        if type(element)== list:\n",
    "            out.append(element[0])\n",
    "        else:\n",
    "            out=out+element[0]\n",
    "        for i in range(1,len(element)):\n",
    "            if (i+1)%2 !=0 :\n",
    "                if type(element)== list:\n",
    "                    out.append(element[i])\n",
    "                else:\n",
    "                    out=out+element[i]\n",
    "\n",
    "    return out"
   ]
  },
  {
   "cell_type": "code",
   "execution_count": 44,
   "id": "0a33f0cb",
   "metadata": {},
   "outputs": [
    {
     "data": {
      "text/plain": [
       "[4, 8]"
      ]
     },
     "execution_count": 44,
     "metadata": {},
     "output_type": "execute_result"
    }
   ],
   "source": [
    "char_at_pos([2, 4, 6, 8, 10], \"even\") "
   ]
  },
  {
   "cell_type": "code",
   "execution_count": 45,
   "id": "894311d1",
   "metadata": {},
   "outputs": [
    {
     "data": {
      "text/plain": [
       "'EAI'"
      ]
     },
     "execution_count": 45,
     "metadata": {},
     "output_type": "execute_result"
    }
   ],
   "source": [
    "char_at_pos(\"EDABIT\", \"odd\") "
   ]
  },
  {
   "cell_type": "code",
   "execution_count": 46,
   "id": "8c42d21b",
   "metadata": {},
   "outputs": [
    {
     "data": {
      "text/plain": [
       "['A', 'B', 'T', 'A', 'I', 'Y']"
      ]
     },
     "execution_count": 46,
     "metadata": {},
     "output_type": "execute_result"
    }
   ],
   "source": [
    "char_at_pos([\"A\", \"R\", \"B\", \"I\", \"T\", \"R\", \"A\", \"R\", \"I\", \"L\", \"Y\"], \"odd\") "
   ]
  },
  {
   "cell_type": "markdown",
   "id": "338e8d8b",
   "metadata": {},
   "source": [
    "### 4. Write a function that returns the greatest common divisor of all list elements. If the greatest common divisor is 1, return 1."
   ]
  },
  {
   "cell_type": "code",
   "execution_count": 55,
   "id": "234dfef2",
   "metadata": {},
   "outputs": [],
   "source": [
    "def GCD (l):\n",
    "    \"\"\"This is a function to return GCD of all numbers entered in the list\"\"\"\n",
    "    mini =10000000\n",
    "    flag=0\n",
    "    for i in l :\n",
    "        if i < mini:\n",
    "            mini=i\n",
    "\n",
    "    for i in range(mini,1,-1):\n",
    "        for j in l:\n",
    "            if j%i ==0:\n",
    "                flag=flag + 1\n",
    "            else:\n",
    "                pass\n",
    "        if flag== len(l):\n",
    "            return(i)\n",
    "            \n",
    "        else:\n",
    "            flag=0\n",
    "\n",
    "    return 1"
   ]
  },
  {
   "cell_type": "code",
   "execution_count": 56,
   "id": "abb08028",
   "metadata": {},
   "outputs": [
    {
     "data": {
      "text/plain": [
       "10"
      ]
     },
     "execution_count": 56,
     "metadata": {},
     "output_type": "execute_result"
    }
   ],
   "source": [
    "GCD([10, 20, 40]) "
   ]
  },
  {
   "cell_type": "code",
   "execution_count": 57,
   "id": "6e6b1eec",
   "metadata": {},
   "outputs": [
    {
     "data": {
      "text/plain": [
       "1"
      ]
     },
     "execution_count": 57,
     "metadata": {},
     "output_type": "execute_result"
    }
   ],
   "source": [
    "GCD([1, 2, 3, 100])"
   ]
  },
  {
   "cell_type": "code",
   "execution_count": 58,
   "id": "7449ee7d",
   "metadata": {},
   "outputs": [
    {
     "data": {
      "text/plain": [
       "64"
      ]
     },
     "execution_count": 58,
     "metadata": {},
     "output_type": "execute_result"
    }
   ],
   "source": [
    "GCD([1024, 192, 2048, 512]) "
   ]
  },
  {
   "cell_type": "markdown",
   "id": "266db587",
   "metadata": {},
   "source": [
    "### 5. A number/string is a palindrome if the digits/characters are the same when read both forward and backward. Examples include \"racecar\" and 12321. Given a positive number n, check if n or the binary representation of n is palindromic. Return the following:\n",
    "\n",
    "- \"Decimal only.\" if only n is a palindrome.\n",
    "- \"Binary only.\" if only the binary representation of n is a palindrome.\n",
    "- \"Decimal and binary.\" if both are palindromes.\n",
    "- \"Neither!\" if neither are palindromes.\n"
   ]
  },
  {
   "cell_type": "code",
   "execution_count": 96,
   "id": "7f93191c",
   "metadata": {},
   "outputs": [],
   "source": [
    "def palindrome_type (no):\n",
    "    \"\"\"This is a function to check palindrome type of entered number\"\"\"\n",
    "    q=no\n",
    "    no_str= str(no)\n",
    "    count_deci=0\n",
    "    flag_deci=0\n",
    "    bin_no=[]\n",
    "    bin_no_str=\"\"\n",
    "    count_bin=0\n",
    "    flag_bin=0\n",
    "\n",
    "    for i in list(range(len(no_str)//2)):\n",
    "        if no_str[i]== no_str[len(no_str)-1-i]:\n",
    "            count_deci=1+count_deci\n",
    "\n",
    "    if count_deci == len(no_str)//2:\n",
    "        flag_deci=1\n",
    "\n",
    "    while q !=1 :\n",
    "        bin_no.append(q % 2)\n",
    "        q= q//2\n",
    "    bin_no.append(1)\n",
    "\n",
    "    for i in bin_no:\n",
    "        bin_no_str=bin_no_str+str(i)\n",
    "\n",
    "    for i in list(range(len(bin_no_str)//2)):\n",
    "        if bin_no_str[i]== bin_no_str[len(bin_no_str)-1-i]:\n",
    "            count_bin=1+count_bin\n",
    "\n",
    "    if count_bin == len(bin_no_str)//2:\n",
    "        flag_bin=1\n",
    "\n",
    "    if flag_deci == 1 and flag_bin == 1:\n",
    "        return(\"Decimal and binary\")\n",
    "    elif flag_deci == 1 and flag_bin == 0:\n",
    "        return(\"Decimal only\")\n",
    "    elif flag_deci == 0 and flag_bin == 1:\n",
    "        return(\"Binary only\")\n",
    "    elif flag_deci == 0 and flag_bin == 0:\n",
    "        return(\"Niether\")"
   ]
  },
  {
   "cell_type": "code",
   "execution_count": 97,
   "id": "4819f73e",
   "metadata": {},
   "outputs": [
    {
     "data": {
      "text/plain": [
       "'Decimal only'"
      ]
     },
     "execution_count": 97,
     "metadata": {},
     "output_type": "execute_result"
    }
   ],
   "source": [
    "palindrome_type(1306031) "
   ]
  },
  {
   "cell_type": "code",
   "execution_count": 98,
   "id": "c74984cd",
   "metadata": {},
   "outputs": [
    {
     "data": {
      "text/plain": [
       "'Binary only'"
      ]
     },
     "execution_count": 98,
     "metadata": {},
     "output_type": "execute_result"
    }
   ],
   "source": [
    "palindrome_type(427787) "
   ]
  },
  {
   "cell_type": "code",
   "execution_count": 99,
   "id": "230c6d0a",
   "metadata": {},
   "outputs": [
    {
     "data": {
      "text/plain": [
       "'Decimal and binary'"
      ]
     },
     "execution_count": 99,
     "metadata": {},
     "output_type": "execute_result"
    }
   ],
   "source": [
    "palindrome_type(313) "
   ]
  },
  {
   "cell_type": "code",
   "execution_count": 100,
   "id": "ef609c90",
   "metadata": {},
   "outputs": [
    {
     "data": {
      "text/plain": [
       "'Niether'"
      ]
     },
     "execution_count": 100,
     "metadata": {},
     "output_type": "execute_result"
    }
   ],
   "source": [
    "palindrome_type(934)"
   ]
  },
  {
   "cell_type": "code",
   "execution_count": null,
   "id": "86f0a5c7",
   "metadata": {},
   "outputs": [],
   "source": []
  }
 ],
 "metadata": {
  "kernelspec": {
   "display_name": "Python 3",
   "language": "python",
   "name": "python3"
  },
  "language_info": {
   "codemirror_mode": {
    "name": "ipython",
    "version": 3
   },
   "file_extension": ".py",
   "mimetype": "text/x-python",
   "name": "python",
   "nbconvert_exporter": "python",
   "pygments_lexer": "ipython3",
   "version": "3.8.8"
  }
 },
 "nbformat": 4,
 "nbformat_minor": 5
}
