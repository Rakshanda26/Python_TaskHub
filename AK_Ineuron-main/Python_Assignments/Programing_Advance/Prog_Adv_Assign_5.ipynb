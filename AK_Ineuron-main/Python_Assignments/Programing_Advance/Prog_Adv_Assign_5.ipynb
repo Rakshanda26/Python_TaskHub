{
 "cells": [
  {
   "cell_type": "markdown",
   "id": "dbc72a47",
   "metadata": {},
   "source": [
    "### 1. Create a function that takes a number n (integer greater than zero) as an argument, and returns 2 if n is odd and 8 if n is even\n",
    "\n",
    "You can only use the following arithmetic operators: addition of numbers +, subtraction of numbers -, multiplication of number *, division of number /, and exponentiation **.\n",
    "\n",
    "You are not allowed to use any other methods in this challenge (i.e. no if statements, comparison operators, etc)\n"
   ]
  },
  {
   "cell_type": "code",
   "execution_count": 4,
   "id": "4ad7bf1c",
   "metadata": {},
   "outputs": [],
   "source": [
    "def f (no):\n",
    "    \"\"\"This is a function to return \"2\" if entered number is odd and return \"8\" if even without using methods \"\"\"\n",
    "    direct={0:8,1:2,2:8,3:2,4:8,5:2,6:8,7:2,8:8,9:2}\n",
    "    string=str(no)\n",
    "    lastdigit=string[len(string)-1]\n",
    "    return(direct[int(lastdigit)])"
   ]
  },
  {
   "cell_type": "code",
   "execution_count": 5,
   "id": "a01d08fc",
   "metadata": {},
   "outputs": [
    {
     "data": {
      "text/plain": [
       "2"
      ]
     },
     "execution_count": 5,
     "metadata": {},
     "output_type": "execute_result"
    }
   ],
   "source": [
    "f(1) "
   ]
  },
  {
   "cell_type": "code",
   "execution_count": 6,
   "id": "0e5aaa7d",
   "metadata": {},
   "outputs": [
    {
     "data": {
      "text/plain": [
       "8"
      ]
     },
     "execution_count": 6,
     "metadata": {},
     "output_type": "execute_result"
    }
   ],
   "source": [
    "f(2) "
   ]
  },
  {
   "cell_type": "code",
   "execution_count": 7,
   "id": "b5cf9cb1",
   "metadata": {},
   "outputs": [
    {
     "data": {
      "text/plain": [
       "2"
      ]
     },
     "execution_count": 7,
     "metadata": {},
     "output_type": "execute_result"
    }
   ],
   "source": [
    "f(3) "
   ]
  },
  {
   "cell_type": "markdown",
   "id": "3d48427d",
   "metadata": {},
   "source": [
    "### 2. Create a function that returns the majority vote in a list. A majority vote is an element that occurs > N/2 times in a list (where N is the length of the list)."
   ]
  },
  {
   "cell_type": "code",
   "execution_count": 10,
   "id": "e5994716",
   "metadata": {},
   "outputs": [],
   "source": [
    "def majority_vote (l):\n",
    "    \"\"\"This is a function to find majority vote in a given list\"\"\"\n",
    "    N=len(l)\n",
    "    d={}\n",
    "    flag=0\n",
    "    \n",
    "    for i in l:\n",
    "        d[i]=0\n",
    "\n",
    "    for i in l:\n",
    "        d[i]=d[i]+1\n",
    "\n",
    "    for i in d:\n",
    "        if d[i]> N/2:\n",
    "            return(i)\n",
    "            flag=1\n",
    "\n",
    "    if flag==0:\n",
    "        return(\"None\")"
   ]
  },
  {
   "cell_type": "code",
   "execution_count": 11,
   "id": "92d55abc",
   "metadata": {},
   "outputs": [
    {
     "data": {
      "text/plain": [
       "'A'"
      ]
     },
     "execution_count": 11,
     "metadata": {},
     "output_type": "execute_result"
    }
   ],
   "source": [
    "majority_vote([\"A\", \"A\", \"B\"]) "
   ]
  },
  {
   "cell_type": "code",
   "execution_count": 12,
   "id": "946327b1",
   "metadata": {},
   "outputs": [
    {
     "data": {
      "text/plain": [
       "'A'"
      ]
     },
     "execution_count": 12,
     "metadata": {},
     "output_type": "execute_result"
    }
   ],
   "source": [
    "majority_vote([\"A\", \"A\", \"B\"]) "
   ]
  },
  {
   "cell_type": "code",
   "execution_count": 13,
   "id": "1a5cbc4e",
   "metadata": {},
   "outputs": [
    {
     "data": {
      "text/plain": [
       "'None'"
      ]
     },
     "execution_count": 13,
     "metadata": {},
     "output_type": "execute_result"
    }
   ],
   "source": [
    "majority_vote([\"A\", \"B\", \"B\", \"A\", \"C\", \"C\"]) "
   ]
  },
  {
   "cell_type": "markdown",
   "id": "ed72e438",
   "metadata": {},
   "source": [
    "### 3. Create a function that takes a string txt and censors any word from a given list lst. The text removed must be replaced by the given character char."
   ]
  },
  {
   "cell_type": "code",
   "execution_count": 6,
   "id": "3286b522",
   "metadata": {},
   "outputs": [],
   "source": [
    "def censor_string (string,censor,replace):\n",
    "    \"\"\"This is a function to censor the contents of given string with given character\"\"\"\n",
    "    string=string+\" \"\n",
    "    output=\"\"\n",
    "    tempword=\"\"\n",
    "    for i in string:\n",
    "        flag=0\n",
    "        if i != \" \":\n",
    "            tempword=tempword+i\n",
    "        elif i==\" \":\n",
    "            for j in censor:\n",
    "                if tempword==j:\n",
    "                    output=output+(replace*(len(tempword)))+\" \"\n",
    "                    flag=1\n",
    "                    tempword=\"\"\n",
    "            if flag==0:\n",
    "                output=output+tempword+\" \"\n",
    "                tempword=\"\"\n",
    "\n",
    "    return output"
   ]
  },
  {
   "cell_type": "code",
   "execution_count": 7,
   "id": "44f2b96e",
   "metadata": {},
   "outputs": [
    {
     "data": {
      "text/plain": [
       "'----- is - Wednesday! '"
      ]
     },
     "execution_count": 7,
     "metadata": {},
     "output_type": "execute_result"
    }
   ],
   "source": [
    "censor_string(\"Today is a Wednesday!\", [\"Today\", \"a\"], \"-\")"
   ]
  },
  {
   "cell_type": "code",
   "execution_count": 8,
   "id": "9f961a2f",
   "metadata": {},
   "outputs": [
    {
     "data": {
      "text/plain": [
       "'The *** jumped **** the moon. '"
      ]
     },
     "execution_count": 8,
     "metadata": {},
     "output_type": "execute_result"
    }
   ],
   "source": [
    "censor_string(\"The cow jumped over the moon.\", [\"cow\", \"over\"], \"*\")"
   ]
  },
  {
   "cell_type": "code",
   "execution_count": 11,
   "id": "bca5df4d",
   "metadata": {},
   "outputs": [
    {
     "data": {
      "text/plain": [
       "'Why *** the ******* cross the **** ? '"
      ]
     },
     "execution_count": 11,
     "metadata": {},
     "output_type": "execute_result"
    }
   ],
   "source": [
    "censor_string(\"Why did the chicken cross the road ?\", [\"did\", \"chicken\", \"road\"], \"*\") "
   ]
  },
  {
   "cell_type": "markdown",
   "id": "18a06b11",
   "metadata": {},
   "source": [
    "### 4.Create a function which takes an integer n and returns True if the given number is a Polydivisible Number and False otherwise."
   ]
  },
  {
   "cell_type": "code",
   "execution_count": 28,
   "id": "c586c17b",
   "metadata": {},
   "outputs": [],
   "source": [
    "def is_polydivisible (no):\n",
    "    \"\"\"This is a function to identify if the entered number is a polydivisable number\"\"\"\n",
    "    no_string=str(no)\n",
    "    checks=[]\n",
    "    temp_sum=0\n",
    "    flag=1\n",
    "\n",
    "    if int(no_string[0])!=0:\n",
    "        for i in range (1,len(no_string)+1,1):\n",
    "            temp_sum = temp_sum*10+int(no_string[i-1])\n",
    "            if temp_sum%i ==0:\n",
    "                checks.append(1)\n",
    "            else:\n",
    "                checks.append(0)\n",
    "\n",
    "    else:\n",
    "        return False\n",
    "\n",
    "    for i in checks:\n",
    "        if i==0:\n",
    "            flag=0\n",
    "\n",
    "    if flag==1:\n",
    "        return True\n",
    "\n",
    "    else:\n",
    "        return False"
   ]
  },
  {
   "cell_type": "code",
   "execution_count": 29,
   "id": "17745285",
   "metadata": {},
   "outputs": [
    {
     "data": {
      "text/plain": [
       "True"
      ]
     },
     "execution_count": 29,
     "metadata": {},
     "output_type": "execute_result"
    }
   ],
   "source": [
    "is_polydivisible(1232)"
   ]
  },
  {
   "cell_type": "code",
   "execution_count": 30,
   "id": "4eaa598a",
   "metadata": {},
   "outputs": [
    {
     "data": {
      "text/plain": [
       "False"
      ]
     },
     "execution_count": 30,
     "metadata": {},
     "output_type": "execute_result"
    }
   ],
   "source": [
    "is_polydivisible(123220)"
   ]
  },
  {
   "cell_type": "markdown",
   "id": "4edbd59a",
   "metadata": {},
   "source": [
    "### 5. Create a function that takes a list of numbers and returns the sum of all prime numbers in the list."
   ]
  },
  {
   "cell_type": "code",
   "execution_count": 44,
   "id": "6583992f",
   "metadata": {},
   "outputs": [],
   "source": [
    "def sum_primes (l):\n",
    "    \"\"\"This is a function to find the sum of prime numbers in the list\"\"\"\n",
    "    primes=[]\n",
    "    flag=1\n",
    "    prime_sum=0\n",
    "\n",
    "    for i in l:\n",
    "        if i==1:\n",
    "            pass\n",
    "        elif i==2:\n",
    "            primes.append(2)\n",
    "        elif i==3:\n",
    "            primes.append(3)\n",
    "        else:\n",
    "            for j in range (2,i):\n",
    "                if i%j==0:\n",
    "                    flag=0\n",
    "            if flag==1:\n",
    "                primes.append(i)\n",
    "        flag=1\n",
    "\n",
    "    for i in primes:\n",
    "        prime_sum=prime_sum+i\n",
    "\n",
    "    return(prime_sum)"
   ]
  },
  {
   "cell_type": "code",
   "execution_count": 45,
   "id": "4a3ecc46",
   "metadata": {},
   "outputs": [
    {
     "data": {
      "text/plain": [
       "17"
      ]
     },
     "execution_count": 45,
     "metadata": {},
     "output_type": "execute_result"
    }
   ],
   "source": [
    "sum_primes([1, 2, 3, 4, 5, 6, 7, 8, 9, 10]) "
   ]
  },
  {
   "cell_type": "code",
   "execution_count": 46,
   "id": "72a4df3a",
   "metadata": {},
   "outputs": [
    {
     "data": {
      "text/plain": [
       "87"
      ]
     },
     "execution_count": 46,
     "metadata": {},
     "output_type": "execute_result"
    }
   ],
   "source": [
    "sum_primes([2, 3, 4, 11, 20, 50, 71])"
   ]
  },
  {
   "cell_type": "code",
   "execution_count": 47,
   "id": "380182af",
   "metadata": {},
   "outputs": [
    {
     "data": {
      "text/plain": [
       "0"
      ]
     },
     "execution_count": 47,
     "metadata": {},
     "output_type": "execute_result"
    }
   ],
   "source": [
    "sum_primes([]) "
   ]
  },
  {
   "cell_type": "code",
   "execution_count": null,
   "id": "a790a1f3",
   "metadata": {},
   "outputs": [],
   "source": []
  }
 ],
 "metadata": {
  "kernelspec": {
   "display_name": "Python 3",
   "language": "python",
   "name": "python3"
  },
  "language_info": {
   "codemirror_mode": {
    "name": "ipython",
    "version": 3
   },
   "file_extension": ".py",
   "mimetype": "text/x-python",
   "name": "python",
   "nbconvert_exporter": "python",
   "pygments_lexer": "ipython3",
   "version": "3.8.8"
  }
 },
 "nbformat": 4,
 "nbformat_minor": 5
}
