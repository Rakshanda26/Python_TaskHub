{
 "cells": [
  {
   "cell_type": "markdown",
   "id": "719ac769",
   "metadata": {},
   "source": [
    "### 1. Write a function that counts how many concentric layers are there in entered list"
   ]
  },
  {
   "cell_type": "code",
   "execution_count": 4,
   "id": "8c75489e",
   "metadata": {},
   "outputs": [],
   "source": [
    "def count_layers (s):\n",
    "    \"\"\"This is a function to identify concertric layers in a given list pattern\"\"\"\n",
    "    mid= len(s)//2\n",
    "    layers=0\n",
    "\n",
    "    for i in range(mid):\n",
    "        if s[i][i]== s[i][i+1] and s[i][i]==s[i+1][i]:\n",
    "            layers=layers+1\n",
    "        elif s[i][i+1]== s[i][i+2] and s[i][i+1]== s[i+1][i+1]:\n",
    "            layers=layers+1\n",
    "\n",
    "    layers=layers+1\n",
    "    return layers "
   ]
  },
  {
   "cell_type": "code",
   "execution_count": 5,
   "id": "b40a9322",
   "metadata": {},
   "outputs": [
    {
     "data": {
      "text/plain": [
       "2"
      ]
     },
     "execution_count": 5,
     "metadata": {},
     "output_type": "execute_result"
    }
   ],
   "source": [
    "count_layers([\n",
    "\"AAAA\",\n",
    "\"ABBA\",\n",
    "\"AAAA\"\n",
    "]) \n"
   ]
  },
  {
   "cell_type": "code",
   "execution_count": 6,
   "id": "a4b929da",
   "metadata": {},
   "outputs": [
    {
     "data": {
      "text/plain": [
       "3"
      ]
     },
     "execution_count": 6,
     "metadata": {},
     "output_type": "execute_result"
    }
   ],
   "source": [
    "count_layers([\n",
    "\"AAAAAAAAA\",\n",
    "\"ABBBBBBBA\",\n",
    "\"ABBAAABBA\",\n",
    "\"ABBBBBBBA\",\n",
    "\"AAAAAAAAA\"\n",
    "]) \n"
   ]
  },
  {
   "cell_type": "code",
   "execution_count": 7,
   "id": "16aa67b8",
   "metadata": {},
   "outputs": [
    {
     "data": {
      "text/plain": [
       "5"
      ]
     },
     "execution_count": 7,
     "metadata": {},
     "output_type": "execute_result"
    }
   ],
   "source": [
    "count_layers([\n",
    "\"AAAAAAAAAAA\",\n",
    "\"AABBBBBBBAA\",\n",
    "\"AABCCCCCBAA\",\n",
    "\"AABCAAACBAA\",\n",
    "\"AABCADACBAA\",\n",
    "\"AABCAAACBAA\",\n",
    "\"AABCCCCCBAA\",\n",
    "\"AABBBBBBBAA\",\n",
    "\"AAAAAAAAAAA\"\n",
    "]) \n"
   ]
  },
  {
   "cell_type": "markdown",
   "id": "076712d3",
   "metadata": {},
   "source": [
    "### 2.Create a function that takes a list of musical styles from albums and returns how many styles are unique."
   ]
  },
  {
   "cell_type": "code",
   "execution_count": 17,
   "id": "f61cba38",
   "metadata": {},
   "outputs": [],
   "source": [
    "def unique_styles (l):\n",
    "    \"\"\"This is a function to identify unique styles from entered list\"\"\"\n",
    "    styles_dict={}\n",
    "    temp=\"\"\n",
    "    \n",
    "    for i in range(len(l)):\n",
    "        l[i]=l[i]+\".\"\n",
    "\n",
    "    for i in l:\n",
    "        for j in i:\n",
    "            if j != \",\" and j!= \".\":\n",
    "                temp=temp+j\n",
    "            else:\n",
    "                styles_dict[temp]=0\n",
    "                temp=\"\"\n",
    "        \n",
    "    return len(styles_dict)"
   ]
  },
  {
   "cell_type": "code",
   "execution_count": 18,
   "id": "ca916000",
   "metadata": {},
   "outputs": [
    {
     "data": {
      "text/plain": [
       "9"
      ]
     },
     "execution_count": 18,
     "metadata": {},
     "output_type": "execute_result"
    }
   ],
   "source": [
    "unique_styles([\n",
    "\"Dub,Dancehall\",\n",
    "\"Industrial,Heavy Metal\",\n",
    "\"Techno,Dubstep\",\n",
    "\"Synth-pop,Euro-Disco\",\n",
    "\"Industrial,Techno,Minimal\"\n",
    "]) \n"
   ]
  },
  {
   "cell_type": "code",
   "execution_count": 19,
   "id": "695b8a9b",
   "metadata": {},
   "outputs": [
    {
     "data": {
      "text/plain": [
       "7"
      ]
     },
     "execution_count": 19,
     "metadata": {},
     "output_type": "execute_result"
    }
   ],
   "source": [
    "unique_styles([\n",
    "\"Soul\",\n",
    "\"House,Folk\",\n",
    "\"Trance,Downtempo,Big Beat,House\",\n",
    "\"Deep House\",\n",
    "\"Soul\"\n",
    "]) \n"
   ]
  },
  {
   "cell_type": "markdown",
   "id": "f61010cd",
   "metadata": {},
   "source": [
    "### 3. Create a function that finds a target number in a list of prime numbers. Implement a binary search algorithm in your function. The target number will be from 2 through 97. If the target is prime then return \"yes\" else return \"no\""
   ]
  },
  {
   "cell_type": "code",
   "execution_count": 32,
   "id": "91fc14f0",
   "metadata": {},
   "outputs": [],
   "source": [
    "def is_prime (primes,no):\n",
    "    \"\"\"This is a function which search given number as primary or not based on Binary Search\"\"\"\n",
    "    low = 0\n",
    "    high= len(primes)-1\n",
    "    while low <= high:\n",
    "        mid= (low+high)//2\n",
    "        if low == high:\n",
    "            if primes[mid]==no:\n",
    "                return (\"yes\")\n",
    "                break\n",
    "            else:\n",
    "                return (\"no\")\n",
    "                break\n",
    "        elif primes[mid]>no:\n",
    "            low=low\n",
    "            high= mid-1\n",
    "        elif primes[mid]==no:\n",
    "            return(\"yes\")\n",
    "            break\n",
    "        else :\n",
    "            low= mid+1\n",
    "            high=high"
   ]
  },
  {
   "cell_type": "code",
   "execution_count": 33,
   "id": "9017e34e",
   "metadata": {},
   "outputs": [],
   "source": [
    "primes = [2, 3, 5, 7, 11, 13, 17, 19, 23, 29, 31, 37, 41, 43, 47, 53, 59, 61, 67, 71, 73, 79, 83, 89, 97]"
   ]
  },
  {
   "cell_type": "code",
   "execution_count": 34,
   "id": "070b18d9",
   "metadata": {},
   "outputs": [
    {
     "data": {
      "text/plain": [
       "'yes'"
      ]
     },
     "execution_count": 34,
     "metadata": {},
     "output_type": "execute_result"
    }
   ],
   "source": [
    "is_prime(primes, 3)"
   ]
  },
  {
   "cell_type": "code",
   "execution_count": 35,
   "id": "99bc8677",
   "metadata": {},
   "outputs": [
    {
     "data": {
      "text/plain": [
       "'no'"
      ]
     },
     "execution_count": 35,
     "metadata": {},
     "output_type": "execute_result"
    }
   ],
   "source": [
    "is_prime(primes, 4) "
   ]
  },
  {
   "cell_type": "code",
   "execution_count": 36,
   "id": "d4188d49",
   "metadata": {},
   "outputs": [
    {
     "data": {
      "text/plain": [
       "'yes'"
      ]
     },
     "execution_count": 36,
     "metadata": {},
     "output_type": "execute_result"
    }
   ],
   "source": [
    "is_prime(primes, 67) "
   ]
  },
  {
   "cell_type": "code",
   "execution_count": 31,
   "id": "0fcf0d43",
   "metadata": {},
   "outputs": [
    {
     "data": {
      "text/plain": [
       "'no'"
      ]
     },
     "execution_count": 31,
     "metadata": {},
     "output_type": "execute_result"
    }
   ],
   "source": [
    "is_prime(primes, 36) "
   ]
  },
  {
   "cell_type": "markdown",
   "id": "3831d4a0",
   "metadata": {},
   "source": [
    "### 4. Create a function that takes in n, a, b and returns the number of positive values raised to the nth power that lie in the range [a, b], inclusive"
   ]
  },
  {
   "cell_type": "code",
   "execution_count": 43,
   "id": "5329823c",
   "metadata": {},
   "outputs": [],
   "source": [
    "def power_ranger (power,low,high):\n",
    "    \"\"\"This is a function to identify how many numbers raised to given power lie in given range\"\"\"\n",
    "    l= list(range(1,high+1,1))\n",
    "    in_range=0\n",
    "\n",
    "    for i in l:\n",
    "        if i**power <= high and i**power >= low:\n",
    "            in_range=in_range+1\n",
    "\n",
    "    return in_range"
   ]
  },
  {
   "cell_type": "code",
   "execution_count": 44,
   "id": "c16839d3",
   "metadata": {},
   "outputs": [
    {
     "data": {
      "text/plain": [
       "2"
      ]
     },
     "execution_count": 44,
     "metadata": {},
     "output_type": "execute_result"
    }
   ],
   "source": [
    "power_ranger(2, 49, 65) "
   ]
  },
  {
   "cell_type": "code",
   "execution_count": 45,
   "id": "5b90dfc8",
   "metadata": {},
   "outputs": [
    {
     "data": {
      "text/plain": [
       "3"
      ]
     },
     "execution_count": 45,
     "metadata": {},
     "output_type": "execute_result"
    }
   ],
   "source": [
    "power_ranger(3, 1, 27) "
   ]
  },
  {
   "cell_type": "code",
   "execution_count": 46,
   "id": "59af3478",
   "metadata": {},
   "outputs": [
    {
     "data": {
      "text/plain": [
       "1"
      ]
     },
     "execution_count": 46,
     "metadata": {},
     "output_type": "execute_result"
    }
   ],
   "source": [
    "power_ranger(10, 1, 5) "
   ]
  },
  {
   "cell_type": "code",
   "execution_count": 47,
   "id": "0c0f4a8f",
   "metadata": {},
   "outputs": [
    {
     "data": {
      "text/plain": [
       "1"
      ]
     },
     "execution_count": 47,
     "metadata": {},
     "output_type": "execute_result"
    }
   ],
   "source": [
    "power_ranger(5, 31, 33) "
   ]
  },
  {
   "cell_type": "code",
   "execution_count": 48,
   "id": "1c00511c",
   "metadata": {},
   "outputs": [
    {
     "data": {
      "text/plain": [
       "3"
      ]
     },
     "execution_count": 48,
     "metadata": {},
     "output_type": "execute_result"
    }
   ],
   "source": [
    "power_ranger(4, 250, 1300) "
   ]
  },
  {
   "cell_type": "markdown",
   "id": "89576bcb",
   "metadata": {},
   "source": [
    "### 5.Given a number, return the difference between the maximum and minimum numbers that can be formed when the digits are rearranged"
   ]
  },
  {
   "cell_type": "code",
   "execution_count": 64,
   "id": "fec194e4",
   "metadata": {},
   "outputs": [],
   "source": [
    "def rearranged_difference (no):\n",
    "    \"\"\"This is a function to find difference between max and min number number that can be contructed from given numbers\"\"\"\n",
    "    no_str=str(no)\n",
    "    l1=[]\n",
    "    l2=[]\n",
    "    maxi=\"\"\n",
    "    mini=\"\"\n",
    "    for i in no_str:\n",
    "        l1.append(int(i))\n",
    "        l2.append(int(i))\n",
    "\n",
    "    for i in range (len(l1)):\n",
    "        temp= maxima (l1)\n",
    "        maxi=maxi+str(temp)\n",
    "        l1.remove(temp)\n",
    "\n",
    "    for i in range (len(l2)):\n",
    "        temp= minima (l2)\n",
    "        mini=mini+str(temp)\n",
    "        l2.remove(temp)\n",
    "\n",
    "    dif=int(maxi)-int(mini)\n",
    "    return(dif)"
   ]
  },
  {
   "cell_type": "code",
   "execution_count": 55,
   "id": "f16f6da8",
   "metadata": {},
   "outputs": [],
   "source": [
    "def maxima (l):\n",
    "    \"\"\"This is a function to find maximum number from list \"\"\"\n",
    "    m=-1\n",
    "    for i in l:\n",
    "        if i>m:\n",
    "            m=i\n",
    "    return m"
   ]
  },
  {
   "cell_type": "code",
   "execution_count": 54,
   "id": "31c2058b",
   "metadata": {},
   "outputs": [],
   "source": [
    "def minima (l):\n",
    "    \"\"\"\"This is a function to find minimum number from list \"\"\"\"\n",
    "    mi=10000000000\n",
    "    for i in l:\n",
    "        if i<mi:\n",
    "            mi=i\n",
    "    return mi"
   ]
  },
  {
   "cell_type": "code",
   "execution_count": 65,
   "id": "15c8703b",
   "metadata": {},
   "outputs": [
    {
     "data": {
      "text/plain": [
       "760833"
      ]
     },
     "execution_count": 65,
     "metadata": {},
     "output_type": "execute_result"
    }
   ],
   "source": [
    "rearranged_difference(972882) "
   ]
  },
  {
   "cell_type": "code",
   "execution_count": 66,
   "id": "4afbdf7e",
   "metadata": {},
   "outputs": [
    {
     "data": {
      "text/plain": [
       "7709823"
      ]
     },
     "execution_count": 66,
     "metadata": {},
     "output_type": "execute_result"
    }
   ],
   "source": [
    "rearranged_difference(3320707) "
   ]
  },
  {
   "cell_type": "code",
   "execution_count": 67,
   "id": "fadcec25",
   "metadata": {},
   "outputs": [
    {
     "data": {
      "text/plain": [
       "90981"
      ]
     },
     "execution_count": 67,
     "metadata": {},
     "output_type": "execute_result"
    }
   ],
   "source": [
    "rearranged_difference(90010) "
   ]
  },
  {
   "cell_type": "code",
   "execution_count": null,
   "id": "40a60253",
   "metadata": {},
   "outputs": [],
   "source": []
  }
 ],
 "metadata": {
  "kernelspec": {
   "display_name": "Python 3",
   "language": "python",
   "name": "python3"
  },
  "language_info": {
   "codemirror_mode": {
    "name": "ipython",
    "version": 3
   },
   "file_extension": ".py",
   "mimetype": "text/x-python",
   "name": "python",
   "nbconvert_exporter": "python",
   "pygments_lexer": "ipython3",
   "version": "3.8.8"
  }
 },
 "nbformat": 4,
 "nbformat_minor": 5
}
