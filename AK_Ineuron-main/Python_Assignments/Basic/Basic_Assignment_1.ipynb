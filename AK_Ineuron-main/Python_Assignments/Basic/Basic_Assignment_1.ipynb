{
 "cells": [
  {
   "cell_type": "markdown",
   "id": "7d2abe6b",
   "metadata": {},
   "source": [
    "### Q1. In the below elements which of them are values or an expression? eg:- values can be integer or string and expressions will be mathematical operators\n",
    "\n",
    "### Elements: *, 'hello',-87.8,-,/,+,6"
   ]
  },
  {
   "cell_type": "markdown",
   "id": "e7167db6",
   "metadata": {},
   "source": [
    "Solution:\n",
    "\n",
    "Values : 'hello',-87.8,6\n",
    "expressions: *,-,/,+"
   ]
  },
  {
   "cell_type": "markdown",
   "id": "30a19752",
   "metadata": {},
   "source": [
    "### Q2. What is the difference between string and variable"
   ]
  },
  {
   "cell_type": "markdown",
   "id": "4e8fdd35",
   "metadata": {},
   "source": [
    "Solution:\n",
    "\n",
    "Variable-\n",
    "A variable is an entity which holds certain static memory (volatile in nature) and used for holding data of different types\n",
    "\n",
    "string-\n",
    "A string is a data type for a variable which holds sequence of charachters in it as data "
   ]
  },
  {
   "cell_type": "markdown",
   "id": "53de6f3f",
   "metadata": {},
   "source": [
    "### Q3. Describe three different data types"
   ]
  },
  {
   "cell_type": "markdown",
   "id": "e59ab51b",
   "metadata": {},
   "source": [
    "Solution:\n",
    "\n",
    "Following are some of the key data types for variables\n",
    "1) Integer\n",
    "2) Float\n",
    "3) Character\n",
    "4) Boolean\n",
    "5) String\n",
    "6) Complex\n",
    "7) List\n",
    "8) Touple\n",
    "9) Dictonary\n",
    "10) Set\n",
    "11) DataFrame"
   ]
  },
  {
   "cell_type": "markdown",
   "id": "ee5ba660",
   "metadata": {},
   "source": [
    "### Q4. What is an expression made up of? What do all expressions do?"
   ]
  },
  {
   "cell_type": "markdown",
   "id": "74424c43",
   "metadata": {},
   "source": [
    "Soultion:\n",
    "\n",
    "An expression is made of following\n",
    "identifiers : Names used for objects\n",
    "literals: Units of raw data with specific values that are assigned to variables \n",
    "operators: Tokens for performing operations such as arithmatic, logical etc.\n",
    "\n",
    "Expressions are used to represent values which needs to be computed by compiler"
   ]
  },
  {
   "cell_type": "markdown",
   "id": "b692a1e4",
   "metadata": {},
   "source": [
    "### Q5. This assignment statements, like spam = 10. What is the difference between an expression and a statement?"
   ]
  },
  {
   "cell_type": "markdown",
   "id": "47ff300a",
   "metadata": {},
   "source": [
    "Solution:\n",
    "    \n",
    "A statement is the smallest standalone block of code which does certain definite action. Whereas an expression is just a representative of a value and itself does not perform any action. Hence an expression can be considered as a part of a statement\n",
    "\n",
    "ex. \n",
    "3+4 is an expression : representative of value 7\n",
    "a=3+4 is a statement : assignes value 7 to a variable named as \"a\" having a specific memory location"
   ]
  },
  {
   "cell_type": "markdown",
   "id": "801b43ea",
   "metadata": {},
   "source": [
    "### Q6. After running the following code, what does the variable bacon contain?\n",
    "bacon = 22\n",
    "bacon + 1\n"
   ]
  },
  {
   "cell_type": "markdown",
   "id": "dbf75279",
   "metadata": {},
   "source": [
    "Solution:\n",
    "\n",
    "Although after execution of the given code, the result will apper as 23, however the variable 'bacon' will hold the value 22"
   ]
  },
  {
   "cell_type": "markdown",
   "id": "bc427b66",
   "metadata": {},
   "source": [
    "### Q7. What should the values of the following two terms be?\n",
    "'spam' + 'spamspam'\n",
    "'spam' * 3"
   ]
  },
  {
   "cell_type": "markdown",
   "id": "544ac354",
   "metadata": {},
   "source": [
    "Solution:\n",
    "\n",
    "'spam' + 'spamspam' : results in concatination of two string hence resulting value is 'spamspamspam'\n",
    "\n",
    "'spam' * 3 : results in printing the given string thrice hence resulting value is 'spamspamspam'"
   ]
  },
  {
   "cell_type": "markdown",
   "id": "fc5ccacb",
   "metadata": {},
   "source": [
    "### Q8. Why is eggs a valid variable name while 100 is invalid?"
   ]
  },
  {
   "cell_type": "markdown",
   "id": "7ef39df4",
   "metadata": {},
   "source": [
    "Solution:\n",
    "    \n",
    "A variable name is reffered as identifire. Hence as per the rules of identifires:\n",
    "1) Identifie can be string, character, combination of string and numeric\n",
    "2) identifire can't start with a numeric\n",
    "Hence eggs is a valid variable name but 100 is invalid"
   ]
  },
  {
   "cell_type": "markdown",
   "id": "7fde47d5",
   "metadata": {},
   "source": [
    "### Q9. What three functions can be used to get the integer, floating-point number, or string version of a value?"
   ]
  },
  {
   "cell_type": "markdown",
   "id": "a1e9a0dc",
   "metadata": {},
   "source": [
    "Solution:\n",
    "\n",
    "1) To get integer function of a value : int(value)\n",
    "2) To get floating-point version of a value: float(value)\n",
    "3) To get string version of a value : str(value)"
   ]
  },
  {
   "cell_type": "markdown",
   "id": "e926fc3a",
   "metadata": {},
   "source": [
    "### Q10. Why does this expression cause an error? How can you fix it?\n",
    "'I have eaten ' + 99 + ' burritos.'"
   ]
  },
  {
   "cell_type": "markdown",
   "id": "b0be0b99",
   "metadata": {},
   "source": [
    "Solution:\n",
    "    \n",
    "The \"+\" operator is used for concatination of strings, in given expression \"I have eaten\" and \"burritos\" are strings but 99 is an intiger value. hence error is there\n",
    "\n",
    "The error can be rectified by considering 99 as a string, thus corrected expression will be \n",
    "'I have eaten ' + '99' + ' burritos.'"
   ]
  }
 ],
 "metadata": {
  "kernelspec": {
   "display_name": "Python 3",
   "language": "python",
   "name": "python3"
  },
  "language_info": {
   "codemirror_mode": {
    "name": "ipython",
    "version": 3
   },
   "file_extension": ".py",
   "mimetype": "text/x-python",
   "name": "python",
   "nbconvert_exporter": "python",
   "pygments_lexer": "ipython3",
   "version": "3.8.8"
  }
 },
 "nbformat": 4,
 "nbformat_minor": 5
}
