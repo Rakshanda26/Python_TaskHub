{
 "cells": [
  {
   "cell_type": "raw",
   "id": "a4606526",
   "metadata": {},
   "source": [
    "1. visit the link.\n",
    "2. download the data set\n",
    "3. insert bulk data(csv file in mongodb)\n",
    "4. different op\n",
    "5. insertion\n",
    "6. update\n",
    "7. deletion\n",
    "8. find op\n",
    "9. filter\n",
    "\n",
    "code evalution\n",
    "1. modular coding\n",
    "2. exception handling\n",
    "3. proper log\n"
   ]
  },
  {
   "cell_type": "code",
   "execution_count": null,
   "id": "0205caac",
   "metadata": {},
   "outputs": [],
   "source": []
  }
 ],
 "metadata": {
  "kernelspec": {
   "display_name": "Python 3 (ipykernel)",
   "language": "python",
   "name": "python3"
  },
  "language_info": {
   "codemirror_mode": {
    "name": "ipython",
    "version": 3
   },
   "file_extension": ".py",
   "mimetype": "text/x-python",
   "name": "python",
   "nbconvert_exporter": "python",
   "pygments_lexer": "ipython3",
   "version": "3.9.7"
  }
 },
 "nbformat": 4,
 "nbformat_minor": 5
}
