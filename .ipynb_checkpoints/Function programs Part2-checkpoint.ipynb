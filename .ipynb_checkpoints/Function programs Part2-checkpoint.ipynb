{
 "cells": [
  {
   "cell_type": "code",
   "execution_count": null,
   "id": "a2bd9a8d",
   "metadata": {},
   "outputs": [],
   "source": [
    "#10 . write a fun which will be able to read a image file and show it to you.\n",
    "def fun10(filename):\n",
    "    '''This function will be able to read a image file and show it to you'''\n",
    "    import PIL\n",
    "    from PIL import Image\n",
    "    img = Image.open(filename, 'r')\n",
    "    return display(img)\n",
    "file_name = input('Please enter the png file name along with .png extention: ')\n",
    "fun10(file_name)"
   ]
  },
  {
   "cell_type": "code",
   "execution_count": 10,
   "id": "40e5b309",
   "metadata": {},
   "outputs": [
    {
     "name": "stdout",
     "output_type": "stream",
     "text": [
      "Please enter the source directory pathD:\\Python_Basics\\Source\\Subfolder\n",
      "Please enter the destination directory pathD:\\Python_Basics\\Dest\n"
     ]
    }
   ],
   "source": [
    "#12. write a func which can move a file from one directory to another directory\n",
    "def fun12(src_path , dst_path):\n",
    "    '''This function will move a file from one directory to another directory'''\n",
    "    import shutil\n",
    "    shutil.move(src_path,dst_path)\n",
    "    \n",
    "src_path = input('Please enter the source directory path')\n",
    "dst_path = input('Please enter the destination directory path')\n",
    "\n",
    "#source path : D:\\Python_Basics\\Source\\Subfolder\n",
    "#Destination path : D:\\Python_Basics\\Dest\n",
    "\n",
    "fun12(src_path,dst_path)"
   ]
  },
  {
   "cell_type": "code",
   "execution_count": 11,
   "id": "7cbe9216",
   "metadata": {},
   "outputs": [
    {
     "ename": "IndentationError",
     "evalue": "unexpected indent (Temp/ipykernel_27484/3440336366.py, line 2)",
     "output_type": "error",
     "traceback": [
      "\u001b[1;36m  File \u001b[1;32m\"C:\\Users\\RAKSHA~1\\AppData\\Local\\Temp/ipykernel_27484/3440336366.py\"\u001b[1;36m, line \u001b[1;32m2\u001b[0m\n\u001b[1;33m    '''This function will shutdown your system'''\u001b[0m\n\u001b[1;37m    ^\u001b[0m\n\u001b[1;31mIndentationError\u001b[0m\u001b[1;31m:\u001b[0m unexpected indent\n"
     ]
    }
   ],
   "source": [
    "# 13 write a func which will be able to shutdown your system.\n",
    "#def fun13():\n",
    "    '''This function will shutdown your system'''\n",
    "    import os\n",
    "    os.system(\"shutdown /s /t 1\")\n",
    "  \n",
    "fun13()\n",
    "    "
   ]
  },
  {
   "cell_type": "code",
   "execution_count": 27,
   "id": "20bc7a47",
   "metadata": {},
   "outputs": [
    {
     "name": "stdout",
     "output_type": "stream",
     "text": [
      "1\n",
      "12/5/22, 02:10 PM iCRM  \n",
      " \n",
      "ONEOTT iNTERTAINMENT LTD.  \n",
      " \n",
      "INCENTRE 49/50 MIDC, 12th Road , Andheri ( East) , Mumbai -400093 \n",
      "GSTIN : 27AADCP6815A2ZO  \n",
      " \n",
      "RETAIL INVOICE  \n",
      " \n",
      " \n",
      " \n",
      "HSN/SAC  \n",
      "code   \n",
      " \n",
      "Description \n",
      "of Goods   \n",
      " \n",
      "Qty  \n",
      " \n",
      "UoM   \n",
      "Rate \n",
      "(per \n",
      "item)   \n",
      " \n",
      "Total   \n",
      " \n",
      "Discount  Delivery \n",
      "Charges/ \n",
      "Incidental \n",
      "and \n",
      "reimbursable \n",
      "charges   \n",
      "Net \n",
      "Taxable \n",
      "Value   \n",
      " \n",
      "CGST  \n",
      "Rate   \n",
      " \n",
      "CGST  \n",
      "Amount   \n",
      " \n",
      "SGST  \n",
      "Rate   \n",
      " \n",
      "SGST  \n",
      "Amount   \n",
      " \n",
      "IGST  \n",
      "Rate   \n",
      " \n",
      "IGST  \n",
      "Amount   \n",
      " \n",
      "CESS  \n",
      "Rate   \n",
      " \n",
      "CESS  \n",
      "Amount   \n",
      " \n",
      "Total  \n",
      "Amount  \n",
      "998422  KHLP_UL_2  \n",
      "0Mbps_Y  1 NA 820.00 820.00 0.00 0.00 820.00  9.00 %  90.00 9.00 \n",
      "% 90.00     1000.00  \n",
      "Freight                \n",
      "Insurance                \n",
      "Packing and Forwarding  \n",
      "Charges                \n",
      "TOTAL  820.00  820.00 0.00 0.00 820.00  9.00 %  90.00  9.00 \n",
      "% 90.00      1000.00  \n",
      "Total Invoice value (in figure)  1000.00  \n",
      "Total Invoice value (in words)                          Rupees  One Thousand   \n",
      "Whether Reverse charge applicable)  No \n",
      "Scan this QR code to avail online payment options : RuPay Debit Card  \n",
      "BHIM UPI  \n",
      "UPI QR code  \n",
      " \n",
      " \n",
      " \n",
      "Comments  \n",
      " \n",
      " \n",
      "Date  \n",
      "Declaration:  \n",
      " \n",
      " \n",
      "This is computer  generated  invoice,  No signature  required  IRNNo:  \n",
      " \n",
      " \n",
      " \n",
      "https://customer.onebroadband.in/QuotePrint.aspx?Id=_EP_CCtPPznTJLc|&t=_EP_VMxWJfHSw3w|&isThrowEx=_EP_bu326Ol0zRE|  1/1 \n",
      " \n",
      " \n",
      " \n",
      " \n",
      " \n",
      " \n",
      " \n",
      " \n",
      "Maharashtra \n",
      " \n",
      " \n",
      " \n",
      " \n",
      " \n",
      " \n",
      " \n",
      " \n",
      " \n",
      " \n",
      "Kolhapur_BHIMA_RIDDHI_Broadband_Pvt_Ltd  \n",
      " \n",
      " \n",
      " \n",
      "R27MH/0921/98003  \n",
      " \n",
      " \n",
      " \n",
      " \n",
      " \n",
      " \n",
      " \n",
      " \n",
      " \n",
      " \n",
      " \n",
      " \n",
      " \n",
      " \n",
      " \n"
     ]
    }
   ],
   "source": [
    "# importing all the required modules\n",
    "import PyPDF2\n",
    "\n",
    "# creating a pdf reader object\n",
    "reader = PyPDF2.PdfReader('iCRM-Dec2022.pdf')\n",
    "\n",
    "# print the number of pages in pdf file\n",
    "print(len(reader.pages))\n",
    "\n",
    "# print the text of the first page\n",
    "print(reader.pages[0].extract_text())"
   ]
  },
  {
   "cell_type": "code",
   "execution_count": 33,
   "id": "7be41b66",
   "metadata": {},
   "outputs": [
    {
     "ename": "IndentationError",
     "evalue": "unexpected indent (Temp/ipykernel_8296/903973651.py, line 3)",
     "output_type": "error",
     "traceback": [
      "\u001b[1;36m  File \u001b[1;32m\"C:\\Users\\RAKSHA~1\\AppData\\Local\\Temp/ipykernel_8296/903973651.py\"\u001b[1;36m, line \u001b[1;32m3\u001b[0m\n\u001b[1;33m    '''This function will read a complete word file'''\u001b[0m\n\u001b[1;37m    ^\u001b[0m\n\u001b[1;31mIndentationError\u001b[0m\u001b[1;31m:\u001b[0m unexpected indent\n"
     ]
    }
   ],
   "source": [
    "#17. write a func to read word file.\n",
    "def fun17(filename):\n",
    "    '''This function will read a complete word file'''\n",
    "    f = open(filename+'.doc' , 'r')\n",
    "    print(f.read())\n",
    "    \n",
    "filename  = input('Please enter the word file name without extention: ')\n",
    "\n",
    "# iCRM-converted_Feb2023\n",
    "\n",
    "fun17(filename)"
   ]
  },
  {
   "cell_type": "code",
   "execution_count": 30,
   "id": "cac97e4b",
   "metadata": {},
   "outputs": [
    {
     "name": "stdout",
     "output_type": "stream",
     "text": [
      "2/3/23, 05:14 PM\tiCRM  ONEOTT iNTERTAINMENT LTD.  INCENTRE 49/50 MIDC, 12th Road , Andheri ( East) , Mumbai -400093 GSTIN : 27AADCP6815A2ZO  RETAIL INVOICE   Scan this QR code to avail online payment options :RuPay Debit Card BHIM UPI UPI QR code    Comments   Date Declaration:   This is computer generated invoice, No signature required \n",
      "IRNNo:     https://customer.onebroadband.in/QuotePrint.aspx?Id=_EP_CCtPPznTJLc|&t=_EP_VMxWJfHSw3w|&isThrowEx=_EP_bu326Ol0zRE|\t1/1\n"
     ]
    }
   ],
   "source": [
    "import docx\n",
    "def getText(filename):\n",
    "    doc = docx.Document(filename)\n",
    "    fullText = []\n",
    "    for para in doc.paragraphs:\n",
    "        fullText.append(para.text)\n",
    "    return ' '.join(fullText)\n",
    "print(getText('iCRM-converted_Feb2023.docx'))"
   ]
  },
  {
   "cell_type": "code",
   "execution_count": 32,
   "id": "211e7e22",
   "metadata": {},
   "outputs": [
    {
     "name": "stdout",
     "output_type": "stream",
     "text": [
      "['2/3/23, 05:14 PM\\tiCRM', '', 'ONEOTT iNTERTAINMENT LTD.', '', 'INCENTRE 49/50 MIDC, 12th Road , Andheri ( East) , Mumbai -400093 GSTIN : 27AADCP6815A2ZO', '', 'RETAIL INVOICE', '', '', 'Scan this QR code to avail online payment options :RuPay Debit Card', 'BHIM UPI', 'UPI QR code', '', '', '', 'Comments', '', '', 'Date', 'Declaration:', '', '', 'This is computer generated invoice, No signature required', '\\nIRNNo:', '', '', '', '', 'https://customer.onebroadband.in/QuotePrint.aspx?Id=_EP_CCtPPznTJLc|&t=_EP_VMxWJfHSw3w|&isThrowEx=_EP_bu326Ol0zRE|\\t1/1']\n"
     ]
    }
   ],
   "source": [
    "doc = docx.Document('iCRM-converted_Feb2023.docx')\n",
    "allText = []\n",
    "for docpara in doc.paragraphs:\n",
    "    allText.append(docpara.text)\n",
    "print(allText)"
   ]
  },
  {
   "cell_type": "code",
   "execution_count": 34,
   "id": "4e7470d5",
   "metadata": {},
   "outputs": [],
   "source": [
    "# 18. write a func which can help you to filter only word file from dict\n"
   ]
  },
  {
   "cell_type": "code",
   "execution_count": 38,
   "id": "1f8acab0",
   "metadata": {},
   "outputs": [
    {
     "name": "stdout",
     "output_type": "stream",
     "text": [
      "system name is DESKTOP-HGGE0RL and IP address is 192.168.1.8\n"
     ]
    }
   ],
   "source": [
    "#19. write a func by which you can print an ip address of your system.\n",
    "def fun19():\n",
    "    '''This function will print the IP address of your system'''\n",
    "    \n",
    "    import socket \n",
    "    name = socket.gethostname()\n",
    "    IP_address = socket.gethostbyname(name)\n",
    "    print(f\"system name is {name} and IP address is {IP_address}\")\n",
    "\n",
    "fun19()"
   ]
  },
  {
   "cell_type": "code",
   "execution_count": 41,
   "id": "59ed7a56",
   "metadata": {},
   "outputs": [],
   "source": [
    "#20. write a func by which you will be able to append two pdf files.\n",
    "from PyPDF2 import PdfMerger\n",
    "\n",
    "pdfs = ['file1.pdf', 'file2.pdf']\n",
    "\n",
    "merger = PdfMerger()\n",
    "\n",
    "for pdf in pdfs:\n",
    "    merger.append(pdf)\n",
    "\n",
    "merger.write(\"result.pdf\")\n",
    "merger.close()"
   ]
  },
  {
   "cell_type": "code",
   "execution_count": 53,
   "id": "0b1ff5f5",
   "metadata": {},
   "outputs": [],
   "source": [
    "#18. write a func which can help you to filter only word file from dict\n",
    "\n",
    "import os \n",
    "def fun18a(dict_path = os.getcwd()):\n",
    "    files = os.listdir()\n",
    "    \n",
    "    for i in files:\n",
    "        file_details = os.path.splitext(i)\n",
    "        #print(file_details)\n",
    "        if file_details[1] == '.docx':\n",
    "            print(file_details[0],file_details[1])"
   ]
  },
  {
   "cell_type": "code",
   "execution_count": 54,
   "id": "04191b47",
   "metadata": {},
   "outputs": [
    {
     "name": "stdout",
     "output_type": "stream",
     "text": [
      "iCRM-converted_Feb2023 .docx\n"
     ]
    }
   ],
   "source": [
    "fun18a()"
   ]
  },
  {
   "cell_type": "code",
   "execution_count": 60,
   "id": "8a0ca952",
   "metadata": {},
   "outputs": [],
   "source": [
    "# IMAGE\n",
    "import cv2\n",
    "def fun10a(img_path):\n",
    "    img = cv2.imread(img_path)\n",
    "    cv2.imshow('Image:' , img)\n",
    "    cv2.waitKey(0)\n",
    "    cv2.destroyAllWindows()\n",
    "\n",
    "fun10a('Life_image.png')"
   ]
  },
  {
   "cell_type": "code",
   "execution_count": 5,
   "id": "8ebc4a99",
   "metadata": {},
   "outputs": [],
   "source": [
    "#11. write a func which can read video file and play for you.\n",
    "import cv2\n",
    "def fun11(video_path):\n",
    "    video = cv2.VideoCapture(video_path)\n",
    "    \n",
    "    while(video.isOpened()):\n",
    "        ret,frame = video.read()\n",
    "        if ret == True:\n",
    "                cv2.imshow('Frame', frame)\n",
    "                if cv2.waitKey(25) & 0xFF ==ord('x'):\n",
    "                    break\n",
    "        else:\n",
    "            break\n",
    "    video.release()\n",
    "    cv2.destroyAllWindows()\n",
    "fun11('sample-5s.mp4')"
   ]
  },
  {
   "cell_type": "code",
   "execution_count": null,
   "id": "415ef4a9",
   "metadata": {},
   "outputs": [],
   "source": []
  },
  {
   "cell_type": "code",
   "execution_count": null,
   "id": "acc940c0",
   "metadata": {},
   "outputs": [],
   "source": []
  }
 ],
 "metadata": {
  "kernelspec": {
   "display_name": "Python 3 (ipykernel)",
   "language": "python",
   "name": "python3"
  },
  "language_info": {
   "codemirror_mode": {
    "name": "ipython",
    "version": 3
   },
   "file_extension": ".py",
   "mimetype": "text/x-python",
   "name": "python",
   "nbconvert_exporter": "python",
   "pygments_lexer": "ipython3",
   "version": "3.9.7"
  }
 },
 "nbformat": 4,
 "nbformat_minor": 5
}
