{
 "cells": [
  {
   "cell_type": "code",
   "execution_count": 2,
   "id": "a65cb7a7",
   "metadata": {},
   "outputs": [
    {
     "data": {
      "text/plain": [
       "9"
      ]
     },
     "execution_count": 2,
     "metadata": {},
     "output_type": "execute_result"
    }
   ],
   "source": [
    "# 1 . you have to write a func which will take string and return a len of it without using a inbuilt fun (len)\n",
    "def fun1(s):\n",
    "    '''This function returns the length of given string'''\n",
    "    if type(s) == str:\n",
    "        count = 0\n",
    "        for i in s:\n",
    "            count = count+1\n",
    "        return count \n",
    "fun1('Rakshanda')"
   ]
  },
  {
   "cell_type": "code",
   "execution_count": 15,
   "id": "5f66fc32",
   "metadata": {},
   "outputs": [
    {
     "name": "stdout",
     "output_type": "stream",
     "text": [
      "Index of 1 is 0 \n",
      "Index of 2 is 1 \n",
      "Index of 3 is 2 \n",
      "Index of 4 is 3 \n",
      "Index of 56 is 4 \n"
     ]
    }
   ],
   "source": [
    "# 2. write a func which will be able to print index of all the primitive element which you will pass\n",
    "def fun2(l):\n",
    "    '''This function will return the index of all the primitive element you have'''\n",
    "    if type(l) == list or type(l) == tuple or type(l) == str:\n",
    "        for i in range(len(l)):\n",
    "            print(f\"Index of {l[i]} is {i} \")\n",
    "            \n",
    "#fun2('Testing my string')\n",
    "#fun2((3,2,4,56,7))\n",
    "fun2([1,2,3,4,56])"
   ]
  },
  {
   "cell_type": "code",
   "execution_count": 23,
   "id": "f8b85dd8",
   "metadata": {},
   "outputs": [
    {
     "data": {
      "text/plain": [
       "[4, 6, 7, 8, 5, 8, 4, 9]"
      ]
     },
     "execution_count": 23,
     "metadata": {},
     "output_type": "execute_result"
    }
   ],
   "source": [
    "# 3. write a func which will take a nested dict and give me output as a list of all the values even in case of 2 \n",
    "# level nesting it should be work.\n",
    "def fun3(dg1):\n",
    "    '''This function will take input as dictionary and gives out as a list of all the values\n",
    "    even in case of any number of levels of nesting it will work.'''\n",
    "    lst=[]\n",
    "    fun3b(dg1,lst)\n",
    "    return lst \n",
    "\n",
    "def fun3a(dg2):\n",
    "    '''This function returns the values of the given dictionary.'''\n",
    "    return dg2.values()\n",
    "\n",
    "\n",
    "def fun3b(dg3,lst):\n",
    "    '''This function inwraps the nested dictionary and returns list of values'''\n",
    "    if type(dg3) == dict:\n",
    "        a = fun3a(dg3)\n",
    "        for i in a:\n",
    "            if type(i) == dict:\n",
    "                b = fun3b(i,lst)\n",
    "            else:\n",
    "                lst.append(i)\n",
    "    return lst\n",
    "    \n",
    "    \n",
    "fun3({'a':4,'b':6, \"c\":{'d':7,'e':8,'f':{'g':5,'h':8,'i':{'j':4, 'k' :9}}}})"
   ]
  },
  {
   "cell_type": "code",
   "execution_count": 1,
   "id": "1dff17eb",
   "metadata": {},
   "outputs": [
    {
     "data": {
      "text/plain": [
       "[4, 6, {'d': 7, 'e': 8, 'f': {'g': 5, 'h': 8, 'i': {'j': 4, 'k': 9}}}]"
      ]
     },
     "execution_count": 1,
     "metadata": {},
     "output_type": "execute_result"
    }
   ],
   "source": [
    "# 3. write a func which will take a nested dict and give me output as a list of all the values even in case of 2 \n",
    "# level nesting it should be work.\n",
    "\n",
    "value_list = []\n",
    "def values(d):\n",
    "    for i in d:\n",
    "        if type(i) == dict:\n",
    "            values(d[i])\n",
    "        else:\n",
    "            value_list.append(d[i])\n",
    "    return value_list\n",
    "\n",
    "d = {'a':4,'b':6, \"c\":{'d':7,'e':8,'f':{'g':5,'h':8,'i':{'j':4, 'k' :9}}}}\n",
    "values(d)"
   ]
  },
  {
   "cell_type": "code",
   "execution_count": 27,
   "id": "30425836",
   "metadata": {},
   "outputs": [
    {
     "data": {
      "text/plain": [
       "[2, 3, 4, 5, 6]"
      ]
     },
     "execution_count": 27,
     "metadata": {},
     "output_type": "execute_result"
    }
   ],
   "source": [
    "#4. write a fun which will take another func as an input and return me an output\n",
    "def fun4a(n):\n",
    "    '''This function generates the n range of number'''\n",
    "    return list(range(n))\n",
    "\n",
    "def fun4(fun):\n",
    "    '''This function takes another function as input and gives the list of numbers as output'''\n",
    "    if type(fun) == list:\n",
    "        l=[]\n",
    "        for i in fun:\n",
    "            l.append(i+2)\n",
    "        return l\n",
    "fun4(fun4a(5))"
   ]
  },
  {
   "cell_type": "code",
   "execution_count": 30,
   "id": "01b06b75",
   "metadata": {},
   "outputs": [
    {
     "data": {
      "text/plain": [
       "[1, 2, 3, 4, 'a', 'b', 'c', 'd', 'sudh', 23, 45]"
      ]
     },
     "execution_count": 30,
     "metadata": {},
     "output_type": "execute_result"
    }
   ],
   "source": [
    "# 5. write a function which will take multiple list as a input and give me concatnation of all the element as and output\n",
    "def fun5(*args):\n",
    "    '''This function takes n number of lists as input and gives the concatination of all the list element as one list'''\n",
    "    l = []\n",
    "    for i in args:\n",
    "        if type(i) == list:\n",
    "            l = l+i\n",
    "    return l\n",
    "\n",
    "\n",
    "fun5([1,2,3,4],['a','b','c','d'],['sudh',23,45])"
   ]
  },
  {
   "cell_type": "code",
   "execution_count": 35,
   "id": "a647053a",
   "metadata": {},
   "outputs": [
    {
     "data": {
      "text/plain": [
       "['Index of 1 is 0',\n",
       " 'Index of 2 is 1',\n",
       " 'Index of 3 is 2',\n",
       " 'Index of 5 is 3',\n",
       " 'Index of 1 is 4',\n",
       " 'Index of 2 is 5']"
      ]
     },
     "execution_count": 35,
     "metadata": {},
     "output_type": "execute_result"
    }
   ],
   "source": [
    "#6. write a function which will be able to take a list as an input return an index of each element like a inbuilt\n",
    "# index function but even if we have repetative element it should return index\n",
    "def fun6(lst1):\n",
    "    '''This function takes list as input and return an index of each element like a inbuilt\n",
    "    index fuction but even if we have repetative element if should return index'''\n",
    "    l = []\n",
    "    if type(lst1) == list:\n",
    "        for i in range(len(lst1)):\n",
    "            l.append(f\"Index of {lst1[i]} is {i}\")\n",
    "        return l\n",
    "fun6([1,2,3,5,1,2])\n"
   ]
  },
  {
   "cell_type": "code",
   "execution_count": 39,
   "id": "e4ef5969",
   "metadata": {},
   "outputs": [
    {
     "data": {
      "text/plain": [
       "['.ipynb_checkpoints',\n",
       " 'Dict,set,tuple.ipynb',\n",
       " 'Dict_while_for_problems.ipynb',\n",
       " 'forelse,while,tupleoperation.ipynb',\n",
       " 'Functions_Part1.ipynb',\n",
       " 'Generator_file_iteratior_yeild.ipynb',\n",
       " 'google.txt',\n",
       " 'Ifelse,forloop.ipynb',\n",
       " 'kwargs,args,iterable,listComprehension.ipynb',\n",
       " 'Python_Basic_1.ipynb',\n",
       " 'String,Indexing,List.ipynb',\n",
       " 'test1.txt',\n",
       " 'Untitled.ipynb',\n",
       " 'Untitled1.ipynb',\n",
       " 'Untitled2.ipynb']"
      ]
     },
     "execution_count": 39,
     "metadata": {},
     "output_type": "execute_result"
    }
   ],
   "source": [
    "# 7.write a function which will should return list of all the file name from  a directory.\n",
    "def fun7(path1):\n",
    "    '''This function takes the directory path string as input and returns all the file\n",
    "    from given directory'''\n",
    "    import os\n",
    "    return os.listdir(path1)\n",
    "#fun7('D:\\\\Python_Basics')\n",
    "fun7(os.getcwd())"
   ]
  },
  {
   "cell_type": "code",
   "execution_count": 40,
   "id": "5cb3d973",
   "metadata": {},
   "outputs": [
    {
     "data": {
      "text/plain": [
       "uname_result(system='Windows', node='DESKTOP-HGGE0RL', release='10', version='10.0.22621', machine='AMD64')"
      ]
     },
     "execution_count": 40,
     "metadata": {},
     "output_type": "execute_result"
    }
   ],
   "source": [
    "# 8. write a func which will be able to show your systm configuration\n",
    "def fun8():\n",
    "    '''This function will be able to show your system configuration'''\n",
    "    import platform as pl\n",
    "    return pl.uname()\n",
    "fun8()"
   ]
  },
  {
   "cell_type": "code",
   "execution_count": 42,
   "id": "705d115b",
   "metadata": {},
   "outputs": [
    {
     "data": {
      "text/plain": [
       "'The Date is 2023-4-29 and the Time is 12-24-19'"
      ]
     },
     "execution_count": 42,
     "metadata": {},
     "output_type": "execute_result"
    }
   ],
   "source": [
    "#9. write a func which will be able to show date and time\n",
    "def fun9():\n",
    "    '''This function will be able to show date and time'''\n",
    "    import subprocess as sb\n",
    "    from subprocess import time\n",
    "    a= time.localtime()\n",
    "    Date = str(a[0])+ '-'+ str(a[1])+ '-' +str(a[2])\n",
    "    Time = str(a[3])+ '-'+ str(a[4])+ '-' +str(a[5])\n",
    "    \n",
    "    return f\"The Date is {Date} and the Time is {Time}\"\n",
    "fun9()"
   ]
  },
  {
   "cell_type": "code",
   "execution_count": null,
   "id": "b13bb772",
   "metadata": {},
   "outputs": [],
   "source": [
    "#10 . write a fun which will be able to read a image file and show it to you.\n",
    "def fun10(filename):\n",
    "    '''This function will be able to read a image file and show it to you'''\n",
    "    import PIL\n",
    "    from PIL import Image\n",
    "    img = Image.open(filename, 'r')\n",
    "    return display(img)\n",
    "file_name = input('Please enter the png file name along with .png extention: ')\n",
    "fun10(file_name)\n",
    "#Life_image.png"
   ]
  },
  {
   "cell_type": "code",
   "execution_count": 51,
   "id": "5fab53f0",
   "metadata": {},
   "outputs": [
    {
     "name": "stdout",
     "output_type": "stream",
     "text": [
      "Collecting opencv-pythonNote: you may need to restart the kernel to use updated packages.\n",
      "  Downloading opencv_python-4.7.0.72-cp37-abi3-win_amd64.whl (38.2 MB)\n",
      "Requirement already satisfied: numpy>=1.17.0 in c:\\users\\rakshanda\\anaconda3\\lib\\site-packages (from opencv-python) (1.22.4+vanilla)\n",
      "\n",
      "Installing collected packages: opencv-python\n",
      "Successfully installed opencv-python-4.7.0.72\n"
     ]
    }
   ],
   "source": [
    "pip install opencv-python"
   ]
  },
  {
   "cell_type": "code",
   "execution_count": null,
   "id": "afdf57c1",
   "metadata": {},
   "outputs": [],
   "source": [
    "import cv2\n",
    "img = cv2.imread('win_image1.jpg', 1)\n",
    "print(img)\n",
    "cv2.imshow('image', img)\n",
    "cv2.waitKey(0)\n",
    "cv2.destroyAllWindows()"
   ]
  },
  {
   "cell_type": "code",
   "execution_count": null,
   "id": "b7b56666",
   "metadata": {},
   "outputs": [],
   "source": []
  }
 ],
 "metadata": {
  "kernelspec": {
   "display_name": "Python 3 (ipykernel)",
   "language": "python",
   "name": "python3"
  },
  "language_info": {
   "codemirror_mode": {
    "name": "ipython",
    "version": 3
   },
   "file_extension": ".py",
   "mimetype": "text/x-python",
   "name": "python",
   "nbconvert_exporter": "python",
   "pygments_lexer": "ipython3",
   "version": "3.9.7"
  }
 },
 "nbformat": 4,
 "nbformat_minor": 5
}
