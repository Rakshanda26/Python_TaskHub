{
 "cells": [
  {
   "cell_type": "code",
   "execution_count": 17,
   "id": "c54b0b39",
   "metadata": {},
   "outputs": [
    {
     "name": "stdout",
     "output_type": "stream",
     "text": [
      "All PDF files in 'D:\\All_PDF' have been merged into 'D:\\Merged_PDF.pdf'\n"
     ]
    }
   ],
   "source": [
    "import PyPDF2\n",
    "import os \n",
    "\n",
    "directory = r\"D:\\All_PDF\"\n",
    "output_pdf = r\"D:\\Merged_PDF.pdf\"\n",
    "\n",
    "pdf_merger = PyPDF2.PdfMerger()\n",
    "\n",
    "\n",
    "for filename in os.listdir(directory):\n",
    "    if filename.endswith(\".pdf\"):\n",
    "        pdf_merger.append(open(os.path.join(directory, filename), 'rb'))\n",
    "        \n",
    "with open(output_pdf, 'wb') as output_file:\n",
    "    pdf_merger.write(output_file)\n",
    "    \n",
    "print(\"All PDF files in 'D:\\All_PDF' have been merged into 'D:\\Merged_PDF.pdf'\")"
   ]
  },
  {
   "cell_type": "code",
   "execution_count": null,
   "id": "cb95064f",
   "metadata": {},
   "outputs": [],
   "source": [
    "D:\\All_PDF"
   ]
  }
 ],
 "metadata": {
  "kernelspec": {
   "display_name": "Python 3 (ipykernel)",
   "language": "python",
   "name": "python3"
  },
  "language_info": {
   "codemirror_mode": {
    "name": "ipython",
    "version": 3
   },
   "file_extension": ".py",
   "mimetype": "text/x-python",
   "name": "python",
   "nbconvert_exporter": "python",
   "pygments_lexer": "ipython3",
   "version": "3.9.7"
  }
 },
 "nbformat": 4,
 "nbformat_minor": 5
}
