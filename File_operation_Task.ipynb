{
 "cells": [
  {
   "cell_type": "code",
   "execution_count": 17,
   "id": "5cad3f4a",
   "metadata": {},
   "outputs": [
    {
     "name": "stdout",
     "output_type": "stream",
     "text": [
      "entry_points.txt\n",
      "LICENSE.txt\n",
      "requirements.txt\n",
      "top_level.txt\n"
     ]
    }
   ],
   "source": [
    "import os \n",
    "for i in os.listdir(\"D:\\Machine_Learning_Final_All\"):\n",
    "    if i.endswith(\".txt\"):\n",
    "        print(i)\n"
   ]
  },
  {
   "cell_type": "code",
   "execution_count": 13,
   "id": "02b153e7",
   "metadata": {},
   "outputs": [
    {
     "name": "stdout",
     "output_type": "stream",
     "text": [
      "All CSV files have been appended to D:\\Machine_Learning_Final_All\\combined_data.csv\n"
     ]
    }
   ],
   "source": [
    "import os\n",
    "\n",
    "directory = r\"D:\\Machine_Learning_Final_All\"\n",
    "output_file = r\"D:\\Machine_Learning_Final_All\\combined_data.csv\"\n",
    "\n",
    "with open(output_file, 'w') as output:\n",
    "    for filename in os.listdir(directory):\n",
    "        if filename.endswith(\".csv\"):\n",
    "            with open(os.path.join(directory, filename), 'r') as file:\n",
    "                output.write(file.read())\n",
    "\n",
    "print(\"All CSV files have been appended to\", output_file)\n"
   ]
  },
  {
   "cell_type": "code",
   "execution_count": 15,
   "id": "1c5c6833",
   "metadata": {},
   "outputs": [
    {
     "name": "stdout",
     "output_type": "stream",
     "text": [
      "All csv files have been appended to  D:\\Machine_Learning_Final_All\\combined_data1.csv\n"
     ]
    }
   ],
   "source": [
    "import os \n",
    "\n",
    "directory = r\"D:\\Machine_Learning_Final_All\"\n",
    "output_file = r\"D:\\Machine_Learning_Final_All\\combined_data1.csv\"\n",
    "\n",
    "with open(output_file , 'w') as output:\n",
    "    for filename in os.listdir(directory):\n",
    "        if filename.endswith(\".csv\"):\n",
    "            with open(os.path.join(directory, filename), 'r') as file:\n",
    "                output.write(file.read())\n",
    "                \n",
    "print(\"All csv files have been appended to \", output_file)"
   ]
  },
  {
   "cell_type": "code",
   "execution_count": 16,
   "id": "fb3f79c6",
   "metadata": {},
   "outputs": [
    {
     "data": {
      "text/plain": [
       "'D:\\\\Machine_Learning_Final_All\\\\Python_Task_All'"
      ]
     },
     "execution_count": 16,
     "metadata": {},
     "output_type": "execute_result"
    }
   ],
   "source": [
    "os.getcwd()"
   ]
  },
  {
   "cell_type": "code",
   "execution_count": 20,
   "id": "f9ee0c86",
   "metadata": {},
   "outputs": [
    {
     "name": "stdout",
     "output_type": "stream",
     "text": [
      "All TXT files have been appended to D:\\Machine_Learning_Final_All\\combined_txt_data1.txt\n"
     ]
    }
   ],
   "source": [
    "import os\n",
    "\n",
    "directory = r\"D:\\Machine_Learning_Final_All\"\n",
    "output_txt_file = r\"D:\\Machine_Learning_Final_All\\combined_txt_data1.txt\"\n",
    "\n",
    "for filename in os.listdir(directory):\n",
    "    if filename.endswith(\".txt\"):\n",
    "        file_path = os.path.join(directory, filename)\n",
    "        with open(file_path, 'r') as file, open(output_txt_file, 'a') as output_file:\n",
    "            output_file.write(file.read())\n",
    "\n",
    "print(\"All TXT files have been appended to\", output_txt_file)\n"
   ]
  },
  {
   "cell_type": "raw",
   "id": "963abd0d",
   "metadata": {},
   "source": [
    "import os\n",
    "\n",
    "directory = r\"D:\\Machine_Learning_Final_All\"\n",
    "output_csv_file = r\"D:\\Machine_Learning_Final_All\\combined_csv_data.csv\"\n",
    "output_txt_file = r\"D:\\Machine_Learning_Final_All\\combined_txt_data.txt\"\n",
    "\n",
    "for filename in os.listdir(directory):\n",
    "    file_path = os.path.join(directory, filename)\n",
    "\n",
    "    with open(file_path, 'r') as file:\n",
    "        output = output_csv_file if filename.endswith(\".csv\") else output_txt_file\n",
    "        with open(output, 'a') as output_file:\n",
    "            output_file.write(file.read())\n",
    "\n",
    "print(\"All CSV and TXT files have been appended to their respective output files.\")\n"
   ]
  },
  {
   "cell_type": "code",
   "execution_count": null,
   "id": "05903fc6",
   "metadata": {},
   "outputs": [],
   "source": []
  }
 ],
 "metadata": {
  "kernelspec": {
   "display_name": "Python 3 (ipykernel)",
   "language": "python",
   "name": "python3"
  },
  "language_info": {
   "codemirror_mode": {
    "name": "ipython",
    "version": 3
   },
   "file_extension": ".py",
   "mimetype": "text/x-python",
   "name": "python",
   "nbconvert_exporter": "python",
   "pygments_lexer": "ipython3",
   "version": "3.9.7"
  }
 },
 "nbformat": 4,
 "nbformat_minor": 5
}
