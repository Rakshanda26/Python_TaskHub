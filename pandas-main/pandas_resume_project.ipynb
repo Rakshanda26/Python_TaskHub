{
 "cells": [
  {
   "cell_type": "code",
   "execution_count": 10,
   "id": "7aa7d0dc",
   "metadata": {
    "scrolled": true
   },
   "outputs": [
    {
     "ename": "ImportError",
     "evalue": "cannot import name util",
     "output_type": "error",
     "traceback": [
      "\u001b[1;31m---------------------------------------------------------------------------\u001b[0m",
      "\u001b[1;31mImportError\u001b[0m                               Traceback (most recent call last)",
      "\u001b[1;32mC:\\Users\\RAKSHA~1\\AppData\\Local\\Temp/ipykernel_18152/3228773620.py\u001b[0m in \u001b[0;36m<module>\u001b[1;34m\u001b[0m\n\u001b[0;32m      2\u001b[0m \u001b[1;32mimport\u001b[0m \u001b[0mre\u001b[0m\u001b[1;33m\u001b[0m\u001b[1;33m\u001b[0m\u001b[0m\n\u001b[0;32m      3\u001b[0m \u001b[1;32mfrom\u001b[0m \u001b[0mdocx\u001b[0m \u001b[1;32mimport\u001b[0m \u001b[0mDocument\u001b[0m\u001b[1;33m\u001b[0m\u001b[1;33m\u001b[0m\u001b[0m\n\u001b[1;32m----> 4\u001b[1;33m \u001b[1;32mfrom\u001b[0m \u001b[0mpyresparser\u001b[0m \u001b[1;32mimport\u001b[0m \u001b[0mResumeParser\u001b[0m\u001b[1;33m\u001b[0m\u001b[1;33m\u001b[0m\u001b[0m\n\u001b[0m\u001b[0;32m      5\u001b[0m \u001b[1;32mimport\u001b[0m \u001b[0mpandas\u001b[0m \u001b[1;32mas\u001b[0m \u001b[0mpd\u001b[0m\u001b[1;33m\u001b[0m\u001b[1;33m\u001b[0m\u001b[0m\n",
      "\u001b[1;32m~\\anaconda3\\lib\\site-packages\\pyresparser\\__init__.py\u001b[0m in \u001b[0;36m<module>\u001b[1;34m\u001b[0m\n\u001b[0;32m      1\u001b[0m \u001b[1;32mfrom\u001b[0m \u001b[1;33m.\u001b[0m \u001b[1;32mimport\u001b[0m \u001b[0mutils\u001b[0m\u001b[1;33m\u001b[0m\u001b[1;33m\u001b[0m\u001b[0m\n\u001b[0;32m      2\u001b[0m \u001b[1;32mfrom\u001b[0m \u001b[1;33m.\u001b[0m \u001b[1;32mimport\u001b[0m \u001b[0mconstants\u001b[0m\u001b[1;33m\u001b[0m\u001b[1;33m\u001b[0m\u001b[0m\n\u001b[1;32m----> 3\u001b[1;33m \u001b[1;32mfrom\u001b[0m \u001b[1;33m.\u001b[0m\u001b[0mresume_parser\u001b[0m \u001b[1;32mimport\u001b[0m \u001b[0mResumeParser\u001b[0m\u001b[1;33m\u001b[0m\u001b[1;33m\u001b[0m\u001b[0m\n\u001b[0m\u001b[0;32m      4\u001b[0m \u001b[1;33m\u001b[0m\u001b[0m\n\u001b[0;32m      5\u001b[0m __all__ = [\n",
      "\u001b[1;32m~\\anaconda3\\lib\\site-packages\\pyresparser\\resume_parser.py\u001b[0m in \u001b[0;36m<module>\u001b[1;34m\u001b[0m\n\u001b[0;32m      4\u001b[0m \u001b[1;32mimport\u001b[0m \u001b[0mmultiprocessing\u001b[0m \u001b[1;32mas\u001b[0m \u001b[0mmp\u001b[0m\u001b[1;33m\u001b[0m\u001b[1;33m\u001b[0m\u001b[0m\n\u001b[0;32m      5\u001b[0m \u001b[1;32mimport\u001b[0m \u001b[0mio\u001b[0m\u001b[1;33m\u001b[0m\u001b[1;33m\u001b[0m\u001b[0m\n\u001b[1;32m----> 6\u001b[1;33m \u001b[1;32mimport\u001b[0m \u001b[0mspacy\u001b[0m\u001b[1;33m\u001b[0m\u001b[1;33m\u001b[0m\u001b[0m\n\u001b[0m\u001b[0;32m      7\u001b[0m \u001b[1;32mimport\u001b[0m \u001b[0mpprint\u001b[0m\u001b[1;33m\u001b[0m\u001b[1;33m\u001b[0m\u001b[0m\n\u001b[0;32m      8\u001b[0m \u001b[1;32mfrom\u001b[0m \u001b[0mspacy\u001b[0m\u001b[1;33m.\u001b[0m\u001b[0mmatcher\u001b[0m \u001b[1;32mimport\u001b[0m \u001b[0mMatcher\u001b[0m\u001b[1;33m\u001b[0m\u001b[1;33m\u001b[0m\u001b[0m\n",
      "\u001b[1;32m~\\anaconda3\\lib\\site-packages\\spacy\\__init__.py\u001b[0m in \u001b[0;36m<module>\u001b[1;34m\u001b[0m\n\u001b[0;32m     11\u001b[0m \u001b[1;32mfrom\u001b[0m \u001b[0mthinc\u001b[0m\u001b[1;33m.\u001b[0m\u001b[0mapi\u001b[0m \u001b[1;32mimport\u001b[0m \u001b[0mConfig\u001b[0m\u001b[1;33m,\u001b[0m \u001b[0mprefer_gpu\u001b[0m\u001b[1;33m,\u001b[0m \u001b[0mrequire_cpu\u001b[0m\u001b[1;33m,\u001b[0m \u001b[0mrequire_gpu\u001b[0m  \u001b[1;31m# noqa: F401\u001b[0m\u001b[1;33m\u001b[0m\u001b[1;33m\u001b[0m\u001b[0m\n\u001b[0;32m     12\u001b[0m \u001b[1;33m\u001b[0m\u001b[0m\n\u001b[1;32m---> 13\u001b[1;33m \u001b[1;32mfrom\u001b[0m \u001b[1;33m.\u001b[0m \u001b[1;32mimport\u001b[0m \u001b[0mpipeline\u001b[0m  \u001b[1;31m# noqa: F401\u001b[0m\u001b[1;33m\u001b[0m\u001b[1;33m\u001b[0m\u001b[0m\n\u001b[0m\u001b[0;32m     14\u001b[0m \u001b[1;32mfrom\u001b[0m \u001b[1;33m.\u001b[0m \u001b[1;32mimport\u001b[0m \u001b[0mutil\u001b[0m\u001b[1;33m\u001b[0m\u001b[1;33m\u001b[0m\u001b[0m\n\u001b[0;32m     15\u001b[0m \u001b[1;32mfrom\u001b[0m \u001b[1;33m.\u001b[0m\u001b[0mabout\u001b[0m \u001b[1;32mimport\u001b[0m \u001b[0m__version__\u001b[0m  \u001b[1;31m# noqa: F401\u001b[0m\u001b[1;33m\u001b[0m\u001b[1;33m\u001b[0m\u001b[0m\n",
      "\u001b[1;32m~\\anaconda3\\lib\\site-packages\\spacy\\pipeline\\__init__.py\u001b[0m in \u001b[0;36m<module>\u001b[1;34m\u001b[0m\n\u001b[1;32m----> 1\u001b[1;33m \u001b[1;32mfrom\u001b[0m \u001b[1;33m.\u001b[0m\u001b[0mattributeruler\u001b[0m \u001b[1;32mimport\u001b[0m \u001b[0mAttributeRuler\u001b[0m\u001b[1;33m\u001b[0m\u001b[1;33m\u001b[0m\u001b[0m\n\u001b[0m\u001b[0;32m      2\u001b[0m \u001b[1;32mfrom\u001b[0m \u001b[1;33m.\u001b[0m\u001b[0mdep_parser\u001b[0m \u001b[1;32mimport\u001b[0m \u001b[0mDependencyParser\u001b[0m\u001b[1;33m\u001b[0m\u001b[1;33m\u001b[0m\u001b[0m\n\u001b[0;32m      3\u001b[0m \u001b[1;32mfrom\u001b[0m \u001b[1;33m.\u001b[0m\u001b[0medit_tree_lemmatizer\u001b[0m \u001b[1;32mimport\u001b[0m \u001b[0mEditTreeLemmatizer\u001b[0m\u001b[1;33m\u001b[0m\u001b[1;33m\u001b[0m\u001b[0m\n\u001b[0;32m      4\u001b[0m \u001b[1;32mfrom\u001b[0m \u001b[1;33m.\u001b[0m\u001b[0mentity_linker\u001b[0m \u001b[1;32mimport\u001b[0m \u001b[0mEntityLinker\u001b[0m\u001b[1;33m\u001b[0m\u001b[1;33m\u001b[0m\u001b[0m\n\u001b[0;32m      5\u001b[0m \u001b[1;32mfrom\u001b[0m \u001b[1;33m.\u001b[0m\u001b[0mentityruler\u001b[0m \u001b[1;32mimport\u001b[0m \u001b[0mEntityRuler\u001b[0m\u001b[1;33m\u001b[0m\u001b[1;33m\u001b[0m\u001b[0m\n",
      "\u001b[1;32m~\\anaconda3\\lib\\site-packages\\spacy\\pipeline\\attributeruler.py\u001b[0m in \u001b[0;36m<module>\u001b[1;34m\u001b[0m\n\u001b[0;32m      6\u001b[0m \u001b[1;32mfrom\u001b[0m \u001b[1;33m.\u001b[0m\u001b[1;33m.\u001b[0m \u001b[1;32mimport\u001b[0m \u001b[0mutil\u001b[0m\u001b[1;33m\u001b[0m\u001b[1;33m\u001b[0m\u001b[0m\n\u001b[0;32m      7\u001b[0m \u001b[1;32mfrom\u001b[0m \u001b[1;33m.\u001b[0m\u001b[1;33m.\u001b[0m\u001b[0merrors\u001b[0m \u001b[1;32mimport\u001b[0m \u001b[0mErrors\u001b[0m\u001b[1;33m\u001b[0m\u001b[1;33m\u001b[0m\u001b[0m\n\u001b[1;32m----> 8\u001b[1;33m \u001b[1;32mfrom\u001b[0m \u001b[1;33m.\u001b[0m\u001b[1;33m.\u001b[0m\u001b[0mlanguage\u001b[0m \u001b[1;32mimport\u001b[0m \u001b[0mLanguage\u001b[0m\u001b[1;33m\u001b[0m\u001b[1;33m\u001b[0m\u001b[0m\n\u001b[0m\u001b[0;32m      9\u001b[0m \u001b[1;32mfrom\u001b[0m \u001b[1;33m.\u001b[0m\u001b[1;33m.\u001b[0m\u001b[0mmatcher\u001b[0m \u001b[1;32mimport\u001b[0m \u001b[0mMatcher\u001b[0m\u001b[1;33m\u001b[0m\u001b[1;33m\u001b[0m\u001b[0m\n\u001b[0;32m     10\u001b[0m \u001b[1;32mfrom\u001b[0m \u001b[1;33m.\u001b[0m\u001b[1;33m.\u001b[0m\u001b[0mscorer\u001b[0m \u001b[1;32mimport\u001b[0m \u001b[0mScorer\u001b[0m\u001b[1;33m\u001b[0m\u001b[1;33m\u001b[0m\u001b[0m\n",
      "\u001b[1;32m~\\anaconda3\\lib\\site-packages\\spacy\\language.py\u001b[0m in \u001b[0;36m<module>\u001b[1;34m\u001b[0m\n\u001b[0;32m     41\u001b[0m \u001b[1;32mfrom\u001b[0m \u001b[1;33m.\u001b[0m\u001b[0mlang\u001b[0m\u001b[1;33m.\u001b[0m\u001b[0mtokenizer_exceptions\u001b[0m \u001b[1;32mimport\u001b[0m \u001b[0mBASE_EXCEPTIONS\u001b[0m\u001b[1;33m,\u001b[0m \u001b[0mURL_MATCH\u001b[0m\u001b[1;33m\u001b[0m\u001b[1;33m\u001b[0m\u001b[0m\n\u001b[0;32m     42\u001b[0m \u001b[1;32mfrom\u001b[0m \u001b[1;33m.\u001b[0m\u001b[0mlookups\u001b[0m \u001b[1;32mimport\u001b[0m \u001b[0mload_lookups\u001b[0m\u001b[1;33m\u001b[0m\u001b[1;33m\u001b[0m\u001b[0m\n\u001b[1;32m---> 43\u001b[1;33m \u001b[1;32mfrom\u001b[0m \u001b[1;33m.\u001b[0m\u001b[0mpipe_analysis\u001b[0m \u001b[1;32mimport\u001b[0m \u001b[0manalyze_pipes\u001b[0m\u001b[1;33m,\u001b[0m \u001b[0mprint_pipe_analysis\u001b[0m\u001b[1;33m,\u001b[0m \u001b[0mvalidate_attrs\u001b[0m\u001b[1;33m\u001b[0m\u001b[1;33m\u001b[0m\u001b[0m\n\u001b[0m\u001b[0;32m     44\u001b[0m from .schemas import (\n\u001b[0;32m     45\u001b[0m     \u001b[0mConfigSchema\u001b[0m\u001b[1;33m,\u001b[0m\u001b[1;33m\u001b[0m\u001b[1;33m\u001b[0m\u001b[0m\n",
      "\u001b[1;32m~\\anaconda3\\lib\\site-packages\\spacy\\pipe_analysis.py\u001b[0m in \u001b[0;36m<module>\u001b[1;34m\u001b[0m\n\u001b[0;32m      4\u001b[0m \u001b[1;33m\u001b[0m\u001b[0m\n\u001b[0;32m      5\u001b[0m \u001b[1;32mfrom\u001b[0m \u001b[1;33m.\u001b[0m\u001b[0merrors\u001b[0m \u001b[1;32mimport\u001b[0m \u001b[0mErrors\u001b[0m\u001b[1;33m\u001b[0m\u001b[1;33m\u001b[0m\u001b[0m\n\u001b[1;32m----> 6\u001b[1;33m \u001b[1;32mfrom\u001b[0m \u001b[1;33m.\u001b[0m\u001b[0mtokens\u001b[0m \u001b[1;32mimport\u001b[0m \u001b[0mDoc\u001b[0m\u001b[1;33m,\u001b[0m \u001b[0mSpan\u001b[0m\u001b[1;33m,\u001b[0m \u001b[0mToken\u001b[0m\u001b[1;33m\u001b[0m\u001b[1;33m\u001b[0m\u001b[0m\n\u001b[0m\u001b[0;32m      7\u001b[0m \u001b[1;32mfrom\u001b[0m \u001b[1;33m.\u001b[0m\u001b[0mutil\u001b[0m \u001b[1;32mimport\u001b[0m \u001b[0mdot_to_dict\u001b[0m\u001b[1;33m\u001b[0m\u001b[1;33m\u001b[0m\u001b[0m\n\u001b[0;32m      8\u001b[0m \u001b[1;33m\u001b[0m\u001b[0m\n",
      "\u001b[1;32m~\\anaconda3\\lib\\site-packages\\spacy\\tokens\\__init__.py\u001b[0m in \u001b[0;36m<module>\u001b[1;34m\u001b[0m\n\u001b[1;32m----> 1\u001b[1;33m \u001b[1;32mfrom\u001b[0m \u001b[1;33m.\u001b[0m\u001b[0m_serialize\u001b[0m \u001b[1;32mimport\u001b[0m \u001b[0mDocBin\u001b[0m\u001b[1;33m\u001b[0m\u001b[1;33m\u001b[0m\u001b[0m\n\u001b[0m\u001b[0;32m      2\u001b[0m \u001b[1;32mfrom\u001b[0m \u001b[1;33m.\u001b[0m\u001b[0mdoc\u001b[0m \u001b[1;32mimport\u001b[0m \u001b[0mDoc\u001b[0m\u001b[1;33m\u001b[0m\u001b[1;33m\u001b[0m\u001b[0m\n\u001b[0;32m      3\u001b[0m \u001b[1;32mfrom\u001b[0m \u001b[1;33m.\u001b[0m\u001b[0mmorphanalysis\u001b[0m \u001b[1;32mimport\u001b[0m \u001b[0mMorphAnalysis\u001b[0m\u001b[1;33m\u001b[0m\u001b[1;33m\u001b[0m\u001b[0m\n\u001b[0;32m      4\u001b[0m \u001b[1;32mfrom\u001b[0m \u001b[1;33m.\u001b[0m\u001b[0mspan\u001b[0m \u001b[1;32mimport\u001b[0m \u001b[0mSpan\u001b[0m\u001b[1;33m\u001b[0m\u001b[1;33m\u001b[0m\u001b[0m\n\u001b[0;32m      5\u001b[0m \u001b[1;32mfrom\u001b[0m \u001b[1;33m.\u001b[0m\u001b[0mspan_group\u001b[0m \u001b[1;32mimport\u001b[0m \u001b[0mSpanGroup\u001b[0m\u001b[1;33m\u001b[0m\u001b[1;33m\u001b[0m\u001b[0m\n",
      "\u001b[1;32m~\\anaconda3\\lib\\site-packages\\spacy\\tokens\\_serialize.py\u001b[0m in \u001b[0;36m<module>\u001b[1;34m\u001b[0m\n\u001b[0;32m     12\u001b[0m \u001b[1;32mfrom\u001b[0m \u001b[1;33m.\u001b[0m\u001b[1;33m.\u001b[0m\u001b[0merrors\u001b[0m \u001b[1;32mimport\u001b[0m \u001b[0mErrors\u001b[0m\u001b[1;33m\u001b[0m\u001b[1;33m\u001b[0m\u001b[0m\n\u001b[0;32m     13\u001b[0m \u001b[1;32mfrom\u001b[0m \u001b[1;33m.\u001b[0m\u001b[1;33m.\u001b[0m\u001b[0mutil\u001b[0m \u001b[1;32mimport\u001b[0m \u001b[0mSimpleFrozenList\u001b[0m\u001b[1;33m,\u001b[0m \u001b[0mensure_path\u001b[0m\u001b[1;33m\u001b[0m\u001b[1;33m\u001b[0m\u001b[0m\n\u001b[1;32m---> 14\u001b[1;33m \u001b[1;32mfrom\u001b[0m \u001b[1;33m.\u001b[0m\u001b[1;33m.\u001b[0m\u001b[0mvocab\u001b[0m \u001b[1;32mimport\u001b[0m \u001b[0mVocab\u001b[0m\u001b[1;33m\u001b[0m\u001b[1;33m\u001b[0m\u001b[0m\n\u001b[0m\u001b[0;32m     15\u001b[0m \u001b[1;32mfrom\u001b[0m \u001b[1;33m.\u001b[0m\u001b[0m_dict_proxies\u001b[0m \u001b[1;32mimport\u001b[0m \u001b[0mSpanGroups\u001b[0m\u001b[1;33m\u001b[0m\u001b[1;33m\u001b[0m\u001b[0m\n\u001b[0;32m     16\u001b[0m \u001b[1;32mfrom\u001b[0m \u001b[1;33m.\u001b[0m\u001b[0mdoc\u001b[0m \u001b[1;32mimport\u001b[0m \u001b[0mDOCBIN_ALL_ATTRS\u001b[0m \u001b[1;32mas\u001b[0m \u001b[0mALL_ATTRS\u001b[0m\u001b[1;33m\u001b[0m\u001b[1;33m\u001b[0m\u001b[0m\n",
      "\u001b[1;32m~\\anaconda3\\lib\\site-packages\\spacy\\vocab.pyx\u001b[0m in \u001b[0;36minit spacy.vocab\u001b[1;34m()\u001b[0m\n",
      "\u001b[1;32m~\\anaconda3\\lib\\site-packages\\spacy\\tokens\\doc.pyx\u001b[0m in \u001b[0;36minit spacy.tokens.doc\u001b[1;34m()\u001b[0m\n",
      "\u001b[1;31mImportError\u001b[0m: cannot import name util"
     ]
    }
   ],
   "source": [
    "import PyPDF2\n",
    "import re\n",
    "from docx import Document\n",
    "from pyresparser import ResumeParser\n",
    "import pandas as pd"
   ]
  },
  {
   "cell_type": "code",
   "execution_count": 12,
   "id": "114e0f80",
   "metadata": {},
   "outputs": [],
   "source": [
    "list_file = []\n",
    "list_email = []\n",
    "list_github = []\n",
    "list_linkedin = []\n",
    "list_skills = []"
   ]
  },
  {
   "cell_type": "code",
   "execution_count": 15,
   "id": "a6ce98d8",
   "metadata": {},
   "outputs": [],
   "source": [
    "def email_parsing(file):\n",
    "    list_file.append(file)\n",
    "    email = []\n",
    "    github = []\n",
    "    linked = []\n",
    "    if file.endswith('.pdf'):\n",
    "        f = open(file, 'rb')\n",
    "        filereader = PyPDF2.PdfFileReader(f)\n",
    "        n = filereader.numPages\n",
    "        for i in range(n):\n",
    "            page_obj = filereader.getPage(i)\n",
    "            text = page_obj.extractText()\n",
    "            email_id = re.findall(\"[a-zA-Z0-9_\\.\\*\\-\\+]+@[a-zA-Z0-9]+\\.[a-zA-Z]{2,3}\", text)\n",
    "            if email_id != \"\":\n",
    "                email.extend(email_id)\n",
    "            githubid = re.findall(\"[github]+\\.[com]+\\/[a-zA-Z0-9]+\", text)\n",
    "            if githubid != \"\":\n",
    "                github.extend(githubid)\n",
    "            linkedinid = re.findall(\"/linkedin\\.[com]+\\/[a-zA-Z0-9_\\.\\*\\-\\+]+\", text)\n",
    "            if linkedinid != \"\":\n",
    "                linked.extend(linkedinid)\n",
    "    if file.endswith('.docx'):\n",
    "        doc = Document(file)\n",
    "        for p in doc.paragraphs:\n",
    "            email_id = re.findall(\"[a-zA-Z0-9_\\.\\*\\-\\+]+@[a-zA-Z0-9]+\\.[a-zA-Z]{2,3}\", p.text)\n",
    "            if email_id != \"\":\n",
    "                email.extend(email_id)\n",
    "            githubid = re.findall(\"[github]+\\.[com]+\\/[a-zA-Z0-9]+\", p.text)\n",
    "            if githubid != \"\":\n",
    "                github.extend(githubid)\n",
    "            linkedinid = re.findall(\"/linkedin\\.[com]+\\/[a-zA-Z0-9_\\.\\*\\-\\+]+\", p.text)\n",
    "            if linkedinid != \"\":\n",
    "                linked.extend(linkedinid)\n",
    "    return email, github, linked\n",
    "    \n",
    "    "
   ]
  },
  {
   "cell_type": "code",
   "execution_count": 21,
   "id": "3947e0d8",
   "metadata": {},
   "outputs": [
    {
     "ename": "DeprecationError",
     "evalue": "PdfFileReader is deprecated and was removed in PyPDF2 3.0.0. Use PdfReader instead.",
     "output_type": "error",
     "traceback": [
      "\u001b[1;31m---------------------------------------------------------------------------\u001b[0m",
      "\u001b[1;31mDeprecationError\u001b[0m                          Traceback (most recent call last)",
      "\u001b[1;32mC:\\Users\\RAKSHA~1\\AppData\\Local\\Temp/ipykernel_18152/2876514892.py\u001b[0m in \u001b[0;36m<module>\u001b[1;34m\u001b[0m\n\u001b[1;32m----> 1\u001b[1;33m \u001b[0mt\u001b[0m \u001b[1;33m=\u001b[0m \u001b[0memail_parsing\u001b[0m\u001b[1;33m(\u001b[0m\u001b[1;34m'freasher  (1).pdf'\u001b[0m\u001b[1;33m)\u001b[0m\u001b[1;33m\u001b[0m\u001b[1;33m\u001b[0m\u001b[0m\n\u001b[0m\u001b[0;32m      2\u001b[0m \u001b[0mlist_email\u001b[0m\u001b[1;33m.\u001b[0m\u001b[0mappend\u001b[0m\u001b[1;33m(\u001b[0m\u001b[0mt\u001b[0m\u001b[1;33m[\u001b[0m\u001b[1;36m0\u001b[0m\u001b[1;33m]\u001b[0m\u001b[1;33m)\u001b[0m\u001b[1;33m\u001b[0m\u001b[1;33m\u001b[0m\u001b[0m\n\u001b[0;32m      3\u001b[0m \u001b[0mlist_github\u001b[0m\u001b[1;33m.\u001b[0m\u001b[0mappend\u001b[0m\u001b[1;33m(\u001b[0m\u001b[0mt\u001b[0m\u001b[1;33m[\u001b[0m\u001b[1;36m1\u001b[0m\u001b[1;33m]\u001b[0m\u001b[1;33m)\u001b[0m\u001b[1;33m\u001b[0m\u001b[1;33m\u001b[0m\u001b[0m\n\u001b[0;32m      4\u001b[0m \u001b[0mlist_linkedin\u001b[0m\u001b[1;33m.\u001b[0m\u001b[0mappend\u001b[0m\u001b[1;33m(\u001b[0m\u001b[0mt\u001b[0m\u001b[1;33m[\u001b[0m\u001b[1;36m2\u001b[0m\u001b[1;33m]\u001b[0m\u001b[1;33m)\u001b[0m\u001b[1;33m\u001b[0m\u001b[1;33m\u001b[0m\u001b[0m\n",
      "\u001b[1;32mC:\\Users\\RAKSHA~1\\AppData\\Local\\Temp/ipykernel_18152/4156744288.py\u001b[0m in \u001b[0;36memail_parsing\u001b[1;34m(file)\u001b[0m\n\u001b[0;32m      6\u001b[0m     \u001b[1;32mif\u001b[0m \u001b[0mfile\u001b[0m\u001b[1;33m.\u001b[0m\u001b[0mendswith\u001b[0m\u001b[1;33m(\u001b[0m\u001b[1;34m'.pdf'\u001b[0m\u001b[1;33m)\u001b[0m\u001b[1;33m:\u001b[0m\u001b[1;33m\u001b[0m\u001b[1;33m\u001b[0m\u001b[0m\n\u001b[0;32m      7\u001b[0m         \u001b[0mf\u001b[0m \u001b[1;33m=\u001b[0m \u001b[0mopen\u001b[0m\u001b[1;33m(\u001b[0m\u001b[0mfile\u001b[0m\u001b[1;33m,\u001b[0m \u001b[1;34m'rb'\u001b[0m\u001b[1;33m)\u001b[0m\u001b[1;33m\u001b[0m\u001b[1;33m\u001b[0m\u001b[0m\n\u001b[1;32m----> 8\u001b[1;33m         \u001b[0mfilereader\u001b[0m \u001b[1;33m=\u001b[0m \u001b[0mPyPDF2\u001b[0m\u001b[1;33m.\u001b[0m\u001b[0mPdfFileReader\u001b[0m\u001b[1;33m(\u001b[0m\u001b[0mf\u001b[0m\u001b[1;33m)\u001b[0m\u001b[1;33m\u001b[0m\u001b[1;33m\u001b[0m\u001b[0m\n\u001b[0m\u001b[0;32m      9\u001b[0m         \u001b[0mn\u001b[0m \u001b[1;33m=\u001b[0m \u001b[0mfilereader\u001b[0m\u001b[1;33m.\u001b[0m\u001b[0mnumPages\u001b[0m\u001b[1;33m\u001b[0m\u001b[1;33m\u001b[0m\u001b[0m\n\u001b[0;32m     10\u001b[0m         \u001b[1;32mfor\u001b[0m \u001b[0mi\u001b[0m \u001b[1;32min\u001b[0m \u001b[0mrange\u001b[0m\u001b[1;33m(\u001b[0m\u001b[0mn\u001b[0m\u001b[1;33m)\u001b[0m\u001b[1;33m:\u001b[0m\u001b[1;33m\u001b[0m\u001b[1;33m\u001b[0m\u001b[0m\n",
      "\u001b[1;32m~\\anaconda3\\lib\\site-packages\\PyPDF2\\_reader.py\u001b[0m in \u001b[0;36m__init__\u001b[1;34m(self, *args, **kwargs)\u001b[0m\n\u001b[0;32m   1972\u001b[0m \u001b[1;32mclass\u001b[0m \u001b[0mPdfFileReader\u001b[0m\u001b[1;33m(\u001b[0m\u001b[0mPdfReader\u001b[0m\u001b[1;33m)\u001b[0m\u001b[1;33m:\u001b[0m  \u001b[1;31m# pragma: no cover\u001b[0m\u001b[1;33m\u001b[0m\u001b[1;33m\u001b[0m\u001b[0m\n\u001b[0;32m   1973\u001b[0m     \u001b[1;32mdef\u001b[0m \u001b[0m__init__\u001b[0m\u001b[1;33m(\u001b[0m\u001b[0mself\u001b[0m\u001b[1;33m,\u001b[0m \u001b[1;33m*\u001b[0m\u001b[0margs\u001b[0m\u001b[1;33m:\u001b[0m \u001b[0mAny\u001b[0m\u001b[1;33m,\u001b[0m \u001b[1;33m**\u001b[0m\u001b[0mkwargs\u001b[0m\u001b[1;33m:\u001b[0m \u001b[0mAny\u001b[0m\u001b[1;33m)\u001b[0m \u001b[1;33m->\u001b[0m \u001b[1;32mNone\u001b[0m\u001b[1;33m:\u001b[0m\u001b[1;33m\u001b[0m\u001b[1;33m\u001b[0m\u001b[0m\n\u001b[1;32m-> 1974\u001b[1;33m         \u001b[0mdeprecation_with_replacement\u001b[0m\u001b[1;33m(\u001b[0m\u001b[1;34m\"PdfFileReader\"\u001b[0m\u001b[1;33m,\u001b[0m \u001b[1;34m\"PdfReader\"\u001b[0m\u001b[1;33m,\u001b[0m \u001b[1;34m\"3.0.0\"\u001b[0m\u001b[1;33m)\u001b[0m\u001b[1;33m\u001b[0m\u001b[1;33m\u001b[0m\u001b[0m\n\u001b[0m\u001b[0;32m   1975\u001b[0m         \u001b[1;32mif\u001b[0m \u001b[1;34m\"strict\"\u001b[0m \u001b[1;32mnot\u001b[0m \u001b[1;32min\u001b[0m \u001b[0mkwargs\u001b[0m \u001b[1;32mand\u001b[0m \u001b[0mlen\u001b[0m\u001b[1;33m(\u001b[0m\u001b[0margs\u001b[0m\u001b[1;33m)\u001b[0m \u001b[1;33m<\u001b[0m \u001b[1;36m2\u001b[0m\u001b[1;33m:\u001b[0m\u001b[1;33m\u001b[0m\u001b[1;33m\u001b[0m\u001b[0m\n\u001b[0;32m   1976\u001b[0m             \u001b[0mkwargs\u001b[0m\u001b[1;33m[\u001b[0m\u001b[1;34m\"strict\"\u001b[0m\u001b[1;33m]\u001b[0m \u001b[1;33m=\u001b[0m \u001b[1;32mTrue\u001b[0m  \u001b[1;31m# maintain the default\u001b[0m\u001b[1;33m\u001b[0m\u001b[1;33m\u001b[0m\u001b[0m\n",
      "\u001b[1;32m~\\anaconda3\\lib\\site-packages\\PyPDF2\\_utils.py\u001b[0m in \u001b[0;36mdeprecation_with_replacement\u001b[1;34m(old_name, new_name, removed_in)\u001b[0m\n\u001b[0;32m    367\u001b[0m     \u001b[0mRaise\u001b[0m \u001b[0man\u001b[0m \u001b[0mexception\u001b[0m \u001b[0mthat\u001b[0m \u001b[0ma\u001b[0m \u001b[0mfeature\u001b[0m \u001b[0mwas\u001b[0m \u001b[0malready\u001b[0m \u001b[0mremoved\u001b[0m\u001b[1;33m,\u001b[0m \u001b[0mbut\u001b[0m \u001b[0mhas\u001b[0m \u001b[0ma\u001b[0m \u001b[0mreplacement\u001b[0m\u001b[1;33m.\u001b[0m\u001b[1;33m\u001b[0m\u001b[1;33m\u001b[0m\u001b[0m\n\u001b[0;32m    368\u001b[0m     \"\"\"\n\u001b[1;32m--> 369\u001b[1;33m     \u001b[0mdeprecation\u001b[0m\u001b[1;33m(\u001b[0m\u001b[0mDEPR_MSG_HAPPENED\u001b[0m\u001b[1;33m.\u001b[0m\u001b[0mformat\u001b[0m\u001b[1;33m(\u001b[0m\u001b[0mold_name\u001b[0m\u001b[1;33m,\u001b[0m \u001b[0mremoved_in\u001b[0m\u001b[1;33m,\u001b[0m \u001b[0mnew_name\u001b[0m\u001b[1;33m)\u001b[0m\u001b[1;33m)\u001b[0m\u001b[1;33m\u001b[0m\u001b[1;33m\u001b[0m\u001b[0m\n\u001b[0m\u001b[0;32m    370\u001b[0m \u001b[1;33m\u001b[0m\u001b[0m\n\u001b[0;32m    371\u001b[0m \u001b[1;33m\u001b[0m\u001b[0m\n",
      "\u001b[1;32m~\\anaconda3\\lib\\site-packages\\PyPDF2\\_utils.py\u001b[0m in \u001b[0;36mdeprecation\u001b[1;34m(msg)\u001b[0m\n\u001b[0;32m    349\u001b[0m \u001b[1;33m\u001b[0m\u001b[0m\n\u001b[0;32m    350\u001b[0m \u001b[1;32mdef\u001b[0m \u001b[0mdeprecation\u001b[0m\u001b[1;33m(\u001b[0m\u001b[0mmsg\u001b[0m\u001b[1;33m:\u001b[0m \u001b[0mstr\u001b[0m\u001b[1;33m)\u001b[0m \u001b[1;33m->\u001b[0m \u001b[1;32mNone\u001b[0m\u001b[1;33m:\u001b[0m\u001b[1;33m\u001b[0m\u001b[1;33m\u001b[0m\u001b[0m\n\u001b[1;32m--> 351\u001b[1;33m     \u001b[1;32mraise\u001b[0m \u001b[0mDeprecationError\u001b[0m\u001b[1;33m(\u001b[0m\u001b[0mmsg\u001b[0m\u001b[1;33m)\u001b[0m\u001b[1;33m\u001b[0m\u001b[1;33m\u001b[0m\u001b[0m\n\u001b[0m\u001b[0;32m    352\u001b[0m \u001b[1;33m\u001b[0m\u001b[0m\n\u001b[0;32m    353\u001b[0m \u001b[1;33m\u001b[0m\u001b[0m\n",
      "\u001b[1;31mDeprecationError\u001b[0m: PdfFileReader is deprecated and was removed in PyPDF2 3.0.0. Use PdfReader instead."
     ]
    }
   ],
   "source": [
    "t = email_parsing('freasher  (1).pdf')\n",
    "list_email.append(t[0])\n",
    "list_github.append(t[1])\n",
    "list_linkedin.append(t[2])"
   ]
  },
  {
   "cell_type": "code",
   "execution_count": 5,
   "id": "32e93227",
   "metadata": {},
   "outputs": [],
   "source": [
    "t = email_parsing('20.pdf')\n",
    "list_email.append(t[0])\n",
    "list_github.append(t[1])\n",
    "list_linkedin.append(t[2])"
   ]
  },
  {
   "cell_type": "code",
   "execution_count": 6,
   "id": "c9957121",
   "metadata": {},
   "outputs": [],
   "source": [
    "t = email_parsing('15+ (1).pdf')\n",
    "list_email.append(t[0])\n",
    "list_github.append(t[1])\n",
    "list_linkedin.append(t[2])"
   ]
  },
  {
   "cell_type": "code",
   "execution_count": 7,
   "id": "39a15dac",
   "metadata": {},
   "outputs": [],
   "source": [
    "t = email_parsing('3+.docx')\n",
    "list_email.append(t[0])\n",
    "list_github.append(t[1])\n",
    "list_linkedin.append(t[2])"
   ]
  },
  {
   "cell_type": "code",
   "execution_count": 8,
   "id": "69919be2",
   "metadata": {},
   "outputs": [],
   "source": [
    "t = email_parsing('12+.docx')\n",
    "list_email.append(t[0])\n",
    "list_github.append(t[1])\n",
    "list_linkedin.append(t[2])"
   ]
  },
  {
   "cell_type": "code",
   "execution_count": 9,
   "id": "ec9d3f32",
   "metadata": {},
   "outputs": [],
   "source": [
    "t = email_parsing('4+.docx')\n",
    "list_email.append(t[0])\n",
    "list_github.append(t[1])\n",
    "list_linkedin.append(t[2])"
   ]
  },
  {
   "cell_type": "code",
   "execution_count": 12,
   "id": "a10d9ff5",
   "metadata": {},
   "outputs": [
    {
     "data": {
      "text/plain": [
       "6"
      ]
     },
     "execution_count": 12,
     "metadata": {},
     "output_type": "execute_result"
    }
   ],
   "source": [
    "len(list_linkedin)"
   ]
  },
  {
   "cell_type": "code",
   "execution_count": null,
   "id": "c66272bc",
   "metadata": {},
   "outputs": [],
   "source": [
    "list_email\n",
    "list_github\n",
    "list_linkedin"
   ]
  },
  {
   "cell_type": "code",
   "execution_count": 13,
   "id": "8afd22fe",
   "metadata": {},
   "outputs": [],
   "source": [
    "def resume_parsing_skills(file):\n",
    "    data = ResumeParser(file).get_extracted_data()\n",
    "    list_skills.append(data['skills'])\n",
    "    \n",
    "    "
   ]
  },
  {
   "cell_type": "code",
   "execution_count": 14,
   "id": "08743070",
   "metadata": {},
   "outputs": [
    {
     "name": "stderr",
     "output_type": "stream",
     "text": [
      "UserWarning: [W031] Model 'en_training' (0.0.0) requires spaCy v2.1 and is incompatible with the current spaCy version (2.3.5). This may lead to unexpected results or runtime errors. To resolve this, download a newer compatible model or retrain your custom model with the current spaCy version. For more details and available updates, run: python -m spacy validate [util.py:275]\n"
     ]
    }
   ],
   "source": [
    "resume_parsing_skills('freasher .pdf')"
   ]
  },
  {
   "cell_type": "code",
   "execution_count": 15,
   "id": "22b60b43",
   "metadata": {},
   "outputs": [],
   "source": [
    "resume_parsing_skills('20.pdf')"
   ]
  },
  {
   "cell_type": "code",
   "execution_count": 16,
   "id": "4e0925be",
   "metadata": {},
   "outputs": [],
   "source": [
    "resume_parsing_skills('15+ (1).pdf')"
   ]
  },
  {
   "cell_type": "code",
   "execution_count": 17,
   "id": "445f0d37",
   "metadata": {},
   "outputs": [],
   "source": [
    "resume_parsing_skills('3+.docx')"
   ]
  },
  {
   "cell_type": "code",
   "execution_count": 18,
   "id": "6d6f8d93",
   "metadata": {},
   "outputs": [],
   "source": [
    "resume_parsing_skills('12+.docx')"
   ]
  },
  {
   "cell_type": "code",
   "execution_count": 19,
   "id": "e144320a",
   "metadata": {},
   "outputs": [],
   "source": [
    "resume_parsing_skills('4+.docx')"
   ]
  },
  {
   "cell_type": "code",
   "execution_count": 20,
   "id": "10337d7c",
   "metadata": {},
   "outputs": [
    {
     "data": {
      "text/plain": [
       "[['Keras',\n",
       "  'Technical skills',\n",
       "  'Algorithms',\n",
       "  'Mobile',\n",
       "  'Numpy',\n",
       "  'Email',\n",
       "  'English',\n",
       "  'Analysis',\n",
       "  'Security',\n",
       "  'Jupyter',\n",
       "  'C',\n",
       "  'Wordpress',\n",
       "  'Pandas',\n",
       "  'Hadoop',\n",
       "  'Technical',\n",
       "  'System',\n",
       "  'Engineering',\n",
       "  'Android',\n",
       "  'Statistics',\n",
       "  'Word',\n",
       "  'Html',\n",
       "  'Safety',\n",
       "  'Python',\n",
       "  'Machine learning',\n",
       "  'Github',\n",
       "  'Programming',\n",
       "  'Data analysis',\n",
       "  'Linux',\n",
       "  'Windows',\n",
       "  'Tensorflow'],\n",
       " ['Css',\n",
       "  'Presentation',\n",
       "  'Architecture',\n",
       "  'Standardization',\n",
       "  'Business intelligence',\n",
       "  'Analytics',\n",
       "  'Mysql',\n",
       "  'Proposal',\n",
       "  'Licensing',\n",
       "  'Test cases',\n",
       "  'Research',\n",
       "  'Benchmark',\n",
       "  'Config',\n",
       "  'Windows',\n",
       "  'Php',\n",
       "  'Compliance',\n",
       "  'Ui',\n",
       "  'Ios',\n",
       "  'Health',\n",
       "  'Benchmarking',\n",
       "  'Analyze',\n",
       "  'Testing',\n",
       "  'Ecommerce',\n",
       "  'Js',\n",
       "  'Soap',\n",
       "  'Engineering',\n",
       "  'Spark',\n",
       "  'Outsourcing',\n",
       "  'Certification',\n",
       "  'Communication',\n",
       "  'Ruby',\n",
       "  'Mobile',\n",
       "  'Analysis',\n",
       "  'Scala',\n",
       "  'Scrum',\n",
       "  'Agile',\n",
       "  'Html5',\n",
       "  'Metrics',\n",
       "  'Strategy',\n",
       "  'Twitter',\n",
       "  'C++',\n",
       "  'Routing',\n",
       "  'Electronics',\n",
       "  'Technical',\n",
       "  'System',\n",
       "  'Operations',\n",
       "  'Pattern',\n",
       "  'Healthcare',\n",
       "  'Statistics',\n",
       "  'Html',\n",
       "  'Unix',\n",
       "  'Ux',\n",
       "  'Startup',\n",
       "  'Budget',\n",
       "  'Computer science',\n",
       "  'Web services',\n",
       "  'Hive',\n",
       "  'Machine learning',\n",
       "  'Programming',\n",
       "  'Website',\n",
       "  'Hbase',\n",
       "  'Apis',\n",
       "  'C',\n",
       "  'Tableau',\n",
       "  'Cloud',\n",
       "  'Big data',\n",
       "  'E-commerce',\n",
       "  'Plan',\n",
       "  'Hadoop',\n",
       "  'Retention',\n",
       "  'Android',\n",
       "  'Schedule',\n",
       "  'Process',\n",
       "  'Python',\n",
       "  'Hardware',\n",
       "  'Facebook',\n",
       "  'Visual',\n",
       "  'Aws',\n",
       "  'Design',\n",
       "  'R',\n",
       "  'Program management',\n",
       "  'Java'],\n",
       " ['Algorithms',\n",
       "  'Mobile',\n",
       "  'Numpy',\n",
       "  'Ios',\n",
       "  'Tax',\n",
       "  'Analysis',\n",
       "  'Supervising',\n",
       "  'Mining',\n",
       "  'Analyze',\n",
       "  'Data collection',\n",
       "  'C',\n",
       "  'Agile',\n",
       "  'Profiling',\n",
       "  'Staffing',\n",
       "  'Strategy',\n",
       "  'Legal',\n",
       "  'Standardization',\n",
       "  'Lan',\n",
       "  'Mortgage',\n",
       "  'Construction',\n",
       "  'Testing',\n",
       "  'Finance',\n",
       "  'Payroll',\n",
       "  'Forecasting',\n",
       "  'Telecom',\n",
       "  'Cloud',\n",
       "  'Oracle',\n",
       "  'Big data',\n",
       "  'Sales',\n",
       "  'Ibm',\n",
       "  'Recruitment',\n",
       "  'Sql',\n",
       "  'Pandas',\n",
       "  'Jsp',\n",
       "  'Plan',\n",
       "  'Technical',\n",
       "  'System',\n",
       "  'Operations',\n",
       "  'International',\n",
       "  'Android',\n",
       "  'Reporting',\n",
       "  'Underwriting',\n",
       "  'Schedule',\n",
       "  'Healthcare',\n",
       "  'Automation',\n",
       "  'Process',\n",
       "  'Unix',\n",
       "  'Python',\n",
       "  'Budget',\n",
       "  'Selenium',\n",
       "  'Administration',\n",
       "  'Visual',\n",
       "  'Matplotlib',\n",
       "  'Conversion',\n",
       "  'Data analysis',\n",
       "  'Design',\n",
       "  'Migration',\n",
       "  'Windows',\n",
       "  'Java',\n",
       "  'Database',\n",
       "  'Workflow'],\n",
       " ['Cisco',\n",
       "  'Algorithms',\n",
       "  'Investigation',\n",
       "  'Analytical',\n",
       "  'Technical',\n",
       "  'Engineering',\n",
       "  'English',\n",
       "  'Machine learning',\n",
       "  'Networking',\n",
       "  'Mining',\n",
       "  'Design',\n",
       "  'Servers',\n",
       "  'Sql',\n",
       "  'Modeling',\n",
       "  'Database'],\n",
       " ['Numpy',\n",
       "  'Scipy',\n",
       "  'Analysis',\n",
       "  'Coding',\n",
       "  'Jupyter',\n",
       "  'Analyze',\n",
       "  'Analyze data',\n",
       "  'Iso',\n",
       "  'Forecasting',\n",
       "  'Xgboost',\n",
       "  'Drafting',\n",
       "  'Sql',\n",
       "  'Specifications',\n",
       "  'Analytics',\n",
       "  'Acquisition',\n",
       "  'Pandas',\n",
       "  'Assembly',\n",
       "  'Technical',\n",
       "  'Spyder',\n",
       "  'Engineering',\n",
       "  'Statistics',\n",
       "  'Automation',\n",
       "  'Process',\n",
       "  'Anaconda',\n",
       "  'Modeling',\n",
       "  'Python',\n",
       "  'Technical issues',\n",
       "  'Matplotlib',\n",
       "  'Hive',\n",
       "  'Conversion',\n",
       "  'Migration',\n",
       "  'Design',\n",
       "  'Workflow'],\n",
       " ['Keras',\n",
       "  'Algorithms',\n",
       "  'Os',\n",
       "  'Analysis',\n",
       "  'Supervising',\n",
       "  'Mining',\n",
       "  'Jupyter',\n",
       "  'Scrum',\n",
       "  'Agile',\n",
       "  'Architecture',\n",
       "  'P',\n",
       "  'Forecasting',\n",
       "  'Cloud',\n",
       "  'Scripting',\n",
       "  'Retail',\n",
       "  'Ubuntu',\n",
       "  'Human resources',\n",
       "  'Pycharm',\n",
       "  'Pandas',\n",
       "  'Technical',\n",
       "  'Js',\n",
       "  'System',\n",
       "  'Engineering',\n",
       "  'Distribution',\n",
       "  'Process',\n",
       "  'Java',\n",
       "  'Modeling',\n",
       "  'Python',\n",
       "  'Hardware',\n",
       "  'Engagement',\n",
       "  'Ai',\n",
       "  'Computer science',\n",
       "  'Experimental',\n",
       "  'Banking',\n",
       "  'Matplotlib',\n",
       "  'Machine learning',\n",
       "  'Programming',\n",
       "  'Communication',\n",
       "  'Data analysis',\n",
       "  'Design',\n",
       "  'Windows',\n",
       "  'Tensorflow']]"
      ]
     },
     "execution_count": 20,
     "metadata": {},
     "output_type": "execute_result"
    }
   ],
   "source": [
    "list_skills"
   ]
  },
  {
   "cell_type": "code",
   "execution_count": 21,
   "id": "93f8ef18",
   "metadata": {},
   "outputs": [],
   "source": [
    "import pandas as pd"
   ]
  },
  {
   "cell_type": "code",
   "execution_count": 22,
   "id": "72b92b42",
   "metadata": {},
   "outputs": [],
   "source": [
    "d = {'email_id':list_email, 'github_id':list_github, 'linkedin_id':list_linkedin,'skills':list_skills}"
   ]
  },
  {
   "cell_type": "code",
   "execution_count": 23,
   "id": "92e5f06b",
   "metadata": {},
   "outputs": [],
   "source": [
    "df = pd.DataFrame(d, index=list_file)"
   ]
  },
  {
   "cell_type": "code",
   "execution_count": 24,
   "id": "e33fa31e",
   "metadata": {},
   "outputs": [
    {
     "data": {
      "text/html": [
       "<div>\n",
       "<style scoped>\n",
       "    .dataframe tbody tr th:only-of-type {\n",
       "        vertical-align: middle;\n",
       "    }\n",
       "\n",
       "    .dataframe tbody tr th {\n",
       "        vertical-align: top;\n",
       "    }\n",
       "\n",
       "    .dataframe thead th {\n",
       "        text-align: right;\n",
       "    }\n",
       "</style>\n",
       "<table border=\"1\" class=\"dataframe\">\n",
       "  <thead>\n",
       "    <tr style=\"text-align: right;\">\n",
       "      <th></th>\n",
       "      <th>email_id</th>\n",
       "      <th>github_id</th>\n",
       "      <th>linkedin_id</th>\n",
       "      <th>skills</th>\n",
       "    </tr>\n",
       "  </thead>\n",
       "  <tbody>\n",
       "    <tr>\n",
       "      <th>freasher .pdf</th>\n",
       "      <td>[]</td>\n",
       "      <td>[]</td>\n",
       "      <td>[]</td>\n",
       "      <td>[Keras, Technical skills, Algorithms, Mobile, ...</td>\n",
       "    </tr>\n",
       "    <tr>\n",
       "      <th>20.pdf</th>\n",
       "      <td>[]</td>\n",
       "      <td>[]</td>\n",
       "      <td>[]</td>\n",
       "      <td>[Css, Presentation, Architecture, Standardizat...</td>\n",
       "    </tr>\n",
       "    <tr>\n",
       "      <th>15+ (1).pdf</th>\n",
       "      <td>[]</td>\n",
       "      <td>[]</td>\n",
       "      <td>[]</td>\n",
       "      <td>[Algorithms, Mobile, Numpy, Ios, Tax, Analysis...</td>\n",
       "    </tr>\n",
       "    <tr>\n",
       "      <th>3+.docx</th>\n",
       "      <td>[]</td>\n",
       "      <td>[]</td>\n",
       "      <td>[]</td>\n",
       "      <td>[Cisco, Algorithms, Investigation, Analytical,...</td>\n",
       "    </tr>\n",
       "    <tr>\n",
       "      <th>12+.docx</th>\n",
       "      <td>[]</td>\n",
       "      <td>[]</td>\n",
       "      <td>[]</td>\n",
       "      <td>[Numpy, Scipy, Analysis, Coding, Jupyter, Anal...</td>\n",
       "    </tr>\n",
       "  </tbody>\n",
       "</table>\n",
       "</div>"
      ],
      "text/plain": [
       "              email_id github_id linkedin_id  \\\n",
       "freasher .pdf       []        []          []   \n",
       "20.pdf              []        []          []   \n",
       "15+ (1).pdf         []        []          []   \n",
       "3+.docx             []        []          []   \n",
       "12+.docx            []        []          []   \n",
       "\n",
       "                                                          skills  \n",
       "freasher .pdf  [Keras, Technical skills, Algorithms, Mobile, ...  \n",
       "20.pdf         [Css, Presentation, Architecture, Standardizat...  \n",
       "15+ (1).pdf    [Algorithms, Mobile, Numpy, Ios, Tax, Analysis...  \n",
       "3+.docx        [Cisco, Algorithms, Investigation, Analytical,...  \n",
       "12+.docx       [Numpy, Scipy, Analysis, Coding, Jupyter, Anal...  "
      ]
     },
     "execution_count": 24,
     "metadata": {},
     "output_type": "execute_result"
    }
   ],
   "source": [
    "df.head()"
   ]
  },
  {
   "cell_type": "code",
   "execution_count": null,
   "id": "2b5caa91",
   "metadata": {},
   "outputs": [],
   "source": []
  },
  {
   "cell_type": "code",
   "execution_count": null,
   "id": "d41d5449",
   "metadata": {},
   "outputs": [],
   "source": []
  },
  {
   "cell_type": "code",
   "execution_count": null,
   "id": "173fb98a",
   "metadata": {},
   "outputs": [],
   "source": []
  },
  {
   "cell_type": "code",
   "execution_count": null,
   "id": "98cc0be7",
   "metadata": {},
   "outputs": [],
   "source": []
  }
 ],
 "metadata": {
  "kernelspec": {
   "display_name": "Python 3 (ipykernel)",
   "language": "python",
   "name": "python3"
  },
  "language_info": {
   "codemirror_mode": {
    "name": "ipython",
    "version": 3
   },
   "file_extension": ".py",
   "mimetype": "text/x-python",
   "name": "python",
   "nbconvert_exporter": "python",
   "pygments_lexer": "ipython3",
   "version": "3.9.7"
  }
 },
 "nbformat": 4,
 "nbformat_minor": 5
}
