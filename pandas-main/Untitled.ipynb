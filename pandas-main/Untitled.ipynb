{
 "cells": [
  {
   "cell_type": "code",
   "execution_count": null,
   "id": "e798fa93",
   "metadata": {},
   "outputs": [],
   "source": [
    "import re\n",
    "from docx import Document\n",
    "from PyPDF2 import PdfReader\n",
    "\n",
    "def extract_information(file):\n",
    "    email = []\n",
    "    github = []\n",
    "    linkedin = []\n",
    "\n",
    "    if file.endswith('.pdf'):\n",
    "        pdf = PdfReader(open(file, 'rb'))\n",
    "        for page in pdf.pages:\n",
    "            text = page.extract_text()\n",
    "            email.extend(re.findall(r'[a-zA-Z0-9_\\.\\*\\-\\+]+@[a-zA-Z0-9]+\\.[a-zA-Z]{2,3}', text))\n",
    "            github.extend(re.findall(r'github\\.com/[a-zA-Z0-9]+', text))\n",
    "            linkedin.extend(re.findall(r'linkedin\\.com/[a-zA-Z0-9_\\.\\*\\-\\+]+', text))\n",
    "\n",
    "    if file.endswith('.docx'):\n",
    "        doc = Document(file)\n",
    "        for paragraph in doc.paragraphs:\n",
    "            text = paragraph.text\n",
    "            email.extend(re.findall(r'[a-zA-Z0-9_\\.\\*\\-\\+]+@[a-zA-Z0-9]+\\.[a-zA-Z]{2,3}', text))\n",
    "            github.extend(re.findall(r'github\\.com/[a-zA-Z0-9]+', text))\n",
    "            linkedin.extend(re.findall(r'linkedin\\.com/[a-zA-Z0-9_\\.\\*\\-\\+]+', text))\n",
    "\n",
    "    return email, github, linkedin\n",
    "\n",
    "# Example usage:\n",
    "email, github, linkedin = extract_information(\"D:\\\\Machine_Learning_Final_All\\\\Python_Task_All\\\\pandas-main\\\\freasher  (1).pdf\")\n"
   ]
  },
  {
   "cell_type": "code",
   "execution_count": null,
   "id": "c4bf1812",
   "metadata": {},
   "outputs": [],
   "source": [
    "email"
   ]
  },
  {
   "cell_type": "code",
   "execution_count": null,
   "id": "98c0dd45",
   "metadata": {},
   "outputs": [],
   "source": [
    "github"
   ]
  },
  {
   "cell_type": "code",
   "execution_count": null,
   "id": "38a6869d",
   "metadata": {},
   "outputs": [],
   "source": [
    "def resume_parsing_skills(file):\n",
    "    data = ResumeParser(file).get_extracted_data()\n",
    "    list_skills.append(data['skills'])\n",
    "    \n",
    "resume_parsing_skills(\"D:\\\\Machine_Learning_Final_All\\\\Python_Task_All\\\\pandas-main\\\\freasher  (1).pdf\")  "
   ]
  },
  {
   "cell_type": "code",
   "execution_count": null,
   "id": "e9aa4630",
   "metadata": {},
   "outputs": [],
   "source": [
    "from pyresparser import ResumeParser\n",
    "\n",
    "def resume_parsing_skills(file):\n",
    "    data = ResumeParser(file).get_extracted_data()\n",
    "    list_skills.append(data['skills'])\n",
    "    \n",
    "resume_parsing_skills(\"D:\\\\Machine_Learning_Final_All\\\\Python_Task_All\\\\pandas-main\\\\freasher  (1).pdf\")\n"
   ]
  },
  {
   "cell_type": "code",
   "execution_count": null,
   "id": "af89b4af",
   "metadata": {},
   "outputs": [],
   "source": [
    "import spacy\n",
    "print(spacy.__version__)\n"
   ]
  },
  {
   "cell_type": "code",
   "execution_count": null,
   "id": "2c0b4cc3",
   "metadata": {},
   "outputs": [],
   "source": [
    "import spacy\n",
    "import pydantic\n",
    "print(spacy.__version__)\n",
    "print(pydantic.__version__)\n"
   ]
  },
  {
   "cell_type": "code",
   "execution_count": null,
   "id": "c2bc3683",
   "metadata": {},
   "outputs": [],
   "source": [
    "!pip uninstall spacy "
   ]
  },
  {
   "cell_type": "code",
   "execution_count": null,
   "id": "d0b28284",
   "metadata": {},
   "outputs": [],
   "source": []
  },
  {
   "cell_type": "code",
   "execution_count": null,
   "id": "436babea",
   "metadata": {},
   "outputs": [],
   "source": []
  }
 ],
 "metadata": {
  "kernelspec": {
   "display_name": "Python 3 (ipykernel)",
   "language": "python",
   "name": "python3"
  },
  "language_info": {
   "codemirror_mode": {
    "name": "ipython",
    "version": 3
   },
   "file_extension": ".py",
   "mimetype": "text/x-python",
   "name": "python",
   "nbconvert_exporter": "python",
   "pygments_lexer": "ipython3",
   "version": "3.9.7"
  }
 },
 "nbformat": 4,
 "nbformat_minor": 5
}
